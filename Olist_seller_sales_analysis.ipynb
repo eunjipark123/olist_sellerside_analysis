{
  "nbformat": 4,
  "nbformat_minor": 0,
  "metadata": {
    "colab": {
      "provenance": [],
      "mount_file_id": "1dc-PpqEh2CWOrcwBvTJty1n8K6tjZq5u",
      "authorship_tag": "ABX9TyPSH5qkeaGE6VPuYX0ZSfHJ",
      "include_colab_link": true
    },
    "kernelspec": {
      "name": "python3",
      "display_name": "Python 3"
    },
    "language_info": {
      "name": "python"
    }
  },
  "cells": [
    {
      "cell_type": "markdown",
      "metadata": {
        "id": "view-in-github",
        "colab_type": "text"
      },
      "source": [
        "<a href=\"https://colab.research.google.com/github/eunjipark123/olist_sellerside_analysis/blob/main/Olist_seller_sales_analysis.ipynb\" target=\"_parent\"><img src=\"https://colab.research.google.com/assets/colab-badge.svg\" alt=\"Open In Colab\"/></a>"
      ]
    },
    {
      "cell_type": "markdown",
      "source": [
        "# I. 준비\n",
        "## 1. 분석에 필요한 라이브러리와 파일 불러오기"
      ],
      "metadata": {
        "id": "_EMCw-TZiICj"
      }
    },
    {
      "cell_type": "code",
      "execution_count": null,
      "metadata": {
        "id": "4YQygFIKBq_Z"
      },
      "outputs": [],
      "source": [
        "import pandas as pd\n",
        "import matplotlib.pyplot as plt"
      ]
    },
    {
      "cell_type": "code",
      "source": [
        "# 마케팅 채널 분석에 필요한 자료 리드\n",
        "\n",
        "closed_deals = pd.read_csv(\"/content/drive/MyDrive/olist/01_dataset/olist_closed_deals_dataset.csv\")\n",
        "#customers = pd.read_csv(\"/content/drive/MyDrive/olist/01_dataset/olist_customers_dataset.csv\")\n",
        "#location = pd.read_csv(\"/content/drive/MyDrive/olist/01_dataset/olist_geolocation_dataset.csv\")\n",
        "mql = pd.read_csv(\"/content/drive/MyDrive/olist/01_dataset/olist_marketing_qualified_leads_dataset.csv\")\n",
        "orders = pd.read_csv(\"/content/drive/MyDrive/olist/01_dataset/olist_orders_dataset.csv\")\n",
        "order_items = pd.read_csv(\"/content/drive/MyDrive/olist/01_dataset/olist_order_items_dataset.csv\")\n",
        "order_payments = pd.read_csv(\"/content/drive/MyDrive/olist/01_dataset/olist_order_payments_dataset.csv\")\n",
        "products = pd.read_csv(\"/content/drive/MyDrive/olist/01_dataset/olist_products_dataset.csv\")\n",
        "sellers = pd.read_csv(\"/content/drive/MyDrive/olist/01_dataset/olist_sellers_dataset.csv\")\n",
        "categories = pd.read_csv(\"/content/drive/MyDrive/olist/01_dataset/product_category_name_translation.csv\")"
      ],
      "metadata": {
        "id": "SvIahUG_Bs7n"
      },
      "execution_count": null,
      "outputs": []
    },
    {
      "cell_type": "markdown",
      "source": [
        "## 2. 테이블 확인"
      ],
      "metadata": {
        "id": "rNIkFJseimnj"
      }
    },
    {
      "cell_type": "code",
      "source": [
        "mql.info()"
      ],
      "metadata": {
        "colab": {
          "base_uri": "https://localhost:8080/"
        },
        "id": "cL1qqNukoV7w",
        "outputId": "72556bf6-cc7d-44be-ad4a-27b823df330d"
      },
      "execution_count": null,
      "outputs": [
        {
          "output_type": "stream",
          "name": "stdout",
          "text": [
            "<class 'pandas.core.frame.DataFrame'>\n",
            "RangeIndex: 8000 entries, 0 to 7999\n",
            "Data columns (total 4 columns):\n",
            " #   Column              Non-Null Count  Dtype \n",
            "---  ------              --------------  ----- \n",
            " 0   mql_id              8000 non-null   object\n",
            " 1   first_contact_date  8000 non-null   object\n",
            " 2   landing_page_id     8000 non-null   object\n",
            " 3   origin              7940 non-null   object\n",
            "dtypes: object(4)\n",
            "memory usage: 250.1+ KB\n"
          ]
        }
      ]
    },
    {
      "cell_type": "code",
      "source": [
        "closed_deals.info()"
      ],
      "metadata": {
        "id": "tOP-ZGACrHDU",
        "outputId": "e41db4a9-e68c-4b52-f673-72cab843fe59",
        "colab": {
          "base_uri": "https://localhost:8080/"
        }
      },
      "execution_count": null,
      "outputs": [
        {
          "output_type": "stream",
          "name": "stdout",
          "text": [
            "<class 'pandas.core.frame.DataFrame'>\n",
            "RangeIndex: 842 entries, 0 to 841\n",
            "Data columns (total 14 columns):\n",
            " #   Column                         Non-Null Count  Dtype  \n",
            "---  ------                         --------------  -----  \n",
            " 0   mql_id                         842 non-null    object \n",
            " 1   seller_id                      842 non-null    object \n",
            " 2   sdr_id                         842 non-null    object \n",
            " 3   sr_id                          842 non-null    object \n",
            " 4   won_date                       842 non-null    object \n",
            " 5   business_segment               841 non-null    object \n",
            " 6   lead_type                      836 non-null    object \n",
            " 7   lead_behaviour_profile         665 non-null    object \n",
            " 8   has_company                    63 non-null     object \n",
            " 9   has_gtin                       64 non-null     object \n",
            " 10  average_stock                  66 non-null     object \n",
            " 11  business_type                  832 non-null    object \n",
            " 12  declared_product_catalog_size  69 non-null     float64\n",
            " 13  declared_monthly_revenue       842 non-null    float64\n",
            "dtypes: float64(2), object(12)\n",
            "memory usage: 92.2+ KB\n"
          ]
        }
      ]
    },
    {
      "cell_type": "code",
      "source": [
        "# mql 채널 정보\n",
        "mql['origin'].value_counts()"
      ],
      "metadata": {
        "colab": {
          "base_uri": "https://localhost:8080/"
        },
        "id": "Bvn84p6Vi7Gu",
        "outputId": "cba2ed40-f5b3-4e8b-a695-d47b18ecbb32"
      },
      "execution_count": null,
      "outputs": [
        {
          "output_type": "execute_result",
          "data": {
            "text/plain": [
              "organic_search       2296\n",
              "paid_search          1586\n",
              "social               1350\n",
              "unknown              1099\n",
              "direct_traffic        499\n",
              "email                 493\n",
              "referral              284\n",
              "other                 150\n",
              "display               118\n",
              "other_publicities      65\n",
              "Name: origin, dtype: int64"
            ]
          },
          "metadata": {},
          "execution_count": 5
        }
      ]
    },
    {
      "cell_type": "code",
      "source": [
        "mql['landing_page_id'].value_counts()"
      ],
      "metadata": {
        "colab": {
          "base_uri": "https://localhost:8080/"
        },
        "id": "VQrntQbJk5ss",
        "outputId": "4845308c-545e-4f8c-8fdf-7390efed439c"
      },
      "execution_count": null,
      "outputs": [
        {
          "output_type": "execute_result",
          "data": {
            "text/plain": [
              "b76ef37428e6799c421989521c0e5077    912\n",
              "22c29808c4f815213303f8933030604c    883\n",
              "58326e62183c14b0c03085c33b9fdc44    495\n",
              "88740e65d5d6b056e0cda098e1ea6313    445\n",
              "ce1a65abd0973638f1c887a6efcfa82d    394\n",
              "                                   ... \n",
              "8999524db83541c7f1ad48906d5d4b86      1\n",
              "be7f31219be243061a39a4a158898688      1\n",
              "ea4434c9a6df0098e720204ba3dbb76d      1\n",
              "e5eaa929c6697d69cd76727daa809042      1\n",
              "3683ba5726e741af4b8b02bcaef4e7b3      1\n",
              "Name: landing_page_id, Length: 495, dtype: int64"
            ]
          },
          "metadata": {},
          "execution_count": 6
        }
      ]
    },
    {
      "cell_type": "code",
      "source": [
        "mql[mql['origin'].isna()].count()"
      ],
      "metadata": {
        "colab": {
          "base_uri": "https://localhost:8080/"
        },
        "id": "hIRwHMwOkjoT",
        "outputId": "f0d26912-c3af-46ee-c3a6-6074224446b0"
      },
      "execution_count": null,
      "outputs": [
        {
          "output_type": "execute_result",
          "data": {
            "text/plain": [
              "mql_id                60\n",
              "first_contact_date    60\n",
              "landing_page_id       60\n",
              "origin                 0\n",
              "dtype: int64"
            ]
          },
          "metadata": {},
          "execution_count": 17
        }
      ]
    },
    {
      "cell_type": "code",
      "source": [
        "closed_deals.info()"
      ],
      "metadata": {
        "colab": {
          "base_uri": "https://localhost:8080/"
        },
        "id": "-vaIm0S8Bbkk",
        "outputId": "7ffa4899-1e11-4cc8-a5b8-167be572138d"
      },
      "execution_count": null,
      "outputs": [
        {
          "output_type": "stream",
          "name": "stdout",
          "text": [
            "<class 'pandas.core.frame.DataFrame'>\n",
            "RangeIndex: 842 entries, 0 to 841\n",
            "Data columns (total 14 columns):\n",
            " #   Column                         Non-Null Count  Dtype  \n",
            "---  ------                         --------------  -----  \n",
            " 0   mql_id                         842 non-null    object \n",
            " 1   seller_id                      842 non-null    object \n",
            " 2   sdr_id                         842 non-null    object \n",
            " 3   sr_id                          842 non-null    object \n",
            " 4   won_date                       842 non-null    object \n",
            " 5   business_segment               841 non-null    object \n",
            " 6   lead_type                      836 non-null    object \n",
            " 7   lead_behaviour_profile         665 non-null    object \n",
            " 8   has_company                    63 non-null     object \n",
            " 9   has_gtin                       64 non-null     object \n",
            " 10  average_stock                  66 non-null     object \n",
            " 11  business_type                  832 non-null    object \n",
            " 12  declared_product_catalog_size  69 non-null     float64\n",
            " 13  declared_monthly_revenue       842 non-null    float64\n",
            "dtypes: float64(2), object(12)\n",
            "memory usage: 92.2+ KB\n"
          ]
        }
      ]
    },
    {
      "cell_type": "code",
      "source": [
        "# closed_deals의 'has_company'가 False인 값 찾기 -> False인 행이 존재하므로 nan값이 무조건 False를 의미하지 않을 것\n",
        "closed_deals[closed_deals['has_company'] == False]"
      ],
      "metadata": {
        "colab": {
          "base_uri": "https://localhost:8080/",
          "height": 391
        },
        "id": "U32qRh3Xp8JF",
        "outputId": "757a25f7-0f77-4ab7-f02d-95d4ec366995"
      },
      "execution_count": null,
      "outputs": [
        {
          "output_type": "execute_result",
          "data": {
            "text/plain": [
              "                               mql_id                         seller_id  \\\n",
              "41   20fcec0873b39b4df3df34140d77d6e7  cee3c487c56d29554a22d112af618301   \n",
              "356  3fc2d2c3597b3e7b87c17651f98f6c22  6514418ce691fad2663207c14a1fc1f4   \n",
              "511  dada30935bcfc75c69e651430ea8815f  f2c87addc7e39e1c73457c4ec85ed728   \n",
              "518  63d196328512c582293ce6c845521bb6  1fe5540d7c1c37a595fefbacd5570d9e   \n",
              "579  00dc5000951c268cc8655294daf67b1b  00065220becb8785e2cf78355eb9bf68   \n",
              "\n",
              "                               sdr_id                             sr_id  \\\n",
              "41   084b6fbb10729ed4da8c3d3f5a3ae7c9  0a0fb2b07d841f84fb6714e35c723075   \n",
              "356  b90f87164b5f8c2cfa5c8572834dbe3f  9ae085775a198122c5586fa830ff7f2b   \n",
              "511  33dd30594303eb0ebe12a556d612c437  4b339f9567d060bcea4f5136b9f5949e   \n",
              "518  0a0fb2b07d841f84fb6714e35c723075  34d40cdaf94010a1d05b0d6212f9e909   \n",
              "579  9d12ef1a7eca3ec58c545c678af7869c  de63de0d10a6012430098db33c679b0b   \n",
              "\n",
              "                won_date business_segment      lead_type  \\\n",
              "41   2018-11-14 18:04:19            other          other   \n",
              "356  2018-08-28 21:30:52       food_drink       industry   \n",
              "511  2018-09-27 17:36:04   bed_bath_table  online_medium   \n",
              "518  2018-07-20 18:18:14        computers  online_medium   \n",
              "579  2018-07-10 11:34:50      handcrafted  online_medium   \n",
              "\n",
              "    lead_behaviour_profile has_company has_gtin average_stock business_type  \\\n",
              "41                     cat       False    False           1-5         other   \n",
              "356                    cat       False     True        50-200      reseller   \n",
              "511                    cat       False     True        50-200      reseller   \n",
              "518                  eagle       False     True        50-200      reseller   \n",
              "579                    cat       False    False         20-50      reseller   \n",
              "\n",
              "     declared_product_catalog_size  declared_monthly_revenue  \n",
              "41                           120.0                    6000.0  \n",
              "356                            NaN                       0.0  \n",
              "511                           85.0                       0.0  \n",
              "518                            NaN                       0.0  \n",
              "579                            NaN                       0.0  "
            ],
            "text/html": [
              "\n",
              "  <div id=\"df-31f7e073-750e-44c1-b679-5d52ccffb340\">\n",
              "    <div class=\"colab-df-container\">\n",
              "      <div>\n",
              "<style scoped>\n",
              "    .dataframe tbody tr th:only-of-type {\n",
              "        vertical-align: middle;\n",
              "    }\n",
              "\n",
              "    .dataframe tbody tr th {\n",
              "        vertical-align: top;\n",
              "    }\n",
              "\n",
              "    .dataframe thead th {\n",
              "        text-align: right;\n",
              "    }\n",
              "</style>\n",
              "<table border=\"1\" class=\"dataframe\">\n",
              "  <thead>\n",
              "    <tr style=\"text-align: right;\">\n",
              "      <th></th>\n",
              "      <th>mql_id</th>\n",
              "      <th>seller_id</th>\n",
              "      <th>sdr_id</th>\n",
              "      <th>sr_id</th>\n",
              "      <th>won_date</th>\n",
              "      <th>business_segment</th>\n",
              "      <th>lead_type</th>\n",
              "      <th>lead_behaviour_profile</th>\n",
              "      <th>has_company</th>\n",
              "      <th>has_gtin</th>\n",
              "      <th>average_stock</th>\n",
              "      <th>business_type</th>\n",
              "      <th>declared_product_catalog_size</th>\n",
              "      <th>declared_monthly_revenue</th>\n",
              "    </tr>\n",
              "  </thead>\n",
              "  <tbody>\n",
              "    <tr>\n",
              "      <th>41</th>\n",
              "      <td>20fcec0873b39b4df3df34140d77d6e7</td>\n",
              "      <td>cee3c487c56d29554a22d112af618301</td>\n",
              "      <td>084b6fbb10729ed4da8c3d3f5a3ae7c9</td>\n",
              "      <td>0a0fb2b07d841f84fb6714e35c723075</td>\n",
              "      <td>2018-11-14 18:04:19</td>\n",
              "      <td>other</td>\n",
              "      <td>other</td>\n",
              "      <td>cat</td>\n",
              "      <td>False</td>\n",
              "      <td>False</td>\n",
              "      <td>1-5</td>\n",
              "      <td>other</td>\n",
              "      <td>120.0</td>\n",
              "      <td>6000.0</td>\n",
              "    </tr>\n",
              "    <tr>\n",
              "      <th>356</th>\n",
              "      <td>3fc2d2c3597b3e7b87c17651f98f6c22</td>\n",
              "      <td>6514418ce691fad2663207c14a1fc1f4</td>\n",
              "      <td>b90f87164b5f8c2cfa5c8572834dbe3f</td>\n",
              "      <td>9ae085775a198122c5586fa830ff7f2b</td>\n",
              "      <td>2018-08-28 21:30:52</td>\n",
              "      <td>food_drink</td>\n",
              "      <td>industry</td>\n",
              "      <td>cat</td>\n",
              "      <td>False</td>\n",
              "      <td>True</td>\n",
              "      <td>50-200</td>\n",
              "      <td>reseller</td>\n",
              "      <td>NaN</td>\n",
              "      <td>0.0</td>\n",
              "    </tr>\n",
              "    <tr>\n",
              "      <th>511</th>\n",
              "      <td>dada30935bcfc75c69e651430ea8815f</td>\n",
              "      <td>f2c87addc7e39e1c73457c4ec85ed728</td>\n",
              "      <td>33dd30594303eb0ebe12a556d612c437</td>\n",
              "      <td>4b339f9567d060bcea4f5136b9f5949e</td>\n",
              "      <td>2018-09-27 17:36:04</td>\n",
              "      <td>bed_bath_table</td>\n",
              "      <td>online_medium</td>\n",
              "      <td>cat</td>\n",
              "      <td>False</td>\n",
              "      <td>True</td>\n",
              "      <td>50-200</td>\n",
              "      <td>reseller</td>\n",
              "      <td>85.0</td>\n",
              "      <td>0.0</td>\n",
              "    </tr>\n",
              "    <tr>\n",
              "      <th>518</th>\n",
              "      <td>63d196328512c582293ce6c845521bb6</td>\n",
              "      <td>1fe5540d7c1c37a595fefbacd5570d9e</td>\n",
              "      <td>0a0fb2b07d841f84fb6714e35c723075</td>\n",
              "      <td>34d40cdaf94010a1d05b0d6212f9e909</td>\n",
              "      <td>2018-07-20 18:18:14</td>\n",
              "      <td>computers</td>\n",
              "      <td>online_medium</td>\n",
              "      <td>eagle</td>\n",
              "      <td>False</td>\n",
              "      <td>True</td>\n",
              "      <td>50-200</td>\n",
              "      <td>reseller</td>\n",
              "      <td>NaN</td>\n",
              "      <td>0.0</td>\n",
              "    </tr>\n",
              "    <tr>\n",
              "      <th>579</th>\n",
              "      <td>00dc5000951c268cc8655294daf67b1b</td>\n",
              "      <td>00065220becb8785e2cf78355eb9bf68</td>\n",
              "      <td>9d12ef1a7eca3ec58c545c678af7869c</td>\n",
              "      <td>de63de0d10a6012430098db33c679b0b</td>\n",
              "      <td>2018-07-10 11:34:50</td>\n",
              "      <td>handcrafted</td>\n",
              "      <td>online_medium</td>\n",
              "      <td>cat</td>\n",
              "      <td>False</td>\n",
              "      <td>False</td>\n",
              "      <td>20-50</td>\n",
              "      <td>reseller</td>\n",
              "      <td>NaN</td>\n",
              "      <td>0.0</td>\n",
              "    </tr>\n",
              "  </tbody>\n",
              "</table>\n",
              "</div>\n",
              "      <button class=\"colab-df-convert\" onclick=\"convertToInteractive('df-31f7e073-750e-44c1-b679-5d52ccffb340')\"\n",
              "              title=\"Convert this dataframe to an interactive table.\"\n",
              "              style=\"display:none;\">\n",
              "        \n",
              "  <svg xmlns=\"http://www.w3.org/2000/svg\" height=\"24px\"viewBox=\"0 0 24 24\"\n",
              "       width=\"24px\">\n",
              "    <path d=\"M0 0h24v24H0V0z\" fill=\"none\"/>\n",
              "    <path d=\"M18.56 5.44l.94 2.06.94-2.06 2.06-.94-2.06-.94-.94-2.06-.94 2.06-2.06.94zm-11 1L8.5 8.5l.94-2.06 2.06-.94-2.06-.94L8.5 2.5l-.94 2.06-2.06.94zm10 10l.94 2.06.94-2.06 2.06-.94-2.06-.94-.94-2.06-.94 2.06-2.06.94z\"/><path d=\"M17.41 7.96l-1.37-1.37c-.4-.4-.92-.59-1.43-.59-.52 0-1.04.2-1.43.59L10.3 9.45l-7.72 7.72c-.78.78-.78 2.05 0 2.83L4 21.41c.39.39.9.59 1.41.59.51 0 1.02-.2 1.41-.59l7.78-7.78 2.81-2.81c.8-.78.8-2.07 0-2.86zM5.41 20L4 18.59l7.72-7.72 1.47 1.35L5.41 20z\"/>\n",
              "  </svg>\n",
              "      </button>\n",
              "      \n",
              "  <style>\n",
              "    .colab-df-container {\n",
              "      display:flex;\n",
              "      flex-wrap:wrap;\n",
              "      gap: 12px;\n",
              "    }\n",
              "\n",
              "    .colab-df-convert {\n",
              "      background-color: #E8F0FE;\n",
              "      border: none;\n",
              "      border-radius: 50%;\n",
              "      cursor: pointer;\n",
              "      display: none;\n",
              "      fill: #1967D2;\n",
              "      height: 32px;\n",
              "      padding: 0 0 0 0;\n",
              "      width: 32px;\n",
              "    }\n",
              "\n",
              "    .colab-df-convert:hover {\n",
              "      background-color: #E2EBFA;\n",
              "      box-shadow: 0px 1px 2px rgba(60, 64, 67, 0.3), 0px 1px 3px 1px rgba(60, 64, 67, 0.15);\n",
              "      fill: #174EA6;\n",
              "    }\n",
              "\n",
              "    [theme=dark] .colab-df-convert {\n",
              "      background-color: #3B4455;\n",
              "      fill: #D2E3FC;\n",
              "    }\n",
              "\n",
              "    [theme=dark] .colab-df-convert:hover {\n",
              "      background-color: #434B5C;\n",
              "      box-shadow: 0px 1px 3px 1px rgba(0, 0, 0, 0.15);\n",
              "      filter: drop-shadow(0px 1px 2px rgba(0, 0, 0, 0.3));\n",
              "      fill: #FFFFFF;\n",
              "    }\n",
              "  </style>\n",
              "\n",
              "      <script>\n",
              "        const buttonEl =\n",
              "          document.querySelector('#df-31f7e073-750e-44c1-b679-5d52ccffb340 button.colab-df-convert');\n",
              "        buttonEl.style.display =\n",
              "          google.colab.kernel.accessAllowed ? 'block' : 'none';\n",
              "\n",
              "        async function convertToInteractive(key) {\n",
              "          const element = document.querySelector('#df-31f7e073-750e-44c1-b679-5d52ccffb340');\n",
              "          const dataTable =\n",
              "            await google.colab.kernel.invokeFunction('convertToInteractive',\n",
              "                                                     [key], {});\n",
              "          if (!dataTable) return;\n",
              "\n",
              "          const docLinkHtml = 'Like what you see? Visit the ' +\n",
              "            '<a target=\"_blank\" href=https://colab.research.google.com/notebooks/data_table.ipynb>data table notebook</a>'\n",
              "            + ' to learn more about interactive tables.';\n",
              "          element.innerHTML = '';\n",
              "          dataTable['output_type'] = 'display_data';\n",
              "          await google.colab.output.renderOutput(dataTable, element);\n",
              "          const docLink = document.createElement('div');\n",
              "          docLink.innerHTML = docLinkHtml;\n",
              "          element.appendChild(docLink);\n",
              "        }\n",
              "      </script>\n",
              "    </div>\n",
              "  </div>\n",
              "  "
            ]
          },
          "metadata": {},
          "execution_count": 19
        }
      ]
    },
    {
      "cell_type": "code",
      "source": [
        "# business_type에 어떤 값들이 있는지 확인\n",
        "closed_deals['business_type'].unique()"
      ],
      "metadata": {
        "colab": {
          "base_uri": "https://localhost:8080/"
        },
        "id": "DY8U0lU-COlZ",
        "outputId": "c95727e2-eb61-4c67-98c9-0e1e52f38f37"
      },
      "execution_count": null,
      "outputs": [
        {
          "output_type": "execute_result",
          "data": {
            "text/plain": [
              "array(['reseller', 'manufacturer', 'other', nan], dtype=object)"
            ]
          },
          "metadata": {},
          "execution_count": 20
        }
      ]
    },
    {
      "cell_type": "markdown",
      "source": [
        "## 3. 필요한 테이블 준비하기"
      ],
      "metadata": {
        "id": "MhuzmjELp2jF"
      }
    },
    {
      "cell_type": "markdown",
      "source": [
        "### 기본 테이블 : marketing_funnel"
      ],
      "metadata": {
        "id": "CAL47NmiNDAI"
      }
    },
    {
      "cell_type": "code",
      "source": [
        "# 마케팅 퍼널 : 리드가 olist 회원가입하고 SDR이 first_contact를 한 이후 -> 계약 체결까지\n",
        "# mql 테이블과 closed_deals 테이블이 1:1 관계이므로 중복 이슈 없음\n",
        "marketing_funnel = mql.merge(closed_deals, how = 'left', on = 'mql_id')"
      ],
      "metadata": {
        "id": "9vcU_5iuLDQl"
      },
      "execution_count": null,
      "outputs": []
    },
    {
      "cell_type": "markdown",
      "source": [
        "### 시도1. 마케팅 퍼널과 order_items 테이블 조인 (order_items 테이블 수정 없음)"
      ],
      "metadata": {
        "id": "OeOEhtF9M8pu"
      }
    },
    {
      "cell_type": "code",
      "source": [
        "mf_items = marketing_funnel.merge(order_items, how = 'left', on = 'seller_id')\n",
        "mf_items.head(5)"
      ],
      "metadata": {
        "colab": {
          "base_uri": "https://localhost:8080/",
          "height": 334
        },
        "id": "O7Ws_8RZNO8m",
        "outputId": "7e360c22-fd67-4144-9f36-fe569d7bef8b"
      },
      "execution_count": null,
      "outputs": [
        {
          "output_type": "execute_result",
          "data": {
            "text/plain": [
              "                             mql_id first_contact_date  \\\n",
              "0  dac32acd4db4c29c230538b72f8dd87d         2018-02-01   \n",
              "1  8c18d1de7f67e60dbd64e3c07d7e9d5d         2017-10-20   \n",
              "2  b4bc852d233dfefc5131f593b538befa         2018-03-22   \n",
              "3  6be030b81c75970747525b843c1ef4f8         2018-01-22   \n",
              "4  5420aad7fec3549a85876ba1c529bd84         2018-02-21   \n",
              "\n",
              "                    landing_page_id          origin  \\\n",
              "0  88740e65d5d6b056e0cda098e1ea6313          social   \n",
              "1  007f9098284a86ee80ddeb25d53e0af8     paid_search   \n",
              "2  a7982125ff7aa3b2054c6e44f9d28522  organic_search   \n",
              "3  d45d558f0daeecf3cccdffe3c59684aa           email   \n",
              "4  b48ec5f3b04e9068441002a19df93c6c  organic_search   \n",
              "\n",
              "                          seller_id                            sdr_id  \\\n",
              "0                               NaN                               NaN   \n",
              "1                               NaN                               NaN   \n",
              "2                               NaN                               NaN   \n",
              "3                               NaN                               NaN   \n",
              "4  2c43fb513632d29b3b58df74816f1b06  a8387c01a09e99ce014107505b92388c   \n",
              "\n",
              "                              sr_id             won_date business_segment  \\\n",
              "0                               NaN                  NaN              NaN   \n",
              "1                               NaN                  NaN              NaN   \n",
              "2                               NaN                  NaN              NaN   \n",
              "3                               NaN                  NaN              NaN   \n",
              "4  4ef15afb4b2723d8f3d81e51ec7afefe  2018-02-26 19:58:54              pet   \n",
              "\n",
              "       lead_type  ... average_stock business_type  \\\n",
              "0            NaN  ...           NaN           NaN   \n",
              "1            NaN  ...           NaN           NaN   \n",
              "2            NaN  ...           NaN           NaN   \n",
              "3            NaN  ...           NaN           NaN   \n",
              "4  online_medium  ...           NaN      reseller   \n",
              "\n",
              "  declared_product_catalog_size declared_monthly_revenue  \\\n",
              "0                           NaN                      NaN   \n",
              "1                           NaN                      NaN   \n",
              "2                           NaN                      NaN   \n",
              "3                           NaN                      NaN   \n",
              "4                           NaN                      0.0   \n",
              "\n",
              "                           order_id  order_item_id  \\\n",
              "0                               NaN            NaN   \n",
              "1                               NaN            NaN   \n",
              "2                               NaN            NaN   \n",
              "3                               NaN            NaN   \n",
              "4  1efcc6ba75b519535a510c53153a9256            1.0   \n",
              "\n",
              "                         product_id  shipping_limit_date  price freight_value  \n",
              "0                               NaN                  NaN    NaN           NaN  \n",
              "1                               NaN                  NaN    NaN           NaN  \n",
              "2                               NaN                  NaN    NaN           NaN  \n",
              "3                               NaN                  NaN    NaN           NaN  \n",
              "4  e94df75b2e9a8b056be0c144a731f55c  2018-06-26 22:20:21   94.2         18.76  \n",
              "\n",
              "[5 rows x 23 columns]"
            ],
            "text/html": [
              "\n",
              "  <div id=\"df-15f31cb0-6857-4fad-a99e-77c233cbdda6\">\n",
              "    <div class=\"colab-df-container\">\n",
              "      <div>\n",
              "<style scoped>\n",
              "    .dataframe tbody tr th:only-of-type {\n",
              "        vertical-align: middle;\n",
              "    }\n",
              "\n",
              "    .dataframe tbody tr th {\n",
              "        vertical-align: top;\n",
              "    }\n",
              "\n",
              "    .dataframe thead th {\n",
              "        text-align: right;\n",
              "    }\n",
              "</style>\n",
              "<table border=\"1\" class=\"dataframe\">\n",
              "  <thead>\n",
              "    <tr style=\"text-align: right;\">\n",
              "      <th></th>\n",
              "      <th>mql_id</th>\n",
              "      <th>first_contact_date</th>\n",
              "      <th>landing_page_id</th>\n",
              "      <th>origin</th>\n",
              "      <th>seller_id</th>\n",
              "      <th>sdr_id</th>\n",
              "      <th>sr_id</th>\n",
              "      <th>won_date</th>\n",
              "      <th>business_segment</th>\n",
              "      <th>lead_type</th>\n",
              "      <th>...</th>\n",
              "      <th>average_stock</th>\n",
              "      <th>business_type</th>\n",
              "      <th>declared_product_catalog_size</th>\n",
              "      <th>declared_monthly_revenue</th>\n",
              "      <th>order_id</th>\n",
              "      <th>order_item_id</th>\n",
              "      <th>product_id</th>\n",
              "      <th>shipping_limit_date</th>\n",
              "      <th>price</th>\n",
              "      <th>freight_value</th>\n",
              "    </tr>\n",
              "  </thead>\n",
              "  <tbody>\n",
              "    <tr>\n",
              "      <th>0</th>\n",
              "      <td>dac32acd4db4c29c230538b72f8dd87d</td>\n",
              "      <td>2018-02-01</td>\n",
              "      <td>88740e65d5d6b056e0cda098e1ea6313</td>\n",
              "      <td>social</td>\n",
              "      <td>NaN</td>\n",
              "      <td>NaN</td>\n",
              "      <td>NaN</td>\n",
              "      <td>NaN</td>\n",
              "      <td>NaN</td>\n",
              "      <td>NaN</td>\n",
              "      <td>...</td>\n",
              "      <td>NaN</td>\n",
              "      <td>NaN</td>\n",
              "      <td>NaN</td>\n",
              "      <td>NaN</td>\n",
              "      <td>NaN</td>\n",
              "      <td>NaN</td>\n",
              "      <td>NaN</td>\n",
              "      <td>NaN</td>\n",
              "      <td>NaN</td>\n",
              "      <td>NaN</td>\n",
              "    </tr>\n",
              "    <tr>\n",
              "      <th>1</th>\n",
              "      <td>8c18d1de7f67e60dbd64e3c07d7e9d5d</td>\n",
              "      <td>2017-10-20</td>\n",
              "      <td>007f9098284a86ee80ddeb25d53e0af8</td>\n",
              "      <td>paid_search</td>\n",
              "      <td>NaN</td>\n",
              "      <td>NaN</td>\n",
              "      <td>NaN</td>\n",
              "      <td>NaN</td>\n",
              "      <td>NaN</td>\n",
              "      <td>NaN</td>\n",
              "      <td>...</td>\n",
              "      <td>NaN</td>\n",
              "      <td>NaN</td>\n",
              "      <td>NaN</td>\n",
              "      <td>NaN</td>\n",
              "      <td>NaN</td>\n",
              "      <td>NaN</td>\n",
              "      <td>NaN</td>\n",
              "      <td>NaN</td>\n",
              "      <td>NaN</td>\n",
              "      <td>NaN</td>\n",
              "    </tr>\n",
              "    <tr>\n",
              "      <th>2</th>\n",
              "      <td>b4bc852d233dfefc5131f593b538befa</td>\n",
              "      <td>2018-03-22</td>\n",
              "      <td>a7982125ff7aa3b2054c6e44f9d28522</td>\n",
              "      <td>organic_search</td>\n",
              "      <td>NaN</td>\n",
              "      <td>NaN</td>\n",
              "      <td>NaN</td>\n",
              "      <td>NaN</td>\n",
              "      <td>NaN</td>\n",
              "      <td>NaN</td>\n",
              "      <td>...</td>\n",
              "      <td>NaN</td>\n",
              "      <td>NaN</td>\n",
              "      <td>NaN</td>\n",
              "      <td>NaN</td>\n",
              "      <td>NaN</td>\n",
              "      <td>NaN</td>\n",
              "      <td>NaN</td>\n",
              "      <td>NaN</td>\n",
              "      <td>NaN</td>\n",
              "      <td>NaN</td>\n",
              "    </tr>\n",
              "    <tr>\n",
              "      <th>3</th>\n",
              "      <td>6be030b81c75970747525b843c1ef4f8</td>\n",
              "      <td>2018-01-22</td>\n",
              "      <td>d45d558f0daeecf3cccdffe3c59684aa</td>\n",
              "      <td>email</td>\n",
              "      <td>NaN</td>\n",
              "      <td>NaN</td>\n",
              "      <td>NaN</td>\n",
              "      <td>NaN</td>\n",
              "      <td>NaN</td>\n",
              "      <td>NaN</td>\n",
              "      <td>...</td>\n",
              "      <td>NaN</td>\n",
              "      <td>NaN</td>\n",
              "      <td>NaN</td>\n",
              "      <td>NaN</td>\n",
              "      <td>NaN</td>\n",
              "      <td>NaN</td>\n",
              "      <td>NaN</td>\n",
              "      <td>NaN</td>\n",
              "      <td>NaN</td>\n",
              "      <td>NaN</td>\n",
              "    </tr>\n",
              "    <tr>\n",
              "      <th>4</th>\n",
              "      <td>5420aad7fec3549a85876ba1c529bd84</td>\n",
              "      <td>2018-02-21</td>\n",
              "      <td>b48ec5f3b04e9068441002a19df93c6c</td>\n",
              "      <td>organic_search</td>\n",
              "      <td>2c43fb513632d29b3b58df74816f1b06</td>\n",
              "      <td>a8387c01a09e99ce014107505b92388c</td>\n",
              "      <td>4ef15afb4b2723d8f3d81e51ec7afefe</td>\n",
              "      <td>2018-02-26 19:58:54</td>\n",
              "      <td>pet</td>\n",
              "      <td>online_medium</td>\n",
              "      <td>...</td>\n",
              "      <td>NaN</td>\n",
              "      <td>reseller</td>\n",
              "      <td>NaN</td>\n",
              "      <td>0.0</td>\n",
              "      <td>1efcc6ba75b519535a510c53153a9256</td>\n",
              "      <td>1.0</td>\n",
              "      <td>e94df75b2e9a8b056be0c144a731f55c</td>\n",
              "      <td>2018-06-26 22:20:21</td>\n",
              "      <td>94.2</td>\n",
              "      <td>18.76</td>\n",
              "    </tr>\n",
              "  </tbody>\n",
              "</table>\n",
              "<p>5 rows × 23 columns</p>\n",
              "</div>\n",
              "      <button class=\"colab-df-convert\" onclick=\"convertToInteractive('df-15f31cb0-6857-4fad-a99e-77c233cbdda6')\"\n",
              "              title=\"Convert this dataframe to an interactive table.\"\n",
              "              style=\"display:none;\">\n",
              "        \n",
              "  <svg xmlns=\"http://www.w3.org/2000/svg\" height=\"24px\"viewBox=\"0 0 24 24\"\n",
              "       width=\"24px\">\n",
              "    <path d=\"M0 0h24v24H0V0z\" fill=\"none\"/>\n",
              "    <path d=\"M18.56 5.44l.94 2.06.94-2.06 2.06-.94-2.06-.94-.94-2.06-.94 2.06-2.06.94zm-11 1L8.5 8.5l.94-2.06 2.06-.94-2.06-.94L8.5 2.5l-.94 2.06-2.06.94zm10 10l.94 2.06.94-2.06 2.06-.94-2.06-.94-.94-2.06-.94 2.06-2.06.94z\"/><path d=\"M17.41 7.96l-1.37-1.37c-.4-.4-.92-.59-1.43-.59-.52 0-1.04.2-1.43.59L10.3 9.45l-7.72 7.72c-.78.78-.78 2.05 0 2.83L4 21.41c.39.39.9.59 1.41.59.51 0 1.02-.2 1.41-.59l7.78-7.78 2.81-2.81c.8-.78.8-2.07 0-2.86zM5.41 20L4 18.59l7.72-7.72 1.47 1.35L5.41 20z\"/>\n",
              "  </svg>\n",
              "      </button>\n",
              "      \n",
              "  <style>\n",
              "    .colab-df-container {\n",
              "      display:flex;\n",
              "      flex-wrap:wrap;\n",
              "      gap: 12px;\n",
              "    }\n",
              "\n",
              "    .colab-df-convert {\n",
              "      background-color: #E8F0FE;\n",
              "      border: none;\n",
              "      border-radius: 50%;\n",
              "      cursor: pointer;\n",
              "      display: none;\n",
              "      fill: #1967D2;\n",
              "      height: 32px;\n",
              "      padding: 0 0 0 0;\n",
              "      width: 32px;\n",
              "    }\n",
              "\n",
              "    .colab-df-convert:hover {\n",
              "      background-color: #E2EBFA;\n",
              "      box-shadow: 0px 1px 2px rgba(60, 64, 67, 0.3), 0px 1px 3px 1px rgba(60, 64, 67, 0.15);\n",
              "      fill: #174EA6;\n",
              "    }\n",
              "\n",
              "    [theme=dark] .colab-df-convert {\n",
              "      background-color: #3B4455;\n",
              "      fill: #D2E3FC;\n",
              "    }\n",
              "\n",
              "    [theme=dark] .colab-df-convert:hover {\n",
              "      background-color: #434B5C;\n",
              "      box-shadow: 0px 1px 3px 1px rgba(0, 0, 0, 0.15);\n",
              "      filter: drop-shadow(0px 1px 2px rgba(0, 0, 0, 0.3));\n",
              "      fill: #FFFFFF;\n",
              "    }\n",
              "  </style>\n",
              "\n",
              "      <script>\n",
              "        const buttonEl =\n",
              "          document.querySelector('#df-15f31cb0-6857-4fad-a99e-77c233cbdda6 button.colab-df-convert');\n",
              "        buttonEl.style.display =\n",
              "          google.colab.kernel.accessAllowed ? 'block' : 'none';\n",
              "\n",
              "        async function convertToInteractive(key) {\n",
              "          const element = document.querySelector('#df-15f31cb0-6857-4fad-a99e-77c233cbdda6');\n",
              "          const dataTable =\n",
              "            await google.colab.kernel.invokeFunction('convertToInteractive',\n",
              "                                                     [key], {});\n",
              "          if (!dataTable) return;\n",
              "\n",
              "          const docLinkHtml = 'Like what you see? Visit the ' +\n",
              "            '<a target=\"_blank\" href=https://colab.research.google.com/notebooks/data_table.ipynb>data table notebook</a>'\n",
              "            + ' to learn more about interactive tables.';\n",
              "          element.innerHTML = '';\n",
              "          dataTable['output_type'] = 'display_data';\n",
              "          await google.colab.output.renderOutput(dataTable, element);\n",
              "          const docLink = document.createElement('div');\n",
              "          docLink.innerHTML = docLinkHtml;\n",
              "          element.appendChild(docLink);\n",
              "        }\n",
              "      </script>\n",
              "    </div>\n",
              "  </div>\n",
              "  "
            ]
          },
          "metadata": {},
          "execution_count": 28
        }
      ]
    },
    {
      "cell_type": "code",
      "source": [
        "# 한 셀러 당 여러 개의 오더 아이템을 판매하므로, 테이블에 여러 셀러명이 중복되어 있음을 알 수 있다. \n",
        "# 따라서 seller_id를 카운트할 때 고유 값으로 카운트해야함\n",
        "\n",
        "a = pd.DataFrame(mf_items.groupby('seller_id')['order_item_id'].count()).reset_index().sort_values(by = 'order_item_id', ascending = False)\n",
        "a"
      ],
      "metadata": {
        "colab": {
          "base_uri": "https://localhost:8080/",
          "height": 423
        },
        "id": "j6Amgaq4NVvk",
        "outputId": "2361745d-8a51-4017-e3b6-23a0b032dec2"
      },
      "execution_count": null,
      "outputs": [
        {
          "output_type": "execute_result",
          "data": {
            "text/plain": [
              "                            seller_id  order_item_id\n",
              "401  7d13fca15225358621be4086e1eb0964            578\n",
              "659  c70c1b0d8ca86052f45a432a38b73958            338\n",
              "302  612170e34b97004b3ba37eae81836b4c            110\n",
              "448  8a432f4e5b471f8da497d7dc517666e2            106\n",
              "357  70c27847eca8195c983ed7e798c56743             98\n",
              "..                                ...            ...\n",
              "374  7614a7c196be837b0eba0a3811e51b29              0\n",
              "377  767f9c7cc8d4c288b891893b61f3a2ca              0\n",
              "378  76bf0e3e7d311d9069d4512cc1a232d7              0\n",
              "379  76e8c36299440e255379b5fa7f03f272              0\n",
              "421  81cce42d33ddf3d4f89f1d476b5e35e7              0\n",
              "\n",
              "[842 rows x 2 columns]"
            ],
            "text/html": [
              "\n",
              "  <div id=\"df-dc622ede-1bac-46c9-a816-1f3876bcd65c\">\n",
              "    <div class=\"colab-df-container\">\n",
              "      <div>\n",
              "<style scoped>\n",
              "    .dataframe tbody tr th:only-of-type {\n",
              "        vertical-align: middle;\n",
              "    }\n",
              "\n",
              "    .dataframe tbody tr th {\n",
              "        vertical-align: top;\n",
              "    }\n",
              "\n",
              "    .dataframe thead th {\n",
              "        text-align: right;\n",
              "    }\n",
              "</style>\n",
              "<table border=\"1\" class=\"dataframe\">\n",
              "  <thead>\n",
              "    <tr style=\"text-align: right;\">\n",
              "      <th></th>\n",
              "      <th>seller_id</th>\n",
              "      <th>order_item_id</th>\n",
              "    </tr>\n",
              "  </thead>\n",
              "  <tbody>\n",
              "    <tr>\n",
              "      <th>401</th>\n",
              "      <td>7d13fca15225358621be4086e1eb0964</td>\n",
              "      <td>578</td>\n",
              "    </tr>\n",
              "    <tr>\n",
              "      <th>659</th>\n",
              "      <td>c70c1b0d8ca86052f45a432a38b73958</td>\n",
              "      <td>338</td>\n",
              "    </tr>\n",
              "    <tr>\n",
              "      <th>302</th>\n",
              "      <td>612170e34b97004b3ba37eae81836b4c</td>\n",
              "      <td>110</td>\n",
              "    </tr>\n",
              "    <tr>\n",
              "      <th>448</th>\n",
              "      <td>8a432f4e5b471f8da497d7dc517666e2</td>\n",
              "      <td>106</td>\n",
              "    </tr>\n",
              "    <tr>\n",
              "      <th>357</th>\n",
              "      <td>70c27847eca8195c983ed7e798c56743</td>\n",
              "      <td>98</td>\n",
              "    </tr>\n",
              "    <tr>\n",
              "      <th>...</th>\n",
              "      <td>...</td>\n",
              "      <td>...</td>\n",
              "    </tr>\n",
              "    <tr>\n",
              "      <th>374</th>\n",
              "      <td>7614a7c196be837b0eba0a3811e51b29</td>\n",
              "      <td>0</td>\n",
              "    </tr>\n",
              "    <tr>\n",
              "      <th>377</th>\n",
              "      <td>767f9c7cc8d4c288b891893b61f3a2ca</td>\n",
              "      <td>0</td>\n",
              "    </tr>\n",
              "    <tr>\n",
              "      <th>378</th>\n",
              "      <td>76bf0e3e7d311d9069d4512cc1a232d7</td>\n",
              "      <td>0</td>\n",
              "    </tr>\n",
              "    <tr>\n",
              "      <th>379</th>\n",
              "      <td>76e8c36299440e255379b5fa7f03f272</td>\n",
              "      <td>0</td>\n",
              "    </tr>\n",
              "    <tr>\n",
              "      <th>421</th>\n",
              "      <td>81cce42d33ddf3d4f89f1d476b5e35e7</td>\n",
              "      <td>0</td>\n",
              "    </tr>\n",
              "  </tbody>\n",
              "</table>\n",
              "<p>842 rows × 2 columns</p>\n",
              "</div>\n",
              "      <button class=\"colab-df-convert\" onclick=\"convertToInteractive('df-dc622ede-1bac-46c9-a816-1f3876bcd65c')\"\n",
              "              title=\"Convert this dataframe to an interactive table.\"\n",
              "              style=\"display:none;\">\n",
              "        \n",
              "  <svg xmlns=\"http://www.w3.org/2000/svg\" height=\"24px\"viewBox=\"0 0 24 24\"\n",
              "       width=\"24px\">\n",
              "    <path d=\"M0 0h24v24H0V0z\" fill=\"none\"/>\n",
              "    <path d=\"M18.56 5.44l.94 2.06.94-2.06 2.06-.94-2.06-.94-.94-2.06-.94 2.06-2.06.94zm-11 1L8.5 8.5l.94-2.06 2.06-.94-2.06-.94L8.5 2.5l-.94 2.06-2.06.94zm10 10l.94 2.06.94-2.06 2.06-.94-2.06-.94-.94-2.06-.94 2.06-2.06.94z\"/><path d=\"M17.41 7.96l-1.37-1.37c-.4-.4-.92-.59-1.43-.59-.52 0-1.04.2-1.43.59L10.3 9.45l-7.72 7.72c-.78.78-.78 2.05 0 2.83L4 21.41c.39.39.9.59 1.41.59.51 0 1.02-.2 1.41-.59l7.78-7.78 2.81-2.81c.8-.78.8-2.07 0-2.86zM5.41 20L4 18.59l7.72-7.72 1.47 1.35L5.41 20z\"/>\n",
              "  </svg>\n",
              "      </button>\n",
              "      \n",
              "  <style>\n",
              "    .colab-df-container {\n",
              "      display:flex;\n",
              "      flex-wrap:wrap;\n",
              "      gap: 12px;\n",
              "    }\n",
              "\n",
              "    .colab-df-convert {\n",
              "      background-color: #E8F0FE;\n",
              "      border: none;\n",
              "      border-radius: 50%;\n",
              "      cursor: pointer;\n",
              "      display: none;\n",
              "      fill: #1967D2;\n",
              "      height: 32px;\n",
              "      padding: 0 0 0 0;\n",
              "      width: 32px;\n",
              "    }\n",
              "\n",
              "    .colab-df-convert:hover {\n",
              "      background-color: #E2EBFA;\n",
              "      box-shadow: 0px 1px 2px rgba(60, 64, 67, 0.3), 0px 1px 3px 1px rgba(60, 64, 67, 0.15);\n",
              "      fill: #174EA6;\n",
              "    }\n",
              "\n",
              "    [theme=dark] .colab-df-convert {\n",
              "      background-color: #3B4455;\n",
              "      fill: #D2E3FC;\n",
              "    }\n",
              "\n",
              "    [theme=dark] .colab-df-convert:hover {\n",
              "      background-color: #434B5C;\n",
              "      box-shadow: 0px 1px 3px 1px rgba(0, 0, 0, 0.15);\n",
              "      filter: drop-shadow(0px 1px 2px rgba(0, 0, 0, 0.3));\n",
              "      fill: #FFFFFF;\n",
              "    }\n",
              "  </style>\n",
              "\n",
              "      <script>\n",
              "        const buttonEl =\n",
              "          document.querySelector('#df-dc622ede-1bac-46c9-a816-1f3876bcd65c button.colab-df-convert');\n",
              "        buttonEl.style.display =\n",
              "          google.colab.kernel.accessAllowed ? 'block' : 'none';\n",
              "\n",
              "        async function convertToInteractive(key) {\n",
              "          const element = document.querySelector('#df-dc622ede-1bac-46c9-a816-1f3876bcd65c');\n",
              "          const dataTable =\n",
              "            await google.colab.kernel.invokeFunction('convertToInteractive',\n",
              "                                                     [key], {});\n",
              "          if (!dataTable) return;\n",
              "\n",
              "          const docLinkHtml = 'Like what you see? Visit the ' +\n",
              "            '<a target=\"_blank\" href=https://colab.research.google.com/notebooks/data_table.ipynb>data table notebook</a>'\n",
              "            + ' to learn more about interactive tables.';\n",
              "          element.innerHTML = '';\n",
              "          dataTable['output_type'] = 'display_data';\n",
              "          await google.colab.output.renderOutput(dataTable, element);\n",
              "          const docLink = document.createElement('div');\n",
              "          docLink.innerHTML = docLinkHtml;\n",
              "          element.appendChild(docLink);\n",
              "        }\n",
              "      </script>\n",
              "    </div>\n",
              "  </div>\n",
              "  "
            ]
          },
          "metadata": {},
          "execution_count": 70
        }
      ]
    },
    {
      "cell_type": "code",
      "source": [
        "# order_item이 하나라도 있는 seller들의 고유값을 카운트하면\n",
        "seller_with_order_cnt = a[a['order_item_id'] >= 1]['seller_id'].nunique()"
      ],
      "metadata": {
        "id": "KABmWN1HcbWN"
      },
      "execution_count": null,
      "outputs": []
    },
    {
      "cell_type": "code",
      "source": [
        "seller_with_order_cnt"
      ],
      "metadata": {
        "colab": {
          "base_uri": "https://localhost:8080/"
        },
        "id": "L1DImj5YbYf4",
        "outputId": "2267060c-fe64-4b8a-d0f0-967190cedfdc"
      },
      "execution_count": null,
      "outputs": [
        {
          "output_type": "execute_result",
          "data": {
            "text/plain": [
              "380"
            ]
          },
          "metadata": {},
          "execution_count": 72
        }
      ]
    },
    {
      "cell_type": "code",
      "source": [
        "# order_items 테이블과 orders 정보도 연결\n",
        "# mql 아이디 등이 계속 중복되어 표기되는 것을 알 수 있음\n",
        "mf_orders = mf_items.merge(orders, how = 'left', on = 'order_id')\n",
        "mf_orders.info()"
      ],
      "metadata": {
        "id": "Gx4O3s806hdw",
        "outputId": "51bf906d-fb42-4ce1-bfd3-a8e85f0000b9",
        "colab": {
          "base_uri": "https://localhost:8080/"
        }
      },
      "execution_count": null,
      "outputs": [
        {
          "output_type": "stream",
          "name": "stdout",
          "text": [
            "<class 'pandas.core.frame.DataFrame'>\n",
            "Int64Index: 12664 entries, 0 to 12663\n",
            "Data columns (total 30 columns):\n",
            " #   Column                         Non-Null Count  Dtype  \n",
            "---  ------                         --------------  -----  \n",
            " 0   mql_id                         12664 non-null  object \n",
            " 1   first_contact_date             12664 non-null  object \n",
            " 2   landing_page_id                12664 non-null  object \n",
            " 3   origin                         12597 non-null  object \n",
            " 4   seller_id                      5506 non-null   object \n",
            " 5   sdr_id                         5506 non-null   object \n",
            " 6   sr_id                          5506 non-null   object \n",
            " 7   won_date                       5506 non-null   object \n",
            " 8   business_segment               5505 non-null   object \n",
            " 9   lead_type                      5455 non-null   object \n",
            " 10  lead_behaviour_profile         3679 non-null   object \n",
            " 11  has_company                    88 non-null     object \n",
            " 12  has_gtin                       89 non-null     object \n",
            " 13  average_stock                  91 non-null     object \n",
            " 14  business_type                  5494 non-null   object \n",
            " 15  declared_product_catalog_size  69 non-null     float64\n",
            " 16  declared_monthly_revenue       5506 non-null   float64\n",
            " 17  order_id                       5044 non-null   object \n",
            " 18  order_item_id                  5044 non-null   float64\n",
            " 19  product_id                     5044 non-null   object \n",
            " 20  shipping_limit_date            5044 non-null   object \n",
            " 21  price                          5044 non-null   float64\n",
            " 22  freight_value                  5044 non-null   float64\n",
            " 23  customer_id                    5044 non-null   object \n",
            " 24  order_status                   5044 non-null   object \n",
            " 25  order_purchase_timestamp       5044 non-null   object \n",
            " 26  order_approved_at              5044 non-null   object \n",
            " 27  order_delivered_carrier_date   5027 non-null   object \n",
            " 28  order_delivered_customer_date  4982 non-null   object \n",
            " 29  order_estimated_delivery_date  5044 non-null   object \n",
            "dtypes: float64(5), object(25)\n",
            "memory usage: 3.0+ MB\n"
          ]
        }
      ]
    },
    {
      "cell_type": "code",
      "source": [
        "mf_"
      ],
      "metadata": {
        "id": "gJmSJcEMbEff"
      },
      "execution_count": null,
      "outputs": []
    },
    {
      "cell_type": "code",
      "source": [
        "# \n",
        "order_sellers = order_items.groupby('seller_id')['order_item_id'].count()\n",
        "order_sellers.head()"
      ],
      "metadata": {
        "colab": {
          "base_uri": "https://localhost:8080/"
        },
        "id": "m0x-X0TUyuQV",
        "outputId": "1c7fef2e-a41a-414d-cb38-b097bf719ebb"
      },
      "execution_count": null,
      "outputs": [
        {
          "output_type": "execute_result",
          "data": {
            "text/plain": [
              "seller_id\n",
              "0015a82c2db000af6aaaf3ae2ecb0532      3\n",
              "001cca7ae9ae17fb1caed9dfb1094831    239\n",
              "001e6ad469a905060d959994f1b41e4f      1\n",
              "002100f778ceb8431b7a1020ff7ab48f     55\n",
              "003554e2dce176b5555353e4f3555ac8      1\n",
              "Name: order_item_id, dtype: int64"
            ]
          },
          "metadata": {},
          "execution_count": 12
        }
      ]
    },
    {
      "cell_type": "code",
      "source": [
        "order_with_items = orders.merge(order_items, how = 'inner', on='order_id')\n",
        "first_order_date = pd.DataFrame(order_with_items.groupby('seller_id')['order_purchase_timestamp'].min())\n",
        "first_order_date"
      ],
      "metadata": {
        "id": "4N2Ly7EYzZ8R",
        "colab": {
          "base_uri": "https://localhost:8080/",
          "height": 455
        },
        "outputId": "828a6eb1-4216-4349-ca7b-36b036c6d0c4"
      },
      "execution_count": null,
      "outputs": [
        {
          "output_type": "execute_result",
          "data": {
            "text/plain": [
              "                                 order_purchase_timestamp\n",
              "seller_id                                                \n",
              "0015a82c2db000af6aaaf3ae2ecb0532      2017-09-26 22:17:05\n",
              "001cca7ae9ae17fb1caed9dfb1094831      2017-02-04 19:06:04\n",
              "001e6ad469a905060d959994f1b41e4f      2018-08-07 22:50:37\n",
              "002100f778ceb8431b7a1020ff7ab48f      2017-09-14 01:00:31\n",
              "003554e2dce176b5555353e4f3555ac8      2017-12-15 06:52:25\n",
              "...                                                   ...\n",
              "ffcfefa19b08742c5d315f2791395ee5      2018-06-23 17:34:33\n",
              "ffdd9f82b9a447f6f8d4b91554cc7dd3      2017-03-05 16:21:27\n",
              "ffeee66ac5d5a62fe688b9d26f83f534      2017-09-30 15:56:56\n",
              "fffd5413c0700ac820c7069d66d98c89      2017-07-24 21:13:55\n",
              "ffff564a4f9085cd26170f4732393726      2016-10-07 17:37:49\n",
              "\n",
              "[3095 rows x 1 columns]"
            ],
            "text/html": [
              "\n",
              "  <div id=\"df-bc59a933-1496-4097-9475-d06cc0fb87cd\">\n",
              "    <div class=\"colab-df-container\">\n",
              "      <div>\n",
              "<style scoped>\n",
              "    .dataframe tbody tr th:only-of-type {\n",
              "        vertical-align: middle;\n",
              "    }\n",
              "\n",
              "    .dataframe tbody tr th {\n",
              "        vertical-align: top;\n",
              "    }\n",
              "\n",
              "    .dataframe thead th {\n",
              "        text-align: right;\n",
              "    }\n",
              "</style>\n",
              "<table border=\"1\" class=\"dataframe\">\n",
              "  <thead>\n",
              "    <tr style=\"text-align: right;\">\n",
              "      <th></th>\n",
              "      <th>order_purchase_timestamp</th>\n",
              "    </tr>\n",
              "    <tr>\n",
              "      <th>seller_id</th>\n",
              "      <th></th>\n",
              "    </tr>\n",
              "  </thead>\n",
              "  <tbody>\n",
              "    <tr>\n",
              "      <th>0015a82c2db000af6aaaf3ae2ecb0532</th>\n",
              "      <td>2017-09-26 22:17:05</td>\n",
              "    </tr>\n",
              "    <tr>\n",
              "      <th>001cca7ae9ae17fb1caed9dfb1094831</th>\n",
              "      <td>2017-02-04 19:06:04</td>\n",
              "    </tr>\n",
              "    <tr>\n",
              "      <th>001e6ad469a905060d959994f1b41e4f</th>\n",
              "      <td>2018-08-07 22:50:37</td>\n",
              "    </tr>\n",
              "    <tr>\n",
              "      <th>002100f778ceb8431b7a1020ff7ab48f</th>\n",
              "      <td>2017-09-14 01:00:31</td>\n",
              "    </tr>\n",
              "    <tr>\n",
              "      <th>003554e2dce176b5555353e4f3555ac8</th>\n",
              "      <td>2017-12-15 06:52:25</td>\n",
              "    </tr>\n",
              "    <tr>\n",
              "      <th>...</th>\n",
              "      <td>...</td>\n",
              "    </tr>\n",
              "    <tr>\n",
              "      <th>ffcfefa19b08742c5d315f2791395ee5</th>\n",
              "      <td>2018-06-23 17:34:33</td>\n",
              "    </tr>\n",
              "    <tr>\n",
              "      <th>ffdd9f82b9a447f6f8d4b91554cc7dd3</th>\n",
              "      <td>2017-03-05 16:21:27</td>\n",
              "    </tr>\n",
              "    <tr>\n",
              "      <th>ffeee66ac5d5a62fe688b9d26f83f534</th>\n",
              "      <td>2017-09-30 15:56:56</td>\n",
              "    </tr>\n",
              "    <tr>\n",
              "      <th>fffd5413c0700ac820c7069d66d98c89</th>\n",
              "      <td>2017-07-24 21:13:55</td>\n",
              "    </tr>\n",
              "    <tr>\n",
              "      <th>ffff564a4f9085cd26170f4732393726</th>\n",
              "      <td>2016-10-07 17:37:49</td>\n",
              "    </tr>\n",
              "  </tbody>\n",
              "</table>\n",
              "<p>3095 rows × 1 columns</p>\n",
              "</div>\n",
              "      <button class=\"colab-df-convert\" onclick=\"convertToInteractive('df-bc59a933-1496-4097-9475-d06cc0fb87cd')\"\n",
              "              title=\"Convert this dataframe to an interactive table.\"\n",
              "              style=\"display:none;\">\n",
              "        \n",
              "  <svg xmlns=\"http://www.w3.org/2000/svg\" height=\"24px\"viewBox=\"0 0 24 24\"\n",
              "       width=\"24px\">\n",
              "    <path d=\"M0 0h24v24H0V0z\" fill=\"none\"/>\n",
              "    <path d=\"M18.56 5.44l.94 2.06.94-2.06 2.06-.94-2.06-.94-.94-2.06-.94 2.06-2.06.94zm-11 1L8.5 8.5l.94-2.06 2.06-.94-2.06-.94L8.5 2.5l-.94 2.06-2.06.94zm10 10l.94 2.06.94-2.06 2.06-.94-2.06-.94-.94-2.06-.94 2.06-2.06.94z\"/><path d=\"M17.41 7.96l-1.37-1.37c-.4-.4-.92-.59-1.43-.59-.52 0-1.04.2-1.43.59L10.3 9.45l-7.72 7.72c-.78.78-.78 2.05 0 2.83L4 21.41c.39.39.9.59 1.41.59.51 0 1.02-.2 1.41-.59l7.78-7.78 2.81-2.81c.8-.78.8-2.07 0-2.86zM5.41 20L4 18.59l7.72-7.72 1.47 1.35L5.41 20z\"/>\n",
              "  </svg>\n",
              "      </button>\n",
              "      \n",
              "  <style>\n",
              "    .colab-df-container {\n",
              "      display:flex;\n",
              "      flex-wrap:wrap;\n",
              "      gap: 12px;\n",
              "    }\n",
              "\n",
              "    .colab-df-convert {\n",
              "      background-color: #E8F0FE;\n",
              "      border: none;\n",
              "      border-radius: 50%;\n",
              "      cursor: pointer;\n",
              "      display: none;\n",
              "      fill: #1967D2;\n",
              "      height: 32px;\n",
              "      padding: 0 0 0 0;\n",
              "      width: 32px;\n",
              "    }\n",
              "\n",
              "    .colab-df-convert:hover {\n",
              "      background-color: #E2EBFA;\n",
              "      box-shadow: 0px 1px 2px rgba(60, 64, 67, 0.3), 0px 1px 3px 1px rgba(60, 64, 67, 0.15);\n",
              "      fill: #174EA6;\n",
              "    }\n",
              "\n",
              "    [theme=dark] .colab-df-convert {\n",
              "      background-color: #3B4455;\n",
              "      fill: #D2E3FC;\n",
              "    }\n",
              "\n",
              "    [theme=dark] .colab-df-convert:hover {\n",
              "      background-color: #434B5C;\n",
              "      box-shadow: 0px 1px 3px 1px rgba(0, 0, 0, 0.15);\n",
              "      filter: drop-shadow(0px 1px 2px rgba(0, 0, 0, 0.3));\n",
              "      fill: #FFFFFF;\n",
              "    }\n",
              "  </style>\n",
              "\n",
              "      <script>\n",
              "        const buttonEl =\n",
              "          document.querySelector('#df-bc59a933-1496-4097-9475-d06cc0fb87cd button.colab-df-convert');\n",
              "        buttonEl.style.display =\n",
              "          google.colab.kernel.accessAllowed ? 'block' : 'none';\n",
              "\n",
              "        async function convertToInteractive(key) {\n",
              "          const element = document.querySelector('#df-bc59a933-1496-4097-9475-d06cc0fb87cd');\n",
              "          const dataTable =\n",
              "            await google.colab.kernel.invokeFunction('convertToInteractive',\n",
              "                                                     [key], {});\n",
              "          if (!dataTable) return;\n",
              "\n",
              "          const docLinkHtml = 'Like what you see? Visit the ' +\n",
              "            '<a target=\"_blank\" href=https://colab.research.google.com/notebooks/data_table.ipynb>data table notebook</a>'\n",
              "            + ' to learn more about interactive tables.';\n",
              "          element.innerHTML = '';\n",
              "          dataTable['output_type'] = 'display_data';\n",
              "          await google.colab.output.renderOutput(dataTable, element);\n",
              "          const docLink = document.createElement('div');\n",
              "          docLink.innerHTML = docLinkHtml;\n",
              "          element.appendChild(docLink);\n",
              "        }\n",
              "      </script>\n",
              "    </div>\n",
              "  </div>\n",
              "  "
            ]
          },
          "metadata": {},
          "execution_count": 80
        }
      ]
    },
    {
      "cell_type": "code",
      "source": [
        "mql_to_orders = marketing_funnel.merge(first_order_date, how = 'left', on = 'seller_id')\n",
        "mql_to_orders[mql_to_orders['order_purchase_timestamp'].notna()].nunique()"
      ],
      "metadata": {
        "colab": {
          "base_uri": "https://localhost:8080/"
        },
        "id": "JQuHLv5-0ZIW",
        "outputId": "b778f7fb-36a1-481c-fd16-49ded0ddacf7"
      },
      "execution_count": null,
      "outputs": [
        {
          "output_type": "execute_result",
          "data": {
            "text/plain": [
              "mql_id                           380\n",
              "first_contact_date               142\n",
              "landing_page_id                   75\n",
              "origin                             9\n",
              "seller_id                        380\n",
              "sdr_id                            18\n",
              "sr_id                             18\n",
              "won_date                         372\n",
              "business_segment                  29\n",
              "lead_type                          7\n",
              "lead_behaviour_profile             6\n",
              "has_company                        2\n",
              "has_gtin                           2\n",
              "average_stock                      4\n",
              "business_type                      2\n",
              "declared_product_catalog_size      0\n",
              "declared_monthly_revenue           1\n",
              "order_purchase_timestamp         380\n",
              "dtype: int64"
            ]
          },
          "metadata": {},
          "execution_count": 81
        }
      ]
    },
    {
      "cell_type": "markdown",
      "source": [
        "# II. 분석"
      ],
      "metadata": {
        "id": "vSP9j7Zbn_Kd"
      }
    },
    {
      "cell_type": "markdown",
      "source": [
        "## 1. 전체 전환율 측정 \n",
        "- MQL -> cd_conversion rate : closed_deal 단계의 셀러 수 / mql 단계의 리드 수 * 100(%), 셀러 수 측정 기준(seller_id), 리드 수 측정 기준(mql_id)\n",
        "- SQL -> selling_conversion_rate : 주문 내역이 있는 셀러 수 / closed_deals 단계의 셀러 수 * 100(%), 주문 내역 있는 셀러 수 측정 기준(주문 내역 조건을 만족하는 셀러 seller_id)"
      ],
      "metadata": {
        "id": "Exc1rX8yOSWH"
      }
    },
    {
      "cell_type": "code",
      "source": [
        "# 전체 전환율\n",
        "mql_general = marketing_funnel['mql_id'].count()\n",
        "cd_general = marketing_funnel['seller_id'].count()\n",
        "order_general = seller_with_order_cnt\n",
        "\n",
        "print(mql_general, cd_general, order_general)"
      ],
      "metadata": {
        "id": "5sfo0vSQs814",
        "outputId": "e5f84386-1ccb-4127-c002-2687190f2094",
        "colab": {
          "base_uri": "https://localhost:8080/"
        }
      },
      "execution_count": null,
      "outputs": [
        {
          "output_type": "stream",
          "name": "stdout",
          "text": [
            "8000 842 380\n"
          ]
        }
      ]
    },
    {
      "cell_type": "code",
      "source": [
        "general_sales_conversion_rate = cd_general / mql_general * 100\n",
        "general_order_conversion_rate = order_general / cd_general * 100\n",
        "print(general_sales_conversion_rate, general_order_conversion_rate)"
      ],
      "metadata": {
        "colab": {
          "base_uri": "https://localhost:8080/"
        },
        "id": "uGdtoyIsYzLI",
        "outputId": "6c7f6795-18e4-433f-b45c-10f8fd03a634"
      },
      "execution_count": null,
      "outputs": [
        {
          "output_type": "stream",
          "name": "stdout",
          "text": [
            "10.525 45.13064133016627\n"
          ]
        }
      ]
    },
    {
      "cell_type": "code",
      "source": [
        "general_funnels = [mql_general, cd_general, order_general]"
      ],
      "metadata": {
        "id": "y-1WAg72wNp3"
      },
      "execution_count": null,
      "outputs": []
    },
    {
      "cell_type": "code",
      "source": [
        "import plotly.express as px\n",
        "\n",
        "data = dict(\n",
        "    number = general_funnels,\n",
        "    stage = ['mql','cd','order'])\n",
        "\n",
        "fig = px.funnel(data, x='number', y='stage')\n",
        "fig.show()"
      ],
      "metadata": {
        "colab": {
          "base_uri": "https://localhost:8080/",
          "height": 542
        },
        "id": "QcfHoGyAp-7T",
        "outputId": "af1bb674-36d1-4d53-fd6a-77a544f45dff"
      },
      "execution_count": null,
      "outputs": [
        {
          "output_type": "display_data",
          "data": {
            "text/html": [
              "<html>\n",
              "<head><meta charset=\"utf-8\" /></head>\n",
              "<body>\n",
              "    <div>            <script src=\"https://cdnjs.cloudflare.com/ajax/libs/mathjax/2.7.5/MathJax.js?config=TeX-AMS-MML_SVG\"></script><script type=\"text/javascript\">if (window.MathJax) {MathJax.Hub.Config({SVG: {font: \"STIX-Web\"}});}</script>                <script type=\"text/javascript\">window.PlotlyConfig = {MathJaxConfig: 'local'};</script>\n",
              "        <script src=\"https://cdn.plot.ly/plotly-2.8.3.min.js\"></script>                <div id=\"459aa3e4-5a5b-439b-a94a-6605e1a50d7c\" class=\"plotly-graph-div\" style=\"height:525px; width:100%;\"></div>            <script type=\"text/javascript\">                                    window.PLOTLYENV=window.PLOTLYENV || {};                                    if (document.getElementById(\"459aa3e4-5a5b-439b-a94a-6605e1a50d7c\")) {                    Plotly.newPlot(                        \"459aa3e4-5a5b-439b-a94a-6605e1a50d7c\",                        [{\"hovertemplate\":\"number=%{x}<br>stage=%{y}<extra></extra>\",\"legendgroup\":\"\",\"marker\":{\"color\":\"#636efa\"},\"name\":\"\",\"orientation\":\"h\",\"showlegend\":false,\"x\":[8000,842,380],\"xaxis\":\"x\",\"y\":[\"mql\",\"cd\",\"order\"],\"yaxis\":\"y\",\"type\":\"funnel\"}],                        {\"template\":{\"data\":{\"bar\":[{\"error_x\":{\"color\":\"#2a3f5f\"},\"error_y\":{\"color\":\"#2a3f5f\"},\"marker\":{\"line\":{\"color\":\"#E5ECF6\",\"width\":0.5},\"pattern\":{\"fillmode\":\"overlay\",\"size\":10,\"solidity\":0.2}},\"type\":\"bar\"}],\"barpolar\":[{\"marker\":{\"line\":{\"color\":\"#E5ECF6\",\"width\":0.5},\"pattern\":{\"fillmode\":\"overlay\",\"size\":10,\"solidity\":0.2}},\"type\":\"barpolar\"}],\"carpet\":[{\"aaxis\":{\"endlinecolor\":\"#2a3f5f\",\"gridcolor\":\"white\",\"linecolor\":\"white\",\"minorgridcolor\":\"white\",\"startlinecolor\":\"#2a3f5f\"},\"baxis\":{\"endlinecolor\":\"#2a3f5f\",\"gridcolor\":\"white\",\"linecolor\":\"white\",\"minorgridcolor\":\"white\",\"startlinecolor\":\"#2a3f5f\"},\"type\":\"carpet\"}],\"choropleth\":[{\"colorbar\":{\"outlinewidth\":0,\"ticks\":\"\"},\"type\":\"choropleth\"}],\"contour\":[{\"colorbar\":{\"outlinewidth\":0,\"ticks\":\"\"},\"colorscale\":[[0.0,\"#0d0887\"],[0.1111111111111111,\"#46039f\"],[0.2222222222222222,\"#7201a8\"],[0.3333333333333333,\"#9c179e\"],[0.4444444444444444,\"#bd3786\"],[0.5555555555555556,\"#d8576b\"],[0.6666666666666666,\"#ed7953\"],[0.7777777777777778,\"#fb9f3a\"],[0.8888888888888888,\"#fdca26\"],[1.0,\"#f0f921\"]],\"type\":\"contour\"}],\"contourcarpet\":[{\"colorbar\":{\"outlinewidth\":0,\"ticks\":\"\"},\"type\":\"contourcarpet\"}],\"heatmap\":[{\"colorbar\":{\"outlinewidth\":0,\"ticks\":\"\"},\"colorscale\":[[0.0,\"#0d0887\"],[0.1111111111111111,\"#46039f\"],[0.2222222222222222,\"#7201a8\"],[0.3333333333333333,\"#9c179e\"],[0.4444444444444444,\"#bd3786\"],[0.5555555555555556,\"#d8576b\"],[0.6666666666666666,\"#ed7953\"],[0.7777777777777778,\"#fb9f3a\"],[0.8888888888888888,\"#fdca26\"],[1.0,\"#f0f921\"]],\"type\":\"heatmap\"}],\"heatmapgl\":[{\"colorbar\":{\"outlinewidth\":0,\"ticks\":\"\"},\"colorscale\":[[0.0,\"#0d0887\"],[0.1111111111111111,\"#46039f\"],[0.2222222222222222,\"#7201a8\"],[0.3333333333333333,\"#9c179e\"],[0.4444444444444444,\"#bd3786\"],[0.5555555555555556,\"#d8576b\"],[0.6666666666666666,\"#ed7953\"],[0.7777777777777778,\"#fb9f3a\"],[0.8888888888888888,\"#fdca26\"],[1.0,\"#f0f921\"]],\"type\":\"heatmapgl\"}],\"histogram\":[{\"marker\":{\"pattern\":{\"fillmode\":\"overlay\",\"size\":10,\"solidity\":0.2}},\"type\":\"histogram\"}],\"histogram2d\":[{\"colorbar\":{\"outlinewidth\":0,\"ticks\":\"\"},\"colorscale\":[[0.0,\"#0d0887\"],[0.1111111111111111,\"#46039f\"],[0.2222222222222222,\"#7201a8\"],[0.3333333333333333,\"#9c179e\"],[0.4444444444444444,\"#bd3786\"],[0.5555555555555556,\"#d8576b\"],[0.6666666666666666,\"#ed7953\"],[0.7777777777777778,\"#fb9f3a\"],[0.8888888888888888,\"#fdca26\"],[1.0,\"#f0f921\"]],\"type\":\"histogram2d\"}],\"histogram2dcontour\":[{\"colorbar\":{\"outlinewidth\":0,\"ticks\":\"\"},\"colorscale\":[[0.0,\"#0d0887\"],[0.1111111111111111,\"#46039f\"],[0.2222222222222222,\"#7201a8\"],[0.3333333333333333,\"#9c179e\"],[0.4444444444444444,\"#bd3786\"],[0.5555555555555556,\"#d8576b\"],[0.6666666666666666,\"#ed7953\"],[0.7777777777777778,\"#fb9f3a\"],[0.8888888888888888,\"#fdca26\"],[1.0,\"#f0f921\"]],\"type\":\"histogram2dcontour\"}],\"mesh3d\":[{\"colorbar\":{\"outlinewidth\":0,\"ticks\":\"\"},\"type\":\"mesh3d\"}],\"parcoords\":[{\"line\":{\"colorbar\":{\"outlinewidth\":0,\"ticks\":\"\"}},\"type\":\"parcoords\"}],\"pie\":[{\"automargin\":true,\"type\":\"pie\"}],\"scatter\":[{\"marker\":{\"colorbar\":{\"outlinewidth\":0,\"ticks\":\"\"}},\"type\":\"scatter\"}],\"scatter3d\":[{\"line\":{\"colorbar\":{\"outlinewidth\":0,\"ticks\":\"\"}},\"marker\":{\"colorbar\":{\"outlinewidth\":0,\"ticks\":\"\"}},\"type\":\"scatter3d\"}],\"scattercarpet\":[{\"marker\":{\"colorbar\":{\"outlinewidth\":0,\"ticks\":\"\"}},\"type\":\"scattercarpet\"}],\"scattergeo\":[{\"marker\":{\"colorbar\":{\"outlinewidth\":0,\"ticks\":\"\"}},\"type\":\"scattergeo\"}],\"scattergl\":[{\"marker\":{\"colorbar\":{\"outlinewidth\":0,\"ticks\":\"\"}},\"type\":\"scattergl\"}],\"scattermapbox\":[{\"marker\":{\"colorbar\":{\"outlinewidth\":0,\"ticks\":\"\"}},\"type\":\"scattermapbox\"}],\"scatterpolar\":[{\"marker\":{\"colorbar\":{\"outlinewidth\":0,\"ticks\":\"\"}},\"type\":\"scatterpolar\"}],\"scatterpolargl\":[{\"marker\":{\"colorbar\":{\"outlinewidth\":0,\"ticks\":\"\"}},\"type\":\"scatterpolargl\"}],\"scatterternary\":[{\"marker\":{\"colorbar\":{\"outlinewidth\":0,\"ticks\":\"\"}},\"type\":\"scatterternary\"}],\"surface\":[{\"colorbar\":{\"outlinewidth\":0,\"ticks\":\"\"},\"colorscale\":[[0.0,\"#0d0887\"],[0.1111111111111111,\"#46039f\"],[0.2222222222222222,\"#7201a8\"],[0.3333333333333333,\"#9c179e\"],[0.4444444444444444,\"#bd3786\"],[0.5555555555555556,\"#d8576b\"],[0.6666666666666666,\"#ed7953\"],[0.7777777777777778,\"#fb9f3a\"],[0.8888888888888888,\"#fdca26\"],[1.0,\"#f0f921\"]],\"type\":\"surface\"}],\"table\":[{\"cells\":{\"fill\":{\"color\":\"#EBF0F8\"},\"line\":{\"color\":\"white\"}},\"header\":{\"fill\":{\"color\":\"#C8D4E3\"},\"line\":{\"color\":\"white\"}},\"type\":\"table\"}]},\"layout\":{\"annotationdefaults\":{\"arrowcolor\":\"#2a3f5f\",\"arrowhead\":0,\"arrowwidth\":1},\"autotypenumbers\":\"strict\",\"coloraxis\":{\"colorbar\":{\"outlinewidth\":0,\"ticks\":\"\"}},\"colorscale\":{\"diverging\":[[0,\"#8e0152\"],[0.1,\"#c51b7d\"],[0.2,\"#de77ae\"],[0.3,\"#f1b6da\"],[0.4,\"#fde0ef\"],[0.5,\"#f7f7f7\"],[0.6,\"#e6f5d0\"],[0.7,\"#b8e186\"],[0.8,\"#7fbc41\"],[0.9,\"#4d9221\"],[1,\"#276419\"]],\"sequential\":[[0.0,\"#0d0887\"],[0.1111111111111111,\"#46039f\"],[0.2222222222222222,\"#7201a8\"],[0.3333333333333333,\"#9c179e\"],[0.4444444444444444,\"#bd3786\"],[0.5555555555555556,\"#d8576b\"],[0.6666666666666666,\"#ed7953\"],[0.7777777777777778,\"#fb9f3a\"],[0.8888888888888888,\"#fdca26\"],[1.0,\"#f0f921\"]],\"sequentialminus\":[[0.0,\"#0d0887\"],[0.1111111111111111,\"#46039f\"],[0.2222222222222222,\"#7201a8\"],[0.3333333333333333,\"#9c179e\"],[0.4444444444444444,\"#bd3786\"],[0.5555555555555556,\"#d8576b\"],[0.6666666666666666,\"#ed7953\"],[0.7777777777777778,\"#fb9f3a\"],[0.8888888888888888,\"#fdca26\"],[1.0,\"#f0f921\"]]},\"colorway\":[\"#636efa\",\"#EF553B\",\"#00cc96\",\"#ab63fa\",\"#FFA15A\",\"#19d3f3\",\"#FF6692\",\"#B6E880\",\"#FF97FF\",\"#FECB52\"],\"font\":{\"color\":\"#2a3f5f\"},\"geo\":{\"bgcolor\":\"white\",\"lakecolor\":\"white\",\"landcolor\":\"#E5ECF6\",\"showlakes\":true,\"showland\":true,\"subunitcolor\":\"white\"},\"hoverlabel\":{\"align\":\"left\"},\"hovermode\":\"closest\",\"mapbox\":{\"style\":\"light\"},\"paper_bgcolor\":\"white\",\"plot_bgcolor\":\"#E5ECF6\",\"polar\":{\"angularaxis\":{\"gridcolor\":\"white\",\"linecolor\":\"white\",\"ticks\":\"\"},\"bgcolor\":\"#E5ECF6\",\"radialaxis\":{\"gridcolor\":\"white\",\"linecolor\":\"white\",\"ticks\":\"\"}},\"scene\":{\"xaxis\":{\"backgroundcolor\":\"#E5ECF6\",\"gridcolor\":\"white\",\"gridwidth\":2,\"linecolor\":\"white\",\"showbackground\":true,\"ticks\":\"\",\"zerolinecolor\":\"white\"},\"yaxis\":{\"backgroundcolor\":\"#E5ECF6\",\"gridcolor\":\"white\",\"gridwidth\":2,\"linecolor\":\"white\",\"showbackground\":true,\"ticks\":\"\",\"zerolinecolor\":\"white\"},\"zaxis\":{\"backgroundcolor\":\"#E5ECF6\",\"gridcolor\":\"white\",\"gridwidth\":2,\"linecolor\":\"white\",\"showbackground\":true,\"ticks\":\"\",\"zerolinecolor\":\"white\"}},\"shapedefaults\":{\"line\":{\"color\":\"#2a3f5f\"}},\"ternary\":{\"aaxis\":{\"gridcolor\":\"white\",\"linecolor\":\"white\",\"ticks\":\"\"},\"baxis\":{\"gridcolor\":\"white\",\"linecolor\":\"white\",\"ticks\":\"\"},\"bgcolor\":\"#E5ECF6\",\"caxis\":{\"gridcolor\":\"white\",\"linecolor\":\"white\",\"ticks\":\"\"}},\"title\":{\"x\":0.05},\"xaxis\":{\"automargin\":true,\"gridcolor\":\"white\",\"linecolor\":\"white\",\"ticks\":\"\",\"title\":{\"standoff\":15},\"zerolinecolor\":\"white\",\"zerolinewidth\":2},\"yaxis\":{\"automargin\":true,\"gridcolor\":\"white\",\"linecolor\":\"white\",\"ticks\":\"\",\"title\":{\"standoff\":15},\"zerolinecolor\":\"white\",\"zerolinewidth\":2}}},\"xaxis\":{\"anchor\":\"y\",\"domain\":[0.0,1.0],\"title\":{\"text\":\"number\"}},\"yaxis\":{\"anchor\":\"x\",\"domain\":[0.0,1.0],\"title\":{\"text\":\"stage\"}},\"legend\":{\"tracegroupgap\":0},\"margin\":{\"t\":60}},                        {\"responsive\": true}                    ).then(function(){\n",
              "                            \n",
              "var gd = document.getElementById('459aa3e4-5a5b-439b-a94a-6605e1a50d7c');\n",
              "var x = new MutationObserver(function (mutations, observer) {{\n",
              "        var display = window.getComputedStyle(gd).display;\n",
              "        if (!display || display === 'none') {{\n",
              "            console.log([gd, 'removed!']);\n",
              "            Plotly.purge(gd);\n",
              "            observer.disconnect();\n",
              "        }}\n",
              "}});\n",
              "\n",
              "// Listen for the removal of the full notebook cells\n",
              "var notebookContainer = gd.closest('#notebook-container');\n",
              "if (notebookContainer) {{\n",
              "    x.observe(notebookContainer, {childList: true});\n",
              "}}\n",
              "\n",
              "// Listen for the clearing of the current output cell\n",
              "var outputEl = gd.closest('.output');\n",
              "if (outputEl) {{\n",
              "    x.observe(outputEl, {childList: true});\n",
              "}}\n",
              "\n",
              "                        })                };                            </script>        </div>\n",
              "</body>\n",
              "</html>"
            ]
          },
          "metadata": {}
        }
      ]
    },
    {
      "cell_type": "code",
      "source": [
        "lead_per_origin = pd.DataFrame(marketing_funnel.groupby('origin')['mql_id'].count().sort_values(ascending = False))"
      ],
      "metadata": {
        "id": "BJdqXJu0uSxJ"
      },
      "execution_count": null,
      "outputs": []
    },
    {
      "cell_type": "code",
      "source": [],
      "metadata": {
        "id": "BcVu1PInzPvZ"
      },
      "execution_count": null,
      "outputs": []
    },
    {
      "cell_type": "code",
      "source": [
        "seller_per_origin = pd.DataFrame(marketing_funnel.groupby('origin')['seller_id'].count().sort_values(ascending = False))"
      ],
      "metadata": {
        "id": "jFasCjsJwMe3"
      },
      "execution_count": null,
      "outputs": []
    },
    {
      "cell_type": "code",
      "source": [
        "leads_sellers = lead_per_origin.merge(seller_per_origin, how = 'left', on = 'origin')\n",
        "leads_sellers['conversion_rate'] = leads_sellers['seller_id'] / leads_sellers['mql_id'] * 100\n",
        "leads_sellers.sort_values(by = 'conversion_rate', ascending=False)"
      ],
      "metadata": {
        "id": "y-dgIg1Zwkkj"
      },
      "execution_count": null,
      "outputs": []
    },
    {
      "cell_type": "code",
      "source": [
        "\n",
        "leads_sellers['conversion_rate'].plot.barh()"
      ],
      "metadata": {
        "id": "cXxWCaSYw413"
      },
      "execution_count": null,
      "outputs": []
    },
    {
      "cell_type": "code",
      "source": [],
      "metadata": {
        "id": "FmrFTU6j9rGb"
      },
      "execution_count": null,
      "outputs": []
    }
  ]
}