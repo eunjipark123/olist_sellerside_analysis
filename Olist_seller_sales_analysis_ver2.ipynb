{
  "nbformat": 4,
  "nbformat_minor": 0,
  "metadata": {
    "colab": {
      "provenance": [],
      "mount_file_id": "1PlHKOygKpb-4egVeLkjxBD198uXHXxP2",
      "authorship_tag": "ABX9TyPyAP2F1fMLPGGOIMjgHmxb",
      "include_colab_link": true
    },
    "kernelspec": {
      "name": "python3",
      "display_name": "Python 3"
    },
    "language_info": {
      "name": "python"
    }
  },
  "cells": [
    {
      "cell_type": "markdown",
      "metadata": {
        "id": "view-in-github",
        "colab_type": "text"
      },
      "source": [
        "<a href=\"https://colab.research.google.com/github/eunjipark123/olist_sellerside_analysis/blob/main/Olist_seller_sales_analysis_ver2.ipynb\" target=\"_parent\"><img src=\"https://colab.research.google.com/assets/colab-badge.svg\" alt=\"Open In Colab\"/></a>"
      ]
    },
    {
      "cell_type": "markdown",
      "source": [
        "# I. 준비\n",
        "## 1. 분석에 필요한 라이브러리와 파일 불러오기"
      ],
      "metadata": {
        "id": "_EMCw-TZiICj"
      }
    },
    {
      "cell_type": "code",
      "execution_count": null,
      "metadata": {
        "id": "4YQygFIKBq_Z"
      },
      "outputs": [],
      "source": [
        "import pandas as pd\n",
        "%matplotlib inline\n",
        "import matplotlib.pyplot as plt\n",
        "import seaborn as sns\n",
        "import plotly.express as px"
      ]
    },
    {
      "cell_type": "code",
      "source": [
        "# 마케팅 퍼널 분석에 필요한 자료 리드\n",
        "\n",
        "# 단계 별 데이터\n",
        "mql = pd.read_csv(\"/content/drive/MyDrive/olist/01_dataset/olist_marketing_qualified_leads_dataset.csv\") # mql 단계\n",
        "cd = pd.read_csv(\"/content/drive/MyDrive/olist/01_dataset/olist_closed_deals_dataset.csv\") # cd 단계\n",
        "order_items = pd.read_csv(\"/content/drive/MyDrive/olist/01_dataset/olist_order_items_dataset.csv\") # 주문-판매 단계 (아이템)\n",
        "orders = pd.read_csv(\"/content/drive/MyDrive/olist/01_dataset/olist_orders_dataset.csv\") # 주문-판매 단계 (주문 시각)\n",
        "\n",
        "\n",
        "# 현재 불필요하다고 판단되는 데이터\n",
        "#sellers = pd.read_csv(\"/content/drive/MyDrive/olist/01_dataset/olist_sellers_dataset.csv\")\n",
        "#customers = pd.read_csv(\"/content/drive/MyDrive/olist/01_dataset/olist_customers_dataset.csv\")\n",
        "#location = pd.read_csv(\"/content/drive/MyDrive/olist/01_dataset/olist_geolocation_dataset.csv\")\n",
        "# order_payments = pd.read_csv(\"/content/drive/MyDrive/olist/01_dataset/olist_order_payments_dataset.csv\")\n",
        "# categories = pd.read_csv(\"/content/drive/MyDrive/olist/01_dataset/product_category_name_translation.csv\")\n",
        "# products = pd.read_csv(\"/content/drive/MyDrive/olist/01_dataset/olist_products_dataset.csv\") # 상품 정보 "
      ],
      "metadata": {
        "id": "SvIahUG_Bs7n"
      },
      "execution_count": null,
      "outputs": []
    },
    {
      "cell_type": "markdown",
      "source": [
        "## 2. 테이블 확인 \n",
        "- EDA를 통해 테이블 정보를 확인해본다. "
      ],
      "metadata": {
        "id": "rNIkFJseimnj"
      }
    },
    {
      "cell_type": "markdown",
      "source": [
        "### 1) mql 테이블"
      ],
      "metadata": {
        "id": "xUb09g3RyOxl"
      }
    },
    {
      "cell_type": "code",
      "source": [
        "# 총 4개의 컬럼과 8천 개의 자료로 구성됨 \n",
        "# origin에 60개의 결측치 있음\n",
        "# first_contact_date는 데이터 타입이 object로 데이터 타입 변경 필요\n",
        "\n",
        "mql.info()"
      ],
      "metadata": {
        "colab": {
          "base_uri": "https://localhost:8080/"
        },
        "id": "cL1qqNukoV7w",
        "outputId": "81ca18fe-4f0d-40c9-ff3b-9e8ba5187279"
      },
      "execution_count": null,
      "outputs": [
        {
          "output_type": "stream",
          "name": "stdout",
          "text": [
            "<class 'pandas.core.frame.DataFrame'>\n",
            "RangeIndex: 8000 entries, 0 to 7999\n",
            "Data columns (total 4 columns):\n",
            " #   Column              Non-Null Count  Dtype \n",
            "---  ------              --------------  ----- \n",
            " 0   mql_id              8000 non-null   object\n",
            " 1   first_contact_date  8000 non-null   object\n",
            " 2   landing_page_id     8000 non-null   object\n",
            " 3   origin              7940 non-null   object\n",
            "dtypes: object(4)\n",
            "memory usage: 250.1+ KB\n"
          ]
        }
      ]
    },
    {
      "cell_type": "code",
      "source": [
        "# 데이터 타입 변경 (first_contact_date)\n",
        "mql['first_contact_date'] = pd.to_datetime(mql['first_contact_date'])"
      ],
      "metadata": {
        "id": "eppF9uvk0PPt"
      },
      "execution_count": null,
      "outputs": []
    },
    {
      "cell_type": "code",
      "source": [
        "mql.info()"
      ],
      "metadata": {
        "colab": {
          "base_uri": "https://localhost:8080/"
        },
        "id": "xiJ2rvNh0XhM",
        "outputId": "613034f5-02d5-47f1-88f2-636311a779ec"
      },
      "execution_count": null,
      "outputs": [
        {
          "output_type": "stream",
          "name": "stdout",
          "text": [
            "<class 'pandas.core.frame.DataFrame'>\n",
            "RangeIndex: 8000 entries, 0 to 7999\n",
            "Data columns (total 4 columns):\n",
            " #   Column              Non-Null Count  Dtype         \n",
            "---  ------              --------------  -----         \n",
            " 0   mql_id              8000 non-null   object        \n",
            " 1   first_contact_date  8000 non-null   datetime64[ns]\n",
            " 2   landing_page_id     8000 non-null   object        \n",
            " 3   origin              7940 non-null   object        \n",
            "dtypes: datetime64[ns](1), object(3)\n",
            "memory usage: 250.1+ KB\n"
          ]
        }
      ]
    },
    {
      "cell_type": "code",
      "source": [
        "# first_contact_date 추이 \n",
        "# 2018년 1월 이후 first_contact까지 간 leads 수가 급증하는 것을 알 수 있다. \n",
        "fc_date_trends = pd.DataFrame(mql.groupby([mql.first_contact_date.dt.year, mql.first_contact_date.dt.month])['mql_id'].count())\n",
        "fc_date_trends.reset_index(level = 0, inplace = True)\n",
        "fc_date_trends = fc_date_trends.rename(columns = {'first_contact_date' : 'fc_year', 'mql_id' : 'leads_cnt'})\n",
        "fc_date_trends.reset_index(inplace = True)\n",
        "fc_date_trends = fc_date_trends.rename(columns = {'first_contact_date' : 'fc_month'})\n",
        "fc_date_trends = fc_date_trends[['fc_year', 'fc_month', 'leads_cnt']]\n",
        "fc_date_trends"
      ],
      "metadata": {
        "colab": {
          "base_uri": "https://localhost:8080/",
          "height": 426
        },
        "id": "M8CiUCCqzUnp",
        "outputId": "81383b3b-cf3c-4cc2-f2ca-4f5605c38684"
      },
      "execution_count": null,
      "outputs": [
        {
          "output_type": "execute_result",
          "data": {
            "text/plain": [
              "    fc_year  fc_month  leads_cnt\n",
              "0      2017         6          4\n",
              "1      2017         7        239\n",
              "2      2017         8        386\n",
              "3      2017         9        312\n",
              "4      2017        10        416\n",
              "5      2017        11        445\n",
              "6      2017        12        200\n",
              "7      2018         1       1141\n",
              "8      2018         2       1028\n",
              "9      2018         3       1174\n",
              "10     2018         4       1352\n",
              "11     2018         5       1303"
            ],
            "text/html": [
              "\n",
              "  <div id=\"df-1686d7e6-9e47-4763-89ab-21a4937c37e5\">\n",
              "    <div class=\"colab-df-container\">\n",
              "      <div>\n",
              "<style scoped>\n",
              "    .dataframe tbody tr th:only-of-type {\n",
              "        vertical-align: middle;\n",
              "    }\n",
              "\n",
              "    .dataframe tbody tr th {\n",
              "        vertical-align: top;\n",
              "    }\n",
              "\n",
              "    .dataframe thead th {\n",
              "        text-align: right;\n",
              "    }\n",
              "</style>\n",
              "<table border=\"1\" class=\"dataframe\">\n",
              "  <thead>\n",
              "    <tr style=\"text-align: right;\">\n",
              "      <th></th>\n",
              "      <th>fc_year</th>\n",
              "      <th>fc_month</th>\n",
              "      <th>leads_cnt</th>\n",
              "    </tr>\n",
              "  </thead>\n",
              "  <tbody>\n",
              "    <tr>\n",
              "      <th>0</th>\n",
              "      <td>2017</td>\n",
              "      <td>6</td>\n",
              "      <td>4</td>\n",
              "    </tr>\n",
              "    <tr>\n",
              "      <th>1</th>\n",
              "      <td>2017</td>\n",
              "      <td>7</td>\n",
              "      <td>239</td>\n",
              "    </tr>\n",
              "    <tr>\n",
              "      <th>2</th>\n",
              "      <td>2017</td>\n",
              "      <td>8</td>\n",
              "      <td>386</td>\n",
              "    </tr>\n",
              "    <tr>\n",
              "      <th>3</th>\n",
              "      <td>2017</td>\n",
              "      <td>9</td>\n",
              "      <td>312</td>\n",
              "    </tr>\n",
              "    <tr>\n",
              "      <th>4</th>\n",
              "      <td>2017</td>\n",
              "      <td>10</td>\n",
              "      <td>416</td>\n",
              "    </tr>\n",
              "    <tr>\n",
              "      <th>5</th>\n",
              "      <td>2017</td>\n",
              "      <td>11</td>\n",
              "      <td>445</td>\n",
              "    </tr>\n",
              "    <tr>\n",
              "      <th>6</th>\n",
              "      <td>2017</td>\n",
              "      <td>12</td>\n",
              "      <td>200</td>\n",
              "    </tr>\n",
              "    <tr>\n",
              "      <th>7</th>\n",
              "      <td>2018</td>\n",
              "      <td>1</td>\n",
              "      <td>1141</td>\n",
              "    </tr>\n",
              "    <tr>\n",
              "      <th>8</th>\n",
              "      <td>2018</td>\n",
              "      <td>2</td>\n",
              "      <td>1028</td>\n",
              "    </tr>\n",
              "    <tr>\n",
              "      <th>9</th>\n",
              "      <td>2018</td>\n",
              "      <td>3</td>\n",
              "      <td>1174</td>\n",
              "    </tr>\n",
              "    <tr>\n",
              "      <th>10</th>\n",
              "      <td>2018</td>\n",
              "      <td>4</td>\n",
              "      <td>1352</td>\n",
              "    </tr>\n",
              "    <tr>\n",
              "      <th>11</th>\n",
              "      <td>2018</td>\n",
              "      <td>5</td>\n",
              "      <td>1303</td>\n",
              "    </tr>\n",
              "  </tbody>\n",
              "</table>\n",
              "</div>\n",
              "      <button class=\"colab-df-convert\" onclick=\"convertToInteractive('df-1686d7e6-9e47-4763-89ab-21a4937c37e5')\"\n",
              "              title=\"Convert this dataframe to an interactive table.\"\n",
              "              style=\"display:none;\">\n",
              "        \n",
              "  <svg xmlns=\"http://www.w3.org/2000/svg\" height=\"24px\"viewBox=\"0 0 24 24\"\n",
              "       width=\"24px\">\n",
              "    <path d=\"M0 0h24v24H0V0z\" fill=\"none\"/>\n",
              "    <path d=\"M18.56 5.44l.94 2.06.94-2.06 2.06-.94-2.06-.94-.94-2.06-.94 2.06-2.06.94zm-11 1L8.5 8.5l.94-2.06 2.06-.94-2.06-.94L8.5 2.5l-.94 2.06-2.06.94zm10 10l.94 2.06.94-2.06 2.06-.94-2.06-.94-.94-2.06-.94 2.06-2.06.94z\"/><path d=\"M17.41 7.96l-1.37-1.37c-.4-.4-.92-.59-1.43-.59-.52 0-1.04.2-1.43.59L10.3 9.45l-7.72 7.72c-.78.78-.78 2.05 0 2.83L4 21.41c.39.39.9.59 1.41.59.51 0 1.02-.2 1.41-.59l7.78-7.78 2.81-2.81c.8-.78.8-2.07 0-2.86zM5.41 20L4 18.59l7.72-7.72 1.47 1.35L5.41 20z\"/>\n",
              "  </svg>\n",
              "      </button>\n",
              "      \n",
              "  <style>\n",
              "    .colab-df-container {\n",
              "      display:flex;\n",
              "      flex-wrap:wrap;\n",
              "      gap: 12px;\n",
              "    }\n",
              "\n",
              "    .colab-df-convert {\n",
              "      background-color: #E8F0FE;\n",
              "      border: none;\n",
              "      border-radius: 50%;\n",
              "      cursor: pointer;\n",
              "      display: none;\n",
              "      fill: #1967D2;\n",
              "      height: 32px;\n",
              "      padding: 0 0 0 0;\n",
              "      width: 32px;\n",
              "    }\n",
              "\n",
              "    .colab-df-convert:hover {\n",
              "      background-color: #E2EBFA;\n",
              "      box-shadow: 0px 1px 2px rgba(60, 64, 67, 0.3), 0px 1px 3px 1px rgba(60, 64, 67, 0.15);\n",
              "      fill: #174EA6;\n",
              "    }\n",
              "\n",
              "    [theme=dark] .colab-df-convert {\n",
              "      background-color: #3B4455;\n",
              "      fill: #D2E3FC;\n",
              "    }\n",
              "\n",
              "    [theme=dark] .colab-df-convert:hover {\n",
              "      background-color: #434B5C;\n",
              "      box-shadow: 0px 1px 3px 1px rgba(0, 0, 0, 0.15);\n",
              "      filter: drop-shadow(0px 1px 2px rgba(0, 0, 0, 0.3));\n",
              "      fill: #FFFFFF;\n",
              "    }\n",
              "  </style>\n",
              "\n",
              "      <script>\n",
              "        const buttonEl =\n",
              "          document.querySelector('#df-1686d7e6-9e47-4763-89ab-21a4937c37e5 button.colab-df-convert');\n",
              "        buttonEl.style.display =\n",
              "          google.colab.kernel.accessAllowed ? 'block' : 'none';\n",
              "\n",
              "        async function convertToInteractive(key) {\n",
              "          const element = document.querySelector('#df-1686d7e6-9e47-4763-89ab-21a4937c37e5');\n",
              "          const dataTable =\n",
              "            await google.colab.kernel.invokeFunction('convertToInteractive',\n",
              "                                                     [key], {});\n",
              "          if (!dataTable) return;\n",
              "\n",
              "          const docLinkHtml = 'Like what you see? Visit the ' +\n",
              "            '<a target=\"_blank\" href=https://colab.research.google.com/notebooks/data_table.ipynb>data table notebook</a>'\n",
              "            + ' to learn more about interactive tables.';\n",
              "          element.innerHTML = '';\n",
              "          dataTable['output_type'] = 'display_data';\n",
              "          await google.colab.output.renderOutput(dataTable, element);\n",
              "          const docLink = document.createElement('div');\n",
              "          docLink.innerHTML = docLinkHtml;\n",
              "          element.appendChild(docLink);\n",
              "        }\n",
              "      </script>\n",
              "    </div>\n",
              "  </div>\n",
              "  "
            ]
          },
          "metadata": {},
          "execution_count": 6
        }
      ]
    },
    {
      "cell_type": "code",
      "source": [
        "pd.DataFrame(mql.groupby([mql.first_contact_date.dt.year, mql.first_contact_date.dt.month])['mql_id'].count()).plot()"
      ],
      "metadata": {
        "colab": {
          "base_uri": "https://localhost:8080/",
          "height": 299
        },
        "id": "saBc12v870vv",
        "outputId": "16475d4e-f3b9-421c-9b42-cbb499aded38"
      },
      "execution_count": null,
      "outputs": [
        {
          "output_type": "execute_result",
          "data": {
            "text/plain": [
              "<matplotlib.axes._subplots.AxesSubplot at 0x7fbde3474970>"
            ]
          },
          "metadata": {},
          "execution_count": 7
        },
        {
          "output_type": "display_data",
          "data": {
            "text/plain": [
              "<Figure size 432x288 with 1 Axes>"
            ],
            "image/png": "[encoded data removed]"
          },
          "metadata": {
            "needs_background": "light"
          }
        }
      ]
    },
    {
      "cell_type": "code",
      "source": [
        "# landing_page의 고유한 값이 약 495개 있음 \n",
        "# 이중 top5는 최소 394명의 유저가 방문한 랜딩 페이지 유형을 의미함\n",
        "pd.Series(mql['landing_page_id'].value_counts()).head(5)"
      ],
      "metadata": {
        "colab": {
          "base_uri": "https://localhost:8080/"
        },
        "id": "VQrntQbJk5ss",
        "outputId": "0e0a0e92-afa8-4d46-c0f5-7a82f08df0b9"
      },
      "execution_count": null,
      "outputs": [
        {
          "output_type": "execute_result",
          "data": {
            "text/plain": [
              "b76ef37428e6799c421989521c0e5077    912\n",
              "22c29808c4f815213303f8933030604c    883\n",
              "58326e62183c14b0c03085c33b9fdc44    495\n",
              "88740e65d5d6b056e0cda098e1ea6313    445\n",
              "ce1a65abd0973638f1c887a6efcfa82d    394\n",
              "Name: landing_page_id, dtype: int64"
            ]
          },
          "metadata": {},
          "execution_count": 8
        }
      ]
    },
    {
      "cell_type": "code",
      "source": [
        "# mql 채널 정보는 다음과 같음 \n",
        "# paid_search : 유료 검색 광고\n",
        "# social : sns\n",
        "# direct_traffic : 직접 접속 \n",
        "# display : 온라인 배너 광고 \n",
        "# other_publicities : 홍보\n",
        "\n",
        "# unknown은 채널 경로를 알 수 없으나, 개체 수가 많은 만큼 무시할 수 없음 --> 12/16 결론 : unknown과 other, null값을 unknown으로 통합 \n",
        "mql['origin'].value_counts()"
      ],
      "metadata": {
        "colab": {
          "base_uri": "https://localhost:8080/"
        },
        "id": "Bvn84p6Vi7Gu",
        "outputId": "2c798570-3762-4e31-cbbe-6cfb23f8ba6d"
      },
      "execution_count": null,
      "outputs": [
        {
          "output_type": "execute_result",
          "data": {
            "text/plain": [
              "organic_search       2296\n",
              "paid_search          1586\n",
              "social               1350\n",
              "unknown              1099\n",
              "direct_traffic        499\n",
              "email                 493\n",
              "referral              284\n",
              "other                 150\n",
              "display               118\n",
              "other_publicities      65\n",
              "Name: origin, dtype: int64"
            ]
          },
          "metadata": {},
          "execution_count": 9
        }
      ]
    },
    {
      "cell_type": "code",
      "source": [
        "mql.loc[mql['origin'] == 'other','origin'] = 'unknown'\n",
        "mql.loc[mql['origin'].isna(),'origin'] = 'unknown'"
      ],
      "metadata": {
        "id": "lBQ7ilx_FtYT"
      },
      "execution_count": null,
      "outputs": []
    },
    {
      "cell_type": "code",
      "source": [
        "# origin에서 other, null값이 모두 unknown으로 편입된 것을 볼 수 있다. \n",
        "mql['origin'].value_counts()"
      ],
      "metadata": {
        "colab": {
          "base_uri": "https://localhost:8080/"
        },
        "id": "64nj8ZTHGKvJ",
        "outputId": "32d85d4f-ad1e-497c-e81e-62d28c32d302"
      },
      "execution_count": null,
      "outputs": [
        {
          "output_type": "execute_result",
          "data": {
            "text/plain": [
              "organic_search       2296\n",
              "paid_search          1586\n",
              "social               1350\n",
              "unknown              1309\n",
              "direct_traffic        499\n",
              "email                 493\n",
              "referral              284\n",
              "display               118\n",
              "other_publicities      65\n",
              "Name: origin, dtype: int64"
            ]
          },
          "metadata": {},
          "execution_count": 11
        }
      ]
    },
    {
      "cell_type": "code",
      "source": [
        "mql.info()"
      ],
      "metadata": {
        "colab": {
          "base_uri": "https://localhost:8080/"
        },
        "id": "mHk5LSmYZG-C",
        "outputId": "dabc0f63-bda0-4e8b-d43b-0567060df220"
      },
      "execution_count": null,
      "outputs": [
        {
          "output_type": "stream",
          "name": "stdout",
          "text": [
            "<class 'pandas.core.frame.DataFrame'>\n",
            "RangeIndex: 8000 entries, 0 to 7999\n",
            "Data columns (total 4 columns):\n",
            " #   Column              Non-Null Count  Dtype         \n",
            "---  ------              --------------  -----         \n",
            " 0   mql_id              8000 non-null   object        \n",
            " 1   first_contact_date  8000 non-null   datetime64[ns]\n",
            " 2   landing_page_id     8000 non-null   object        \n",
            " 3   origin              8000 non-null   object        \n",
            "dtypes: datetime64[ns](1), object(3)\n",
            "memory usage: 250.1+ KB\n"
          ]
        }
      ]
    },
    {
      "cell_type": "markdown",
      "source": [
        "### 2) cd(closed_deals) 테이블"
      ],
      "metadata": {
        "id": "m4Y46QqJ8NKg"
      }
    },
    {
      "cell_type": "code",
      "source": [
        "# cd 테이블은 mql 테이블의 lead 중 olist의 seller로 전환된 (셀러)고객을 의미함\n",
        "# 842명이 셀러로 전환되었으며, 계약을 성사시킨 sdr, sr 직원의 정보와 체결 날짜를 알 수 있다. \n",
        "# 계약 당시 셀러가 기입한 비즈니스 정보에 대해서 알 수 있음\n",
        "# 이 중 has_company, has_gtin, avergage_stock, declared_product_catalog_size는 null값이 많아 분석으로 상요 불가능\n",
        "cd.info()"
      ],
      "metadata": {
        "id": "tOP-ZGACrHDU",
        "outputId": "560a74ad-d9d1-4a56-f8f4-878b270e0bbc",
        "colab": {
          "base_uri": "https://localhost:8080/"
        }
      },
      "execution_count": null,
      "outputs": [
        {
          "output_type": "stream",
          "name": "stdout",
          "text": [
            "<class 'pandas.core.frame.DataFrame'>\n",
            "RangeIndex: 842 entries, 0 to 841\n",
            "Data columns (total 14 columns):\n",
            " #   Column                         Non-Null Count  Dtype  \n",
            "---  ------                         --------------  -----  \n",
            " 0   mql_id                         842 non-null    object \n",
            " 1   seller_id                      842 non-null    object \n",
            " 2   sdr_id                         842 non-null    object \n",
            " 3   sr_id                          842 non-null    object \n",
            " 4   won_date                       842 non-null    object \n",
            " 5   business_segment               841 non-null    object \n",
            " 6   lead_type                      836 non-null    object \n",
            " 7   lead_behaviour_profile         665 non-null    object \n",
            " 8   has_company                    63 non-null     object \n",
            " 9   has_gtin                       64 non-null     object \n",
            " 10  average_stock                  66 non-null     object \n",
            " 11  business_type                  832 non-null    object \n",
            " 12  declared_product_catalog_size  69 non-null     float64\n",
            " 13  declared_monthly_revenue       842 non-null    float64\n",
            "dtypes: float64(2), object(12)\n",
            "memory usage: 92.2+ KB\n"
          ]
        }
      ]
    },
    {
      "cell_type": "code",
      "source": [
        "# won_date의 데이터타입을 '날짜'로 변경\n",
        "cd['won_date'] = pd.to_datetime(cd['won_date'])"
      ],
      "metadata": {
        "id": "ZDsNBsJnym7M"
      },
      "execution_count": null,
      "outputs": []
    },
    {
      "cell_type": "code",
      "source": [
        "# business_type에 어떤 값들이 있는지 확인\n",
        "# nan값은 other로 편입시키기\n",
        "cd['business_type'].unique()"
      ],
      "metadata": {
        "colab": {
          "base_uri": "https://localhost:8080/"
        },
        "id": "DY8U0lU-COlZ",
        "outputId": "8759cf9c-3d0b-4139-8794-dde8c04f40b9"
      },
      "execution_count": null,
      "outputs": [
        {
          "output_type": "execute_result",
          "data": {
            "text/plain": [
              "array(['reseller', 'manufacturer', 'other', nan], dtype=object)"
            ]
          },
          "metadata": {},
          "execution_count": 15
        }
      ]
    },
    {
      "cell_type": "code",
      "source": [
        "cd.loc[cd['business_type'] == 'nan', 'business_type'] = 'other'\n",
        "cd.loc[cd['business_type'].isna(), 'business_type'] = 'other'"
      ],
      "metadata": {
        "id": "lOcpt0CQ87a2"
      },
      "execution_count": null,
      "outputs": []
    },
    {
      "cell_type": "code",
      "source": [
        "# nan, null값이 other로 변경되었음\n",
        "cd['business_type'].unique()"
      ],
      "metadata": {
        "colab": {
          "base_uri": "https://localhost:8080/"
        },
        "id": "F7qW5c-JFlyH",
        "outputId": "b992dd61-5b3b-4490-ae7f-6d050c540e02"
      },
      "execution_count": null,
      "outputs": [
        {
          "output_type": "execute_result",
          "data": {
            "text/plain": [
              "array(['reseller', 'manufacturer', 'other'], dtype=object)"
            ]
          },
          "metadata": {},
          "execution_count": 17
        }
      ]
    },
    {
      "cell_type": "markdown",
      "source": [
        "### 3) orders, order_items"
      ],
      "metadata": {
        "id": "9doBEKk8zAmM"
      }
    },
    {
      "cell_type": "code",
      "source": [
        "orders.info()"
      ],
      "metadata": {
        "colab": {
          "base_uri": "https://localhost:8080/"
        },
        "id": "0n6Yni8AzFzO",
        "outputId": "470844f0-afc9-4aa2-a293-1d360f316260"
      },
      "execution_count": null,
      "outputs": [
        {
          "output_type": "stream",
          "name": "stdout",
          "text": [
            "<class 'pandas.core.frame.DataFrame'>\n",
            "RangeIndex: 99441 entries, 0 to 99440\n",
            "Data columns (total 8 columns):\n",
            " #   Column                         Non-Null Count  Dtype \n",
            "---  ------                         --------------  ----- \n",
            " 0   order_id                       99441 non-null  object\n",
            " 1   customer_id                    99441 non-null  object\n",
            " 2   order_status                   99441 non-null  object\n",
            " 3   order_purchase_timestamp       99441 non-null  object\n",
            " 4   order_approved_at              99281 non-null  object\n",
            " 5   order_delivered_carrier_date   97658 non-null  object\n",
            " 6   order_delivered_customer_date  96476 non-null  object\n",
            " 7   order_estimated_delivery_date  99441 non-null  object\n",
            "dtypes: object(8)\n",
            "memory usage: 6.1+ MB\n"
          ]
        }
      ]
    },
    {
      "cell_type": "code",
      "source": [
        "# 주로 사용할 opt를 date 형식으로 변경\n",
        "orders['order_purchase_timestamp'] = pd.to_datetime(orders['order_purchase_timestamp'])"
      ],
      "metadata": {
        "id": "sEMQaz3DzFCQ"
      },
      "execution_count": null,
      "outputs": []
    },
    {
      "cell_type": "markdown",
      "source": [
        "## 3. 필요한 테이블 준비하기"
      ],
      "metadata": {
        "id": "MhuzmjELp2jF"
      }
    },
    {
      "cell_type": "markdown",
      "source": [
        "### 1) mf 테이블 : mql & olist (by = mql_id)\n",
        "- 첫 연락을 받은 Olist 리드(잠재 셀러) 중 계약 체결을 통해 셀러로 전환된 셀러 정보를 확인할 수 있음\n",
        "- 해석1. mql_id는 있지만, seller_id는 없는 경우 셀러로 전환되지 않은 것 \n",
        "- 해석2. mql_id도 있고 seller_id도 있다면 셀러로 전환된 것\n"
      ],
      "metadata": {
        "id": "CAL47NmiNDAI"
      }
    },
    {
      "cell_type": "code",
      "source": [
        "# mql 테이블과 closed_deals 테이블이 1:1 관계이므로 중복 이슈 없음\n",
        "mf = mql.merge(cd, how = 'left', on = 'mql_id')\n",
        "mf.head(2)"
      ],
      "metadata": {
        "id": "9vcU_5iuLDQl",
        "colab": {
          "base_uri": "https://localhost:8080/",
          "height": 176
        },
        "outputId": "1ae942b2-5b78-42ea-de3d-550458945ead"
      },
      "execution_count": null,
      "outputs": [
        {
          "output_type": "execute_result",
          "data": {
            "text/plain": [
              "                             mql_id first_contact_date  \\\n",
              "0  dac32acd4db4c29c230538b72f8dd87d         2018-02-01   \n",
              "1  8c18d1de7f67e60dbd64e3c07d7e9d5d         2017-10-20   \n",
              "\n",
              "                    landing_page_id       origin seller_id sdr_id sr_id  \\\n",
              "0  88740e65d5d6b056e0cda098e1ea6313       social       NaN    NaN   NaN   \n",
              "1  007f9098284a86ee80ddeb25d53e0af8  paid_search       NaN    NaN   NaN   \n",
              "\n",
              "  won_date business_segment lead_type lead_behaviour_profile has_company  \\\n",
              "0      NaT              NaN       NaN                    NaN         NaN   \n",
              "1      NaT              NaN       NaN                    NaN         NaN   \n",
              "\n",
              "  has_gtin average_stock business_type  declared_product_catalog_size  \\\n",
              "0      NaN           NaN           NaN                            NaN   \n",
              "1      NaN           NaN           NaN                            NaN   \n",
              "\n",
              "   declared_monthly_revenue  \n",
              "0                       NaN  \n",
              "1                       NaN  "
            ],
            "text/html": [
              "\n",
              "  <div id=\"df-242d848c-b0ee-4dc0-a819-de2e3c95ff35\">\n",
              "    <div class=\"colab-df-container\">\n",
              "      <div>\n",
              "<style scoped>\n",
              "    .dataframe tbody tr th:only-of-type {\n",
              "        vertical-align: middle;\n",
              "    }\n",
              "\n",
              "    .dataframe tbody tr th {\n",
              "        vertical-align: top;\n",
              "    }\n",
              "\n",
              "    .dataframe thead th {\n",
              "        text-align: right;\n",
              "    }\n",
              "</style>\n",
              "<table border=\"1\" class=\"dataframe\">\n",
              "  <thead>\n",
              "    <tr style=\"text-align: right;\">\n",
              "      <th></th>\n",
              "      <th>mql_id</th>\n",
              "      <th>first_contact_date</th>\n",
              "      <th>landing_page_id</th>\n",
              "      <th>origin</th>\n",
              "      <th>seller_id</th>\n",
              "      <th>sdr_id</th>\n",
              "      <th>sr_id</th>\n",
              "      <th>won_date</th>\n",
              "      <th>business_segment</th>\n",
              "      <th>lead_type</th>\n",
              "      <th>lead_behaviour_profile</th>\n",
              "      <th>has_company</th>\n",
              "      <th>has_gtin</th>\n",
              "      <th>average_stock</th>\n",
              "      <th>business_type</th>\n",
              "      <th>declared_product_catalog_size</th>\n",
              "      <th>declared_monthly_revenue</th>\n",
              "    </tr>\n",
              "  </thead>\n",
              "  <tbody>\n",
              "    <tr>\n",
              "      <th>0</th>\n",
              "      <td>dac32acd4db4c29c230538b72f8dd87d</td>\n",
              "      <td>2018-02-01</td>\n",
              "      <td>88740e65d5d6b056e0cda098e1ea6313</td>\n",
              "      <td>social</td>\n",
              "      <td>NaN</td>\n",
              "      <td>NaN</td>\n",
              "      <td>NaN</td>\n",
              "      <td>NaT</td>\n",
              "      <td>NaN</td>\n",
              "      <td>NaN</td>\n",
              "      <td>NaN</td>\n",
              "      <td>NaN</td>\n",
              "      <td>NaN</td>\n",
              "      <td>NaN</td>\n",
              "      <td>NaN</td>\n",
              "      <td>NaN</td>\n",
              "      <td>NaN</td>\n",
              "    </tr>\n",
              "    <tr>\n",
              "      <th>1</th>\n",
              "      <td>8c18d1de7f67e60dbd64e3c07d7e9d5d</td>\n",
              "      <td>2017-10-20</td>\n",
              "      <td>007f9098284a86ee80ddeb25d53e0af8</td>\n",
              "      <td>paid_search</td>\n",
              "      <td>NaN</td>\n",
              "      <td>NaN</td>\n",
              "      <td>NaN</td>\n",
              "      <td>NaT</td>\n",
              "      <td>NaN</td>\n",
              "      <td>NaN</td>\n",
              "      <td>NaN</td>\n",
              "      <td>NaN</td>\n",
              "      <td>NaN</td>\n",
              "      <td>NaN</td>\n",
              "      <td>NaN</td>\n",
              "      <td>NaN</td>\n",
              "      <td>NaN</td>\n",
              "    </tr>\n",
              "  </tbody>\n",
              "</table>\n",
              "</div>\n",
              "      <button class=\"colab-df-convert\" onclick=\"convertToInteractive('df-242d848c-b0ee-4dc0-a819-de2e3c95ff35')\"\n",
              "              title=\"Convert this dataframe to an interactive table.\"\n",
              "              style=\"display:none;\">\n",
              "        \n",
              "  <svg xmlns=\"http://www.w3.org/2000/svg\" height=\"24px\"viewBox=\"0 0 24 24\"\n",
              "       width=\"24px\">\n",
              "    <path d=\"M0 0h24v24H0V0z\" fill=\"none\"/>\n",
              "    <path d=\"M18.56 5.44l.94 2.06.94-2.06 2.06-.94-2.06-.94-.94-2.06-.94 2.06-2.06.94zm-11 1L8.5 8.5l.94-2.06 2.06-.94-2.06-.94L8.5 2.5l-.94 2.06-2.06.94zm10 10l.94 2.06.94-2.06 2.06-.94-2.06-.94-.94-2.06-.94 2.06-2.06.94z\"/><path d=\"M17.41 7.96l-1.37-1.37c-.4-.4-.92-.59-1.43-.59-.52 0-1.04.2-1.43.59L10.3 9.45l-7.72 7.72c-.78.78-.78 2.05 0 2.83L4 21.41c.39.39.9.59 1.41.59.51 0 1.02-.2 1.41-.59l7.78-7.78 2.81-2.81c.8-.78.8-2.07 0-2.86zM5.41 20L4 18.59l7.72-7.72 1.47 1.35L5.41 20z\"/>\n",
              "  </svg>\n",
              "      </button>\n",
              "      \n",
              "  <style>\n",
              "    .colab-df-container {\n",
              "      display:flex;\n",
              "      flex-wrap:wrap;\n",
              "      gap: 12px;\n",
              "    }\n",
              "\n",
              "    .colab-df-convert {\n",
              "      background-color: #E8F0FE;\n",
              "      border: none;\n",
              "      border-radius: 50%;\n",
              "      cursor: pointer;\n",
              "      display: none;\n",
              "      fill: #1967D2;\n",
              "      height: 32px;\n",
              "      padding: 0 0 0 0;\n",
              "      width: 32px;\n",
              "    }\n",
              "\n",
              "    .colab-df-convert:hover {\n",
              "      background-color: #E2EBFA;\n",
              "      box-shadow: 0px 1px 2px rgba(60, 64, 67, 0.3), 0px 1px 3px 1px rgba(60, 64, 67, 0.15);\n",
              "      fill: #174EA6;\n",
              "    }\n",
              "\n",
              "    [theme=dark] .colab-df-convert {\n",
              "      background-color: #3B4455;\n",
              "      fill: #D2E3FC;\n",
              "    }\n",
              "\n",
              "    [theme=dark] .colab-df-convert:hover {\n",
              "      background-color: #434B5C;\n",
              "      box-shadow: 0px 1px 3px 1px rgba(0, 0, 0, 0.15);\n",
              "      filter: drop-shadow(0px 1px 2px rgba(0, 0, 0, 0.3));\n",
              "      fill: #FFFFFF;\n",
              "    }\n",
              "  </style>\n",
              "\n",
              "      <script>\n",
              "        const buttonEl =\n",
              "          document.querySelector('#df-242d848c-b0ee-4dc0-a819-de2e3c95ff35 button.colab-df-convert');\n",
              "        buttonEl.style.display =\n",
              "          google.colab.kernel.accessAllowed ? 'block' : 'none';\n",
              "\n",
              "        async function convertToInteractive(key) {\n",
              "          const element = document.querySelector('#df-242d848c-b0ee-4dc0-a819-de2e3c95ff35');\n",
              "          const dataTable =\n",
              "            await google.colab.kernel.invokeFunction('convertToInteractive',\n",
              "                                                     [key], {});\n",
              "          if (!dataTable) return;\n",
              "\n",
              "          const docLinkHtml = 'Like what you see? Visit the ' +\n",
              "            '<a target=\"_blank\" href=https://colab.research.google.com/notebooks/data_table.ipynb>data table notebook</a>'\n",
              "            + ' to learn more about interactive tables.';\n",
              "          element.innerHTML = '';\n",
              "          dataTable['output_type'] = 'display_data';\n",
              "          await google.colab.output.renderOutput(dataTable, element);\n",
              "          const docLink = document.createElement('div');\n",
              "          docLink.innerHTML = docLinkHtml;\n",
              "          element.appendChild(docLink);\n",
              "        }\n",
              "      </script>\n",
              "    </div>\n",
              "  </div>\n",
              "  "
            ]
          },
          "metadata": {},
          "execution_count": 20
        }
      ]
    },
    {
      "cell_type": "code",
      "source": [
        "mf.info()"
      ],
      "metadata": {
        "colab": {
          "base_uri": "https://localhost:8080/"
        },
        "id": "KPpa74yKV8AK",
        "outputId": "9b62c4ad-c8a3-489d-cb3f-4e5705e460ed"
      },
      "execution_count": null,
      "outputs": [
        {
          "output_type": "stream",
          "name": "stdout",
          "text": [
            "<class 'pandas.core.frame.DataFrame'>\n",
            "Int64Index: 8000 entries, 0 to 7999\n",
            "Data columns (total 17 columns):\n",
            " #   Column                         Non-Null Count  Dtype         \n",
            "---  ------                         --------------  -----         \n",
            " 0   mql_id                         8000 non-null   object        \n",
            " 1   first_contact_date             8000 non-null   datetime64[ns]\n",
            " 2   landing_page_id                8000 non-null   object        \n",
            " 3   origin                         8000 non-null   object        \n",
            " 4   seller_id                      842 non-null    object        \n",
            " 5   sdr_id                         842 non-null    object        \n",
            " 6   sr_id                          842 non-null    object        \n",
            " 7   won_date                       842 non-null    datetime64[ns]\n",
            " 8   business_segment               841 non-null    object        \n",
            " 9   lead_type                      836 non-null    object        \n",
            " 10  lead_behaviour_profile         665 non-null    object        \n",
            " 11  has_company                    63 non-null     object        \n",
            " 12  has_gtin                       64 non-null     object        \n",
            " 13  average_stock                  66 non-null     object        \n",
            " 14  business_type                  842 non-null    object        \n",
            " 15  declared_product_catalog_size  69 non-null     float64       \n",
            " 16  declared_monthly_revenue       842 non-null    float64       \n",
            "dtypes: datetime64[ns](2), float64(2), object(13)\n",
            "memory usage: 1.1+ MB\n"
          ]
        }
      ]
    },
    {
      "cell_type": "markdown",
      "source": [
        "### 2) seller_first_order 테이블 : orders, order_items 테이블 (by = order_id)\n",
        "- 주문 이력이 있는 셀러 중 첫 주문을 받은 날짜 정보를 확인할 수 있다. \n",
        "- order_with_items 테이블 : order_items 테이블과 합치기 (seller_ 별 order 정보를 확인하기 위해)\n",
        "- seller_first_order 테이블 : orders 테이블에서 첫 주문 데이터만 남겨놓기 (first_order 계약 체결 후 처음 주문까지의 퍼널이 필요하므로, 중복 데이터 방지)\n"
      ],
      "metadata": {
        "id": "JYxrIwsxHYb_"
      }
    },
    {
      "cell_type": "code",
      "source": [
        "# order_with_items 테이블 만들기 (order_id를 기준으로 이너 조인한다.)\n",
        "order_with_items = orders.merge(order_items, how = 'inner', on='order_id')\n",
        "order_with_items.head(2)"
      ],
      "metadata": {
        "colab": {
          "base_uri": "https://localhost:8080/",
          "height": 176
        },
        "id": "BqgWTM1EIGKc",
        "outputId": "381e1b41-202a-45f9-9384-5dece54474ae"
      },
      "execution_count": null,
      "outputs": [
        {
          "output_type": "execute_result",
          "data": {
            "text/plain": [
              "                           order_id                       customer_id  \\\n",
              "0  e481f51cbdc54678b7cc49136f2d6af7  9ef432eb6251297304e76186b10a928d   \n",
              "1  53cdb2fc8bc7dce0b6741e2150273451  b0830fb4747a6c6d20dea0b8c802d7ef   \n",
              "\n",
              "  order_status order_purchase_timestamp    order_approved_at  \\\n",
              "0    delivered      2017-10-02 10:56:33  2017-10-02 11:07:15   \n",
              "1    delivered      2018-07-24 20:41:37  2018-07-26 03:24:27   \n",
              "\n",
              "  order_delivered_carrier_date order_delivered_customer_date  \\\n",
              "0          2017-10-04 19:55:00           2017-10-10 21:25:13   \n",
              "1          2018-07-26 14:31:00           2018-08-07 15:27:45   \n",
              "\n",
              "  order_estimated_delivery_date  order_item_id  \\\n",
              "0           2017-10-18 00:00:00              1   \n",
              "1           2018-08-13 00:00:00              1   \n",
              "\n",
              "                         product_id                         seller_id  \\\n",
              "0  87285b34884572647811a353c7ac498a  3504c0cb71d7fa48d967e0e4c94d59d9   \n",
              "1  595fac2a385ac33a80bd5114aec74eb8  289cdb325fb7e7f891c38608bf9e0962   \n",
              "\n",
              "   shipping_limit_date   price  freight_value  \n",
              "0  2017-10-06 11:07:15   29.99           8.72  \n",
              "1  2018-07-30 03:24:27  118.70          22.76  "
            ],
            "text/html": [
              "\n",
              "  <div id=\"df-8de462da-1474-41f9-b93d-926f63f1e0c3\">\n",
              "    <div class=\"colab-df-container\">\n",
              "      <div>\n",
              "<style scoped>\n",
              "    .dataframe tbody tr th:only-of-type {\n",
              "        vertical-align: middle;\n",
              "    }\n",
              "\n",
              "    .dataframe tbody tr th {\n",
              "        vertical-align: top;\n",
              "    }\n",
              "\n",
              "    .dataframe thead th {\n",
              "        text-align: right;\n",
              "    }\n",
              "</style>\n",
              "<table border=\"1\" class=\"dataframe\">\n",
              "  <thead>\n",
              "    <tr style=\"text-align: right;\">\n",
              "      <th></th>\n",
              "      <th>order_id</th>\n",
              "      <th>customer_id</th>\n",
              "      <th>order_status</th>\n",
              "      <th>order_purchase_timestamp</th>\n",
              "      <th>order_approved_at</th>\n",
              "      <th>order_delivered_carrier_date</th>\n",
              "      <th>order_delivered_customer_date</th>\n",
              "      <th>order_estimated_delivery_date</th>\n",
              "      <th>order_item_id</th>\n",
              "      <th>product_id</th>\n",
              "      <th>seller_id</th>\n",
              "      <th>shipping_limit_date</th>\n",
              "      <th>price</th>\n",
              "      <th>freight_value</th>\n",
              "    </tr>\n",
              "  </thead>\n",
              "  <tbody>\n",
              "    <tr>\n",
              "      <th>0</th>\n",
              "      <td>e481f51cbdc54678b7cc49136f2d6af7</td>\n",
              "      <td>9ef432eb6251297304e76186b10a928d</td>\n",
              "      <td>delivered</td>\n",
              "      <td>2017-10-02 10:56:33</td>\n",
              "      <td>2017-10-02 11:07:15</td>\n",
              "      <td>2017-10-04 19:55:00</td>\n",
              "      <td>2017-10-10 21:25:13</td>\n",
              "      <td>2017-10-18 00:00:00</td>\n",
              "      <td>1</td>\n",
              "      <td>87285b34884572647811a353c7ac498a</td>\n",
              "      <td>3504c0cb71d7fa48d967e0e4c94d59d9</td>\n",
              "      <td>2017-10-06 11:07:15</td>\n",
              "      <td>29.99</td>\n",
              "      <td>8.72</td>\n",
              "    </tr>\n",
              "    <tr>\n",
              "      <th>1</th>\n",
              "      <td>53cdb2fc8bc7dce0b6741e2150273451</td>\n",
              "      <td>b0830fb4747a6c6d20dea0b8c802d7ef</td>\n",
              "      <td>delivered</td>\n",
              "      <td>2018-07-24 20:41:37</td>\n",
              "      <td>2018-07-26 03:24:27</td>\n",
              "      <td>2018-07-26 14:31:00</td>\n",
              "      <td>2018-08-07 15:27:45</td>\n",
              "      <td>2018-08-13 00:00:00</td>\n",
              "      <td>1</td>\n",
              "      <td>595fac2a385ac33a80bd5114aec74eb8</td>\n",
              "      <td>289cdb325fb7e7f891c38608bf9e0962</td>\n",
              "      <td>2018-07-30 03:24:27</td>\n",
              "      <td>118.70</td>\n",
              "      <td>22.76</td>\n",
              "    </tr>\n",
              "  </tbody>\n",
              "</table>\n",
              "</div>\n",
              "      <button class=\"colab-df-convert\" onclick=\"convertToInteractive('df-8de462da-1474-41f9-b93d-926f63f1e0c3')\"\n",
              "              title=\"Convert this dataframe to an interactive table.\"\n",
              "              style=\"display:none;\">\n",
              "        \n",
              "  <svg xmlns=\"http://www.w3.org/2000/svg\" height=\"24px\"viewBox=\"0 0 24 24\"\n",
              "       width=\"24px\">\n",
              "    <path d=\"M0 0h24v24H0V0z\" fill=\"none\"/>\n",
              "    <path d=\"M18.56 5.44l.94 2.06.94-2.06 2.06-.94-2.06-.94-.94-2.06-.94 2.06-2.06.94zm-11 1L8.5 8.5l.94-2.06 2.06-.94-2.06-.94L8.5 2.5l-.94 2.06-2.06.94zm10 10l.94 2.06.94-2.06 2.06-.94-2.06-.94-.94-2.06-.94 2.06-2.06.94z\"/><path d=\"M17.41 7.96l-1.37-1.37c-.4-.4-.92-.59-1.43-.59-.52 0-1.04.2-1.43.59L10.3 9.45l-7.72 7.72c-.78.78-.78 2.05 0 2.83L4 21.41c.39.39.9.59 1.41.59.51 0 1.02-.2 1.41-.59l7.78-7.78 2.81-2.81c.8-.78.8-2.07 0-2.86zM5.41 20L4 18.59l7.72-7.72 1.47 1.35L5.41 20z\"/>\n",
              "  </svg>\n",
              "      </button>\n",
              "      \n",
              "  <style>\n",
              "    .colab-df-container {\n",
              "      display:flex;\n",
              "      flex-wrap:wrap;\n",
              "      gap: 12px;\n",
              "    }\n",
              "\n",
              "    .colab-df-convert {\n",
              "      background-color: #E8F0FE;\n",
              "      border: none;\n",
              "      border-radius: 50%;\n",
              "      cursor: pointer;\n",
              "      display: none;\n",
              "      fill: #1967D2;\n",
              "      height: 32px;\n",
              "      padding: 0 0 0 0;\n",
              "      width: 32px;\n",
              "    }\n",
              "\n",
              "    .colab-df-convert:hover {\n",
              "      background-color: #E2EBFA;\n",
              "      box-shadow: 0px 1px 2px rgba(60, 64, 67, 0.3), 0px 1px 3px 1px rgba(60, 64, 67, 0.15);\n",
              "      fill: #174EA6;\n",
              "    }\n",
              "\n",
              "    [theme=dark] .colab-df-convert {\n",
              "      background-color: #3B4455;\n",
              "      fill: #D2E3FC;\n",
              "    }\n",
              "\n",
              "    [theme=dark] .colab-df-convert:hover {\n",
              "      background-color: #434B5C;\n",
              "      box-shadow: 0px 1px 3px 1px rgba(0, 0, 0, 0.15);\n",
              "      filter: drop-shadow(0px 1px 2px rgba(0, 0, 0, 0.3));\n",
              "      fill: #FFFFFF;\n",
              "    }\n",
              "  </style>\n",
              "\n",
              "      <script>\n",
              "        const buttonEl =\n",
              "          document.querySelector('#df-8de462da-1474-41f9-b93d-926f63f1e0c3 button.colab-df-convert');\n",
              "        buttonEl.style.display =\n",
              "          google.colab.kernel.accessAllowed ? 'block' : 'none';\n",
              "\n",
              "        async function convertToInteractive(key) {\n",
              "          const element = document.querySelector('#df-8de462da-1474-41f9-b93d-926f63f1e0c3');\n",
              "          const dataTable =\n",
              "            await google.colab.kernel.invokeFunction('convertToInteractive',\n",
              "                                                     [key], {});\n",
              "          if (!dataTable) return;\n",
              "\n",
              "          const docLinkHtml = 'Like what you see? Visit the ' +\n",
              "            '<a target=\"_blank\" href=https://colab.research.google.com/notebooks/data_table.ipynb>data table notebook</a>'\n",
              "            + ' to learn more about interactive tables.';\n",
              "          element.innerHTML = '';\n",
              "          dataTable['output_type'] = 'display_data';\n",
              "          await google.colab.output.renderOutput(dataTable, element);\n",
              "          const docLink = document.createElement('div');\n",
              "          docLink.innerHTML = docLinkHtml;\n",
              "          element.appendChild(docLink);\n",
              "        }\n",
              "      </script>\n",
              "    </div>\n",
              "  </div>\n",
              "  "
            ]
          },
          "metadata": {},
          "execution_count": 22
        }
      ]
    },
    {
      "cell_type": "code",
      "source": [
        "# seller_id 별로 최초의 주문만 남겨두기 (opt가 가장 빠른 시점인 주문건만 남겨둔다)\n",
        "seller_first_order = pd.DataFrame(order_with_items.groupby('seller_id')['order_purchase_timestamp'].min())\n",
        "seller_first_order.head(3)"
      ],
      "metadata": {
        "id": "4N2Ly7EYzZ8R",
        "colab": {
          "base_uri": "https://localhost:8080/",
          "height": 175
        },
        "outputId": "b1068ac4-5de8-4260-e196-d59459dbf7de"
      },
      "execution_count": null,
      "outputs": [
        {
          "output_type": "execute_result",
          "data": {
            "text/plain": [
              "                                 order_purchase_timestamp\n",
              "seller_id                                                \n",
              "0015a82c2db000af6aaaf3ae2ecb0532      2017-09-26 22:17:05\n",
              "001cca7ae9ae17fb1caed9dfb1094831      2017-02-04 19:06:04\n",
              "001e6ad469a905060d959994f1b41e4f      2018-08-07 22:50:37"
            ],
            "text/html": [
              "\n",
              "  <div id=\"df-ec2f2626-70cb-44a9-985a-ca5808c6c9a7\">\n",
              "    <div class=\"colab-df-container\">\n",
              "      <div>\n",
              "<style scoped>\n",
              "    .dataframe tbody tr th:only-of-type {\n",
              "        vertical-align: middle;\n",
              "    }\n",
              "\n",
              "    .dataframe tbody tr th {\n",
              "        vertical-align: top;\n",
              "    }\n",
              "\n",
              "    .dataframe thead th {\n",
              "        text-align: right;\n",
              "    }\n",
              "</style>\n",
              "<table border=\"1\" class=\"dataframe\">\n",
              "  <thead>\n",
              "    <tr style=\"text-align: right;\">\n",
              "      <th></th>\n",
              "      <th>order_purchase_timestamp</th>\n",
              "    </tr>\n",
              "    <tr>\n",
              "      <th>seller_id</th>\n",
              "      <th></th>\n",
              "    </tr>\n",
              "  </thead>\n",
              "  <tbody>\n",
              "    <tr>\n",
              "      <th>0015a82c2db000af6aaaf3ae2ecb0532</th>\n",
              "      <td>2017-09-26 22:17:05</td>\n",
              "    </tr>\n",
              "    <tr>\n",
              "      <th>001cca7ae9ae17fb1caed9dfb1094831</th>\n",
              "      <td>2017-02-04 19:06:04</td>\n",
              "    </tr>\n",
              "    <tr>\n",
              "      <th>001e6ad469a905060d959994f1b41e4f</th>\n",
              "      <td>2018-08-07 22:50:37</td>\n",
              "    </tr>\n",
              "  </tbody>\n",
              "</table>\n",
              "</div>\n",
              "      <button class=\"colab-df-convert\" onclick=\"convertToInteractive('df-ec2f2626-70cb-44a9-985a-ca5808c6c9a7')\"\n",
              "              title=\"Convert this dataframe to an interactive table.\"\n",
              "              style=\"display:none;\">\n",
              "        \n",
              "  <svg xmlns=\"http://www.w3.org/2000/svg\" height=\"24px\"viewBox=\"0 0 24 24\"\n",
              "       width=\"24px\">\n",
              "    <path d=\"M0 0h24v24H0V0z\" fill=\"none\"/>\n",
              "    <path d=\"M18.56 5.44l.94 2.06.94-2.06 2.06-.94-2.06-.94-.94-2.06-.94 2.06-2.06.94zm-11 1L8.5 8.5l.94-2.06 2.06-.94-2.06-.94L8.5 2.5l-.94 2.06-2.06.94zm10 10l.94 2.06.94-2.06 2.06-.94-2.06-.94-.94-2.06-.94 2.06-2.06.94z\"/><path d=\"M17.41 7.96l-1.37-1.37c-.4-.4-.92-.59-1.43-.59-.52 0-1.04.2-1.43.59L10.3 9.45l-7.72 7.72c-.78.78-.78 2.05 0 2.83L4 21.41c.39.39.9.59 1.41.59.51 0 1.02-.2 1.41-.59l7.78-7.78 2.81-2.81c.8-.78.8-2.07 0-2.86zM5.41 20L4 18.59l7.72-7.72 1.47 1.35L5.41 20z\"/>\n",
              "  </svg>\n",
              "      </button>\n",
              "      \n",
              "  <style>\n",
              "    .colab-df-container {\n",
              "      display:flex;\n",
              "      flex-wrap:wrap;\n",
              "      gap: 12px;\n",
              "    }\n",
              "\n",
              "    .colab-df-convert {\n",
              "      background-color: #E8F0FE;\n",
              "      border: none;\n",
              "      border-radius: 50%;\n",
              "      cursor: pointer;\n",
              "      display: none;\n",
              "      fill: #1967D2;\n",
              "      height: 32px;\n",
              "      padding: 0 0 0 0;\n",
              "      width: 32px;\n",
              "    }\n",
              "\n",
              "    .colab-df-convert:hover {\n",
              "      background-color: #E2EBFA;\n",
              "      box-shadow: 0px 1px 2px rgba(60, 64, 67, 0.3), 0px 1px 3px 1px rgba(60, 64, 67, 0.15);\n",
              "      fill: #174EA6;\n",
              "    }\n",
              "\n",
              "    [theme=dark] .colab-df-convert {\n",
              "      background-color: #3B4455;\n",
              "      fill: #D2E3FC;\n",
              "    }\n",
              "\n",
              "    [theme=dark] .colab-df-convert:hover {\n",
              "      background-color: #434B5C;\n",
              "      box-shadow: 0px 1px 3px 1px rgba(0, 0, 0, 0.15);\n",
              "      filter: drop-shadow(0px 1px 2px rgba(0, 0, 0, 0.3));\n",
              "      fill: #FFFFFF;\n",
              "    }\n",
              "  </style>\n",
              "\n",
              "      <script>\n",
              "        const buttonEl =\n",
              "          document.querySelector('#df-ec2f2626-70cb-44a9-985a-ca5808c6c9a7 button.colab-df-convert');\n",
              "        buttonEl.style.display =\n",
              "          google.colab.kernel.accessAllowed ? 'block' : 'none';\n",
              "\n",
              "        async function convertToInteractive(key) {\n",
              "          const element = document.querySelector('#df-ec2f2626-70cb-44a9-985a-ca5808c6c9a7');\n",
              "          const dataTable =\n",
              "            await google.colab.kernel.invokeFunction('convertToInteractive',\n",
              "                                                     [key], {});\n",
              "          if (!dataTable) return;\n",
              "\n",
              "          const docLinkHtml = 'Like what you see? Visit the ' +\n",
              "            '<a target=\"_blank\" href=https://colab.research.google.com/notebooks/data_table.ipynb>data table notebook</a>'\n",
              "            + ' to learn more about interactive tables.';\n",
              "          element.innerHTML = '';\n",
              "          dataTable['output_type'] = 'display_data';\n",
              "          await google.colab.output.renderOutput(dataTable, element);\n",
              "          const docLink = document.createElement('div');\n",
              "          docLink.innerHTML = docLinkHtml;\n",
              "          element.appendChild(docLink);\n",
              "        }\n",
              "      </script>\n",
              "    </div>\n",
              "  </div>\n",
              "  "
            ]
          },
          "metadata": {},
          "execution_count": 23
        }
      ]
    },
    {
      "cell_type": "code",
      "source": [
        "seller_first_order.info()"
      ],
      "metadata": {
        "colab": {
          "base_uri": "https://localhost:8080/"
        },
        "id": "g2Tv7LDRWIGj",
        "outputId": "35eca5b8-897a-4103-8d95-de6a3136e933"
      },
      "execution_count": null,
      "outputs": [
        {
          "output_type": "stream",
          "name": "stdout",
          "text": [
            "<class 'pandas.core.frame.DataFrame'>\n",
            "Index: 3095 entries, 0015a82c2db000af6aaaf3ae2ecb0532 to ffff564a4f9085cd26170f4732393726\n",
            "Data columns (total 1 columns):\n",
            " #   Column                    Non-Null Count  Dtype         \n",
            "---  ------                    --------------  -----         \n",
            " 0   order_purchase_timestamp  3095 non-null   datetime64[ns]\n",
            "dtypes: datetime64[ns](1)\n",
            "memory usage: 48.4+ KB\n"
          ]
        }
      ]
    },
    {
      "cell_type": "markdown",
      "source": [
        "### 3) mf_orders 테이블 : mf테이블, seller_first_order 테이블 (최종)\n",
        "- mql 리드 중 셀러로 전환된 셀러 수, 셀러 중 판매까지 완료된 셀러 수를 알 수 있음 (전환율 측정)\n",
        "- first_contact_date, won_date, order_purchase_timestamp까지의 리드타임을 파악할 수 있음"
      ],
      "metadata": {
        "id": "OeOEhtF9M8pu"
      }
    },
    {
      "cell_type": "code",
      "source": [
        "mf_orders = mf.merge(seller_first_order, how = 'left', on = 'seller_id')\n",
        "mf_orders.head(5)"
      ],
      "metadata": {
        "colab": {
          "base_uri": "https://localhost:8080/",
          "height": 305
        },
        "id": "O7Ws_8RZNO8m",
        "outputId": "09f5f1e4-d861-43d5-df00-a5397c1120c2"
      },
      "execution_count": null,
      "outputs": [
        {
          "output_type": "execute_result",
          "data": {
            "text/plain": [
              "                             mql_id first_contact_date  \\\n",
              "0  dac32acd4db4c29c230538b72f8dd87d         2018-02-01   \n",
              "1  8c18d1de7f67e60dbd64e3c07d7e9d5d         2017-10-20   \n",
              "2  b4bc852d233dfefc5131f593b538befa         2018-03-22   \n",
              "3  6be030b81c75970747525b843c1ef4f8         2018-01-22   \n",
              "4  5420aad7fec3549a85876ba1c529bd84         2018-02-21   \n",
              "\n",
              "                    landing_page_id          origin  \\\n",
              "0  88740e65d5d6b056e0cda098e1ea6313          social   \n",
              "1  007f9098284a86ee80ddeb25d53e0af8     paid_search   \n",
              "2  a7982125ff7aa3b2054c6e44f9d28522  organic_search   \n",
              "3  d45d558f0daeecf3cccdffe3c59684aa           email   \n",
              "4  b48ec5f3b04e9068441002a19df93c6c  organic_search   \n",
              "\n",
              "                          seller_id                            sdr_id  \\\n",
              "0                               NaN                               NaN   \n",
              "1                               NaN                               NaN   \n",
              "2                               NaN                               NaN   \n",
              "3                               NaN                               NaN   \n",
              "4  2c43fb513632d29b3b58df74816f1b06  a8387c01a09e99ce014107505b92388c   \n",
              "\n",
              "                              sr_id            won_date business_segment  \\\n",
              "0                               NaN                 NaT              NaN   \n",
              "1                               NaN                 NaT              NaN   \n",
              "2                               NaN                 NaT              NaN   \n",
              "3                               NaN                 NaT              NaN   \n",
              "4  4ef15afb4b2723d8f3d81e51ec7afefe 2018-02-26 19:58:54              pet   \n",
              "\n",
              "       lead_type lead_behaviour_profile has_company has_gtin average_stock  \\\n",
              "0            NaN                    NaN         NaN      NaN           NaN   \n",
              "1            NaN                    NaN         NaN      NaN           NaN   \n",
              "2            NaN                    NaN         NaN      NaN           NaN   \n",
              "3            NaN                    NaN         NaN      NaN           NaN   \n",
              "4  online_medium                    cat         NaN      NaN           NaN   \n",
              "\n",
              "  business_type  declared_product_catalog_size  declared_monthly_revenue  \\\n",
              "0           NaN                            NaN                       NaN   \n",
              "1           NaN                            NaN                       NaN   \n",
              "2           NaN                            NaN                       NaN   \n",
              "3           NaN                            NaN                       NaN   \n",
              "4      reseller                            NaN                       0.0   \n",
              "\n",
              "  order_purchase_timestamp  \n",
              "0                      NaT  \n",
              "1                      NaT  \n",
              "2                      NaT  \n",
              "3                      NaT  \n",
              "4      2018-06-20 21:40:18  "
            ],
            "text/html": [
              "\n",
              "  <div id=\"df-fe636b0a-a8bd-44fb-9749-81aad35c4610\">\n",
              "    <div class=\"colab-df-container\">\n",
              "      <div>\n",
              "<style scoped>\n",
              "    .dataframe tbody tr th:only-of-type {\n",
              "        vertical-align: middle;\n",
              "    }\n",
              "\n",
              "    .dataframe tbody tr th {\n",
              "        vertical-align: top;\n",
              "    }\n",
              "\n",
              "    .dataframe thead th {\n",
              "        text-align: right;\n",
              "    }\n",
              "</style>\n",
              "<table border=\"1\" class=\"dataframe\">\n",
              "  <thead>\n",
              "    <tr style=\"text-align: right;\">\n",
              "      <th></th>\n",
              "      <th>mql_id</th>\n",
              "      <th>first_contact_date</th>\n",
              "      <th>landing_page_id</th>\n",
              "      <th>origin</th>\n",
              "      <th>seller_id</th>\n",
              "      <th>sdr_id</th>\n",
              "      <th>sr_id</th>\n",
              "      <th>won_date</th>\n",
              "      <th>business_segment</th>\n",
              "      <th>lead_type</th>\n",
              "      <th>lead_behaviour_profile</th>\n",
              "      <th>has_company</th>\n",
              "      <th>has_gtin</th>\n",
              "      <th>average_stock</th>\n",
              "      <th>business_type</th>\n",
              "      <th>declared_product_catalog_size</th>\n",
              "      <th>declared_monthly_revenue</th>\n",
              "      <th>order_purchase_timestamp</th>\n",
              "    </tr>\n",
              "  </thead>\n",
              "  <tbody>\n",
              "    <tr>\n",
              "      <th>0</th>\n",
              "      <td>dac32acd4db4c29c230538b72f8dd87d</td>\n",
              "      <td>2018-02-01</td>\n",
              "      <td>88740e65d5d6b056e0cda098e1ea6313</td>\n",
              "      <td>social</td>\n",
              "      <td>NaN</td>\n",
              "      <td>NaN</td>\n",
              "      <td>NaN</td>\n",
              "      <td>NaT</td>\n",
              "      <td>NaN</td>\n",
              "      <td>NaN</td>\n",
              "      <td>NaN</td>\n",
              "      <td>NaN</td>\n",
              "      <td>NaN</td>\n",
              "      <td>NaN</td>\n",
              "      <td>NaN</td>\n",
              "      <td>NaN</td>\n",
              "      <td>NaN</td>\n",
              "      <td>NaT</td>\n",
              "    </tr>\n",
              "    <tr>\n",
              "      <th>1</th>\n",
              "      <td>8c18d1de7f67e60dbd64e3c07d7e9d5d</td>\n",
              "      <td>2017-10-20</td>\n",
              "      <td>007f9098284a86ee80ddeb25d53e0af8</td>\n",
              "      <td>paid_search</td>\n",
              "      <td>NaN</td>\n",
              "      <td>NaN</td>\n",
              "      <td>NaN</td>\n",
              "      <td>NaT</td>\n",
              "      <td>NaN</td>\n",
              "      <td>NaN</td>\n",
              "      <td>NaN</td>\n",
              "      <td>NaN</td>\n",
              "      <td>NaN</td>\n",
              "      <td>NaN</td>\n",
              "      <td>NaN</td>\n",
              "      <td>NaN</td>\n",
              "      <td>NaN</td>\n",
              "      <td>NaT</td>\n",
              "    </tr>\n",
              "    <tr>\n",
              "      <th>2</th>\n",
              "      <td>b4bc852d233dfefc5131f593b538befa</td>\n",
              "      <td>2018-03-22</td>\n",
              "      <td>a7982125ff7aa3b2054c6e44f9d28522</td>\n",
              "      <td>organic_search</td>\n",
              "      <td>NaN</td>\n",
              "      <td>NaN</td>\n",
              "      <td>NaN</td>\n",
              "      <td>NaT</td>\n",
              "      <td>NaN</td>\n",
              "      <td>NaN</td>\n",
              "      <td>NaN</td>\n",
              "      <td>NaN</td>\n",
              "      <td>NaN</td>\n",
              "      <td>NaN</td>\n",
              "      <td>NaN</td>\n",
              "      <td>NaN</td>\n",
              "      <td>NaN</td>\n",
              "      <td>NaT</td>\n",
              "    </tr>\n",
              "    <tr>\n",
              "      <th>3</th>\n",
              "      <td>6be030b81c75970747525b843c1ef4f8</td>\n",
              "      <td>2018-01-22</td>\n",
              "      <td>d45d558f0daeecf3cccdffe3c59684aa</td>\n",
              "      <td>email</td>\n",
              "      <td>NaN</td>\n",
              "      <td>NaN</td>\n",
              "      <td>NaN</td>\n",
              "      <td>NaT</td>\n",
              "      <td>NaN</td>\n",
              "      <td>NaN</td>\n",
              "      <td>NaN</td>\n",
              "      <td>NaN</td>\n",
              "      <td>NaN</td>\n",
              "      <td>NaN</td>\n",
              "      <td>NaN</td>\n",
              "      <td>NaN</td>\n",
              "      <td>NaN</td>\n",
              "      <td>NaT</td>\n",
              "    </tr>\n",
              "    <tr>\n",
              "      <th>4</th>\n",
              "      <td>5420aad7fec3549a85876ba1c529bd84</td>\n",
              "      <td>2018-02-21</td>\n",
              "      <td>b48ec5f3b04e9068441002a19df93c6c</td>\n",
              "      <td>organic_search</td>\n",
              "      <td>2c43fb513632d29b3b58df74816f1b06</td>\n",
              "      <td>a8387c01a09e99ce014107505b92388c</td>\n",
              "      <td>4ef15afb4b2723d8f3d81e51ec7afefe</td>\n",
              "      <td>2018-02-26 19:58:54</td>\n",
              "      <td>pet</td>\n",
              "      <td>online_medium</td>\n",
              "      <td>cat</td>\n",
              "      <td>NaN</td>\n",
              "      <td>NaN</td>\n",
              "      <td>NaN</td>\n",
              "      <td>reseller</td>\n",
              "      <td>NaN</td>\n",
              "      <td>0.0</td>\n",
              "      <td>2018-06-20 21:40:18</td>\n",
              "    </tr>\n",
              "  </tbody>\n",
              "</table>\n",
              "</div>\n",
              "      <button class=\"colab-df-convert\" onclick=\"convertToInteractive('df-fe636b0a-a8bd-44fb-9749-81aad35c4610')\"\n",
              "              title=\"Convert this dataframe to an interactive table.\"\n",
              "              style=\"display:none;\">\n",
              "        \n",
              "  <svg xmlns=\"http://www.w3.org/2000/svg\" height=\"24px\"viewBox=\"0 0 24 24\"\n",
              "       width=\"24px\">\n",
              "    <path d=\"M0 0h24v24H0V0z\" fill=\"none\"/>\n",
              "    <path d=\"M18.56 5.44l.94 2.06.94-2.06 2.06-.94-2.06-.94-.94-2.06-.94 2.06-2.06.94zm-11 1L8.5 8.5l.94-2.06 2.06-.94-2.06-.94L8.5 2.5l-.94 2.06-2.06.94zm10 10l.94 2.06.94-2.06 2.06-.94-2.06-.94-.94-2.06-.94 2.06-2.06.94z\"/><path d=\"M17.41 7.96l-1.37-1.37c-.4-.4-.92-.59-1.43-.59-.52 0-1.04.2-1.43.59L10.3 9.45l-7.72 7.72c-.78.78-.78 2.05 0 2.83L4 21.41c.39.39.9.59 1.41.59.51 0 1.02-.2 1.41-.59l7.78-7.78 2.81-2.81c.8-.78.8-2.07 0-2.86zM5.41 20L4 18.59l7.72-7.72 1.47 1.35L5.41 20z\"/>\n",
              "  </svg>\n",
              "      </button>\n",
              "      \n",
              "  <style>\n",
              "    .colab-df-container {\n",
              "      display:flex;\n",
              "      flex-wrap:wrap;\n",
              "      gap: 12px;\n",
              "    }\n",
              "\n",
              "    .colab-df-convert {\n",
              "      background-color: #E8F0FE;\n",
              "      border: none;\n",
              "      border-radius: 50%;\n",
              "      cursor: pointer;\n",
              "      display: none;\n",
              "      fill: #1967D2;\n",
              "      height: 32px;\n",
              "      padding: 0 0 0 0;\n",
              "      width: 32px;\n",
              "    }\n",
              "\n",
              "    .colab-df-convert:hover {\n",
              "      background-color: #E2EBFA;\n",
              "      box-shadow: 0px 1px 2px rgba(60, 64, 67, 0.3), 0px 1px 3px 1px rgba(60, 64, 67, 0.15);\n",
              "      fill: #174EA6;\n",
              "    }\n",
              "\n",
              "    [theme=dark] .colab-df-convert {\n",
              "      background-color: #3B4455;\n",
              "      fill: #D2E3FC;\n",
              "    }\n",
              "\n",
              "    [theme=dark] .colab-df-convert:hover {\n",
              "      background-color: #434B5C;\n",
              "      box-shadow: 0px 1px 3px 1px rgba(0, 0, 0, 0.15);\n",
              "      filter: drop-shadow(0px 1px 2px rgba(0, 0, 0, 0.3));\n",
              "      fill: #FFFFFF;\n",
              "    }\n",
              "  </style>\n",
              "\n",
              "      <script>\n",
              "        const buttonEl =\n",
              "          document.querySelector('#df-fe636b0a-a8bd-44fb-9749-81aad35c4610 button.colab-df-convert');\n",
              "        buttonEl.style.display =\n",
              "          google.colab.kernel.accessAllowed ? 'block' : 'none';\n",
              "\n",
              "        async function convertToInteractive(key) {\n",
              "          const element = document.querySelector('#df-fe636b0a-a8bd-44fb-9749-81aad35c4610');\n",
              "          const dataTable =\n",
              "            await google.colab.kernel.invokeFunction('convertToInteractive',\n",
              "                                                     [key], {});\n",
              "          if (!dataTable) return;\n",
              "\n",
              "          const docLinkHtml = 'Like what you see? Visit the ' +\n",
              "            '<a target=\"_blank\" href=https://colab.research.google.com/notebooks/data_table.ipynb>data table notebook</a>'\n",
              "            + ' to learn more about interactive tables.';\n",
              "          element.innerHTML = '';\n",
              "          dataTable['output_type'] = 'display_data';\n",
              "          await google.colab.output.renderOutput(dataTable, element);\n",
              "          const docLink = document.createElement('div');\n",
              "          docLink.innerHTML = docLinkHtml;\n",
              "          element.appendChild(docLink);\n",
              "        }\n",
              "      </script>\n",
              "    </div>\n",
              "  </div>\n",
              "  "
            ]
          },
          "metadata": {},
          "execution_count": 25
        }
      ]
    },
    {
      "cell_type": "code",
      "source": [
        "mf_orders.info()"
      ],
      "metadata": {
        "colab": {
          "base_uri": "https://localhost:8080/"
        },
        "id": "_Io2SY1BWPqO",
        "outputId": "177f6637-f7ef-4008-b5bc-3be1fd834169"
      },
      "execution_count": null,
      "outputs": [
        {
          "output_type": "stream",
          "name": "stdout",
          "text": [
            "<class 'pandas.core.frame.DataFrame'>\n",
            "Int64Index: 8000 entries, 0 to 7999\n",
            "Data columns (total 18 columns):\n",
            " #   Column                         Non-Null Count  Dtype         \n",
            "---  ------                         --------------  -----         \n",
            " 0   mql_id                         8000 non-null   object        \n",
            " 1   first_contact_date             8000 non-null   datetime64[ns]\n",
            " 2   landing_page_id                8000 non-null   object        \n",
            " 3   origin                         8000 non-null   object        \n",
            " 4   seller_id                      842 non-null    object        \n",
            " 5   sdr_id                         842 non-null    object        \n",
            " 6   sr_id                          842 non-null    object        \n",
            " 7   won_date                       842 non-null    datetime64[ns]\n",
            " 8   business_segment               841 non-null    object        \n",
            " 9   lead_type                      836 non-null    object        \n",
            " 10  lead_behaviour_profile         665 non-null    object        \n",
            " 11  has_company                    63 non-null     object        \n",
            " 12  has_gtin                       64 non-null     object        \n",
            " 13  average_stock                  66 non-null     object        \n",
            " 14  business_type                  842 non-null    object        \n",
            " 15  declared_product_catalog_size  69 non-null     float64       \n",
            " 16  declared_monthly_revenue       842 non-null    float64       \n",
            " 17  order_purchase_timestamp       380 non-null    datetime64[ns]\n",
            "dtypes: datetime64[ns](3), float64(2), object(13)\n",
            "memory usage: 1.2+ MB\n"
          ]
        }
      ]
    },
    {
      "cell_type": "code",
      "source": [],
      "metadata": {
        "id": "z2juwC8AIAvT"
      },
      "execution_count": null,
      "outputs": []
    },
    {
      "cell_type": "markdown",
      "source": [
        "# II. 분석"
      ],
      "metadata": {
        "id": "vSP9j7Zbn_Kd"
      }
    },
    {
      "cell_type": "markdown",
      "source": [
        "## 1. 전체 전환율 측정 \n",
        "- MQL -> cd_conversion rate : closed_deal 단계의 셀러 수 / mql 단계의 리드 수 * 100(%), 셀러 수 측정 기준(seller_id), 리드 수 측정 기준(mql_id)\n",
        "- SQL -> selling_conversion_rate : 주문 내역이 있는 셀러 수 / closed_deals 단계의 셀러 수 * 100(%), 주문 내역 있는 셀러 수 측정 기준(주문 내역 조건을 만족하는 셀러 seller_id)"
      ],
      "metadata": {
        "id": "Exc1rX8yOSWH"
      }
    },
    {
      "cell_type": "code",
      "source": [
        "# 각 단계 별 사람 수\n",
        "mql_general = mf_orders['mql_id'].count() # 리드 수\n",
        "cd_general = mf_orders['seller_id'].count() # 셀러로 전환된 리드 수\n",
        "order_general = mf_orders.loc[mf_orders['order_purchase_timestamp'].notna(), 'seller_id'].count() # 판매 기록이 있는 셀러 수\n",
        "\n",
        "print(mql_general, cd_general, order_general)"
      ],
      "metadata": {
        "id": "5sfo0vSQs814",
        "outputId": "92a831cc-7b70-4715-ff88-5f31fcb9d925",
        "colab": {
          "base_uri": "https://localhost:8080/"
        }
      },
      "execution_count": null,
      "outputs": [
        {
          "output_type": "stream",
          "name": "stdout",
          "text": [
            "8000 842 380\n"
          ]
        }
      ]
    },
    {
      "cell_type": "code",
      "source": [
        "# 전환율 측정\n",
        "general_contract_conversion_rate = cd_general / mql_general * 100\n",
        "general_order_conversion_rate = order_general / cd_general * 100\n",
        "print(general_contract_conversion_rate, general_order_conversion_rate)"
      ],
      "metadata": {
        "colab": {
          "base_uri": "https://localhost:8080/"
        },
        "id": "uGdtoyIsYzLI",
        "outputId": "c88d893f-b9bc-42c2-9eb7-cdbd2cb79884"
      },
      "execution_count": null,
      "outputs": [
        {
          "output_type": "stream",
          "name": "stdout",
          "text": [
            "10.525 45.13064133016627\n"
          ]
        }
      ]
    },
    {
      "cell_type": "code",
      "source": [
        "# 전체 전환율을 표로 나타내면 다음과 같다\n",
        "conversion_total = {'leads': mql_general, 'contracted_sellers': cd_general, 'ordered_sellers' : order_general, 'contract_cvr' : general_contract_conversion_rate, 'order_cvr' : general_order_conversion_rate}\n",
        "pd.DataFrame(conversion_total, index = [0])"
      ],
      "metadata": {
        "colab": {
          "base_uri": "https://localhost:8080/",
          "height": 81
        },
        "id": "ZTvcKlbT_fDt",
        "outputId": "0c954f86-1eb2-4016-8025-91e843e5716e"
      },
      "execution_count": null,
      "outputs": [
        {
          "output_type": "execute_result",
          "data": {
            "text/plain": [
              "   leads  contracted_sellers  ordered_sellers  contract_cvr  order_cvr\n",
              "0   8000                 842              380        10.525  45.130641"
            ],
            "text/html": [
              "\n",
              "  <div id=\"df-c2d9f622-0e5f-4541-a260-8d9020f8d3d5\">\n",
              "    <div class=\"colab-df-container\">\n",
              "      <div>\n",
              "<style scoped>\n",
              "    .dataframe tbody tr th:only-of-type {\n",
              "        vertical-align: middle;\n",
              "    }\n",
              "\n",
              "    .dataframe tbody tr th {\n",
              "        vertical-align: top;\n",
              "    }\n",
              "\n",
              "    .dataframe thead th {\n",
              "        text-align: right;\n",
              "    }\n",
              "</style>\n",
              "<table border=\"1\" class=\"dataframe\">\n",
              "  <thead>\n",
              "    <tr style=\"text-align: right;\">\n",
              "      <th></th>\n",
              "      <th>leads</th>\n",
              "      <th>contracted_sellers</th>\n",
              "      <th>ordered_sellers</th>\n",
              "      <th>contract_cvr</th>\n",
              "      <th>order_cvr</th>\n",
              "    </tr>\n",
              "  </thead>\n",
              "  <tbody>\n",
              "    <tr>\n",
              "      <th>0</th>\n",
              "      <td>8000</td>\n",
              "      <td>842</td>\n",
              "      <td>380</td>\n",
              "      <td>10.525</td>\n",
              "      <td>45.130641</td>\n",
              "    </tr>\n",
              "  </tbody>\n",
              "</table>\n",
              "</div>\n",
              "      <button class=\"colab-df-convert\" onclick=\"convertToInteractive('df-c2d9f622-0e5f-4541-a260-8d9020f8d3d5')\"\n",
              "              title=\"Convert this dataframe to an interactive table.\"\n",
              "              style=\"display:none;\">\n",
              "        \n",
              "  <svg xmlns=\"http://www.w3.org/2000/svg\" height=\"24px\"viewBox=\"0 0 24 24\"\n",
              "       width=\"24px\">\n",
              "    <path d=\"M0 0h24v24H0V0z\" fill=\"none\"/>\n",
              "    <path d=\"M18.56 5.44l.94 2.06.94-2.06 2.06-.94-2.06-.94-.94-2.06-.94 2.06-2.06.94zm-11 1L8.5 8.5l.94-2.06 2.06-.94-2.06-.94L8.5 2.5l-.94 2.06-2.06.94zm10 10l.94 2.06.94-2.06 2.06-.94-2.06-.94-.94-2.06-.94 2.06-2.06.94z\"/><path d=\"M17.41 7.96l-1.37-1.37c-.4-.4-.92-.59-1.43-.59-.52 0-1.04.2-1.43.59L10.3 9.45l-7.72 7.72c-.78.78-.78 2.05 0 2.83L4 21.41c.39.39.9.59 1.41.59.51 0 1.02-.2 1.41-.59l7.78-7.78 2.81-2.81c.8-.78.8-2.07 0-2.86zM5.41 20L4 18.59l7.72-7.72 1.47 1.35L5.41 20z\"/>\n",
              "  </svg>\n",
              "      </button>\n",
              "      \n",
              "  <style>\n",
              "    .colab-df-container {\n",
              "      display:flex;\n",
              "      flex-wrap:wrap;\n",
              "      gap: 12px;\n",
              "    }\n",
              "\n",
              "    .colab-df-convert {\n",
              "      background-color: #E8F0FE;\n",
              "      border: none;\n",
              "      border-radius: 50%;\n",
              "      cursor: pointer;\n",
              "      display: none;\n",
              "      fill: #1967D2;\n",
              "      height: 32px;\n",
              "      padding: 0 0 0 0;\n",
              "      width: 32px;\n",
              "    }\n",
              "\n",
              "    .colab-df-convert:hover {\n",
              "      background-color: #E2EBFA;\n",
              "      box-shadow: 0px 1px 2px rgba(60, 64, 67, 0.3), 0px 1px 3px 1px rgba(60, 64, 67, 0.15);\n",
              "      fill: #174EA6;\n",
              "    }\n",
              "\n",
              "    [theme=dark] .colab-df-convert {\n",
              "      background-color: #3B4455;\n",
              "      fill: #D2E3FC;\n",
              "    }\n",
              "\n",
              "    [theme=dark] .colab-df-convert:hover {\n",
              "      background-color: #434B5C;\n",
              "      box-shadow: 0px 1px 3px 1px rgba(0, 0, 0, 0.15);\n",
              "      filter: drop-shadow(0px 1px 2px rgba(0, 0, 0, 0.3));\n",
              "      fill: #FFFFFF;\n",
              "    }\n",
              "  </style>\n",
              "\n",
              "      <script>\n",
              "        const buttonEl =\n",
              "          document.querySelector('#df-c2d9f622-0e5f-4541-a260-8d9020f8d3d5 button.colab-df-convert');\n",
              "        buttonEl.style.display =\n",
              "          google.colab.kernel.accessAllowed ? 'block' : 'none';\n",
              "\n",
              "        async function convertToInteractive(key) {\n",
              "          const element = document.querySelector('#df-c2d9f622-0e5f-4541-a260-8d9020f8d3d5');\n",
              "          const dataTable =\n",
              "            await google.colab.kernel.invokeFunction('convertToInteractive',\n",
              "                                                     [key], {});\n",
              "          if (!dataTable) return;\n",
              "\n",
              "          const docLinkHtml = 'Like what you see? Visit the ' +\n",
              "            '<a target=\"_blank\" href=https://colab.research.google.com/notebooks/data_table.ipynb>data table notebook</a>'\n",
              "            + ' to learn more about interactive tables.';\n",
              "          element.innerHTML = '';\n",
              "          dataTable['output_type'] = 'display_data';\n",
              "          await google.colab.output.renderOutput(dataTable, element);\n",
              "          const docLink = document.createElement('div');\n",
              "          docLink.innerHTML = docLinkHtml;\n",
              "          element.appendChild(docLink);\n",
              "        }\n",
              "      </script>\n",
              "    </div>\n",
              "  </div>\n",
              "  "
            ]
          },
          "metadata": {},
          "execution_count": 29
        }
      ]
    },
    {
      "cell_type": "markdown",
      "source": [
        "- 전환율을 퍼널로 시각화하기"
      ],
      "metadata": {
        "id": "fCZv7zkxA0Zl"
      }
    },
    {
      "cell_type": "code",
      "source": [
        "# 퍼널 단계를 리스트로 표현\n",
        "general_funnels = [mql_general, cd_general, order_general]"
      ],
      "metadata": {
        "id": "y-1WAg72wNp3"
      },
      "execution_count": null,
      "outputs": []
    },
    {
      "cell_type": "code",
      "source": [
        "# plotly 라이브러리로 퍼널 표현하기\n",
        "data = dict(\n",
        "    number = general_funnels,\n",
        "    stage = ['mql','cd','order'])\n",
        "\n",
        "fig = px.funnel(data, x='number', y='stage')\n",
        "fig.show()"
      ],
      "metadata": {
        "colab": {
          "base_uri": "https://localhost:8080/",
          "height": 542
        },
        "id": "QcfHoGyAp-7T",
        "outputId": "d98894b7-6ba9-4333-882c-47beb43f1df4"
      },
      "execution_count": null,
      "outputs": [
        {
          "output_type": "display_data",
          "data": {
            "text/html": [
              "<html>\n",
              "<head><meta charset=\"utf-8\" /></head>\n",
              "<body>\n",
              "    <div>            <script src=\"https://cdnjs.cloudflare.com/ajax/libs/mathjax/2.7.5/MathJax.js?config=TeX-AMS-MML_SVG\"></script><script type=\"text/javascript\">if (window.MathJax) {MathJax.Hub.Config({SVG: {font: \"STIX-Web\"}});}</script>                <script type=\"text/javascript\">window.PlotlyConfig = {MathJaxConfig: 'local'};</script>\n",
              "        <script src=\"https://cdn.plot.ly/plotly-2.8.3.min.js\"></script>                <div id=\"87dddd55-0ecc-4e62-9e78-c0a635b5168a\" class=\"plotly-graph-div\" style=\"height:525px; width:100%;\"></div>            <script type=\"text/javascript\">                                    window.PLOTLYENV=window.PLOTLYENV || {};                                    if (document.getElementById(\"87dddd55-0ecc-4e62-9e78-c0a635b5168a\")) {                    Plotly.newPlot(                        \"87dddd55-0ecc-4e62-9e78-c0a635b5168a\",                        [{\"hovertemplate\":\"number=%{x}<br>stage=%{y}<extra></extra>\",\"legendgroup\":\"\",\"marker\":{\"color\":\"#636efa\"},\"name\":\"\",\"orientation\":\"h\",\"showlegend\":false,\"x\":[8000,842,380],\"xaxis\":\"x\",\"y\":[\"mql\",\"cd\",\"order\"],\"yaxis\":\"y\",\"type\":\"funnel\"}],                        {\"template\":{\"data\":{\"bar\":[{\"error_x\":{\"color\":\"#2a3f5f\"},\"error_y\":{\"color\":\"#2a3f5f\"},\"marker\":{\"line\":{\"color\":\"#E5ECF6\",\"width\":0.5},\"pattern\":{\"fillmode\":\"overlay\",\"size\":10,\"solidity\":0.2}},\"type\":\"bar\"}],\"barpolar\":[{\"marker\":{\"line\":{\"color\":\"#E5ECF6\",\"width\":0.5},\"pattern\":{\"fillmode\":\"overlay\",\"size\":10,\"solidity\":0.2}},\"type\":\"barpolar\"}],\"carpet\":[{\"aaxis\":{\"endlinecolor\":\"#2a3f5f\",\"gridcolor\":\"white\",\"linecolor\":\"white\",\"minorgridcolor\":\"white\",\"startlinecolor\":\"#2a3f5f\"},\"baxis\":{\"endlinecolor\":\"#2a3f5f\",\"gridcolor\":\"white\",\"linecolor\":\"white\",\"minorgridcolor\":\"white\",\"startlinecolor\":\"#2a3f5f\"},\"type\":\"carpet\"}],\"choropleth\":[{\"colorbar\":{\"outlinewidth\":0,\"ticks\":\"\"},\"type\":\"choropleth\"}],\"contour\":[{\"colorbar\":{\"outlinewidth\":0,\"ticks\":\"\"},\"colorscale\":[[0.0,\"#0d0887\"],[0.1111111111111111,\"#46039f\"],[0.2222222222222222,\"#7201a8\"],[0.3333333333333333,\"#9c179e\"],[0.4444444444444444,\"#bd3786\"],[0.5555555555555556,\"#d8576b\"],[0.6666666666666666,\"#ed7953\"],[0.7777777777777778,\"#fb9f3a\"],[0.8888888888888888,\"#fdca26\"],[1.0,\"#f0f921\"]],\"type\":\"contour\"}],\"contourcarpet\":[{\"colorbar\":{\"outlinewidth\":0,\"ticks\":\"\"},\"type\":\"contourcarpet\"}],\"heatmap\":[{\"colorbar\":{\"outlinewidth\":0,\"ticks\":\"\"},\"colorscale\":[[0.0,\"#0d0887\"],[0.1111111111111111,\"#46039f\"],[0.2222222222222222,\"#7201a8\"],[0.3333333333333333,\"#9c179e\"],[0.4444444444444444,\"#bd3786\"],[0.5555555555555556,\"#d8576b\"],[0.6666666666666666,\"#ed7953\"],[0.7777777777777778,\"#fb9f3a\"],[0.8888888888888888,\"#fdca26\"],[1.0,\"#f0f921\"]],\"type\":\"heatmap\"}],\"heatmapgl\":[{\"colorbar\":{\"outlinewidth\":0,\"ticks\":\"\"},\"colorscale\":[[0.0,\"#0d0887\"],[0.1111111111111111,\"#46039f\"],[0.2222222222222222,\"#7201a8\"],[0.3333333333333333,\"#9c179e\"],[0.4444444444444444,\"#bd3786\"],[0.5555555555555556,\"#d8576b\"],[0.6666666666666666,\"#ed7953\"],[0.7777777777777778,\"#fb9f3a\"],[0.8888888888888888,\"#fdca26\"],[1.0,\"#f0f921\"]],\"type\":\"heatmapgl\"}],\"histogram\":[{\"marker\":{\"pattern\":{\"fillmode\":\"overlay\",\"size\":10,\"solidity\":0.2}},\"type\":\"histogram\"}],\"histogram2d\":[{\"colorbar\":{\"outlinewidth\":0,\"ticks\":\"\"},\"colorscale\":[[0.0,\"#0d0887\"],[0.1111111111111111,\"#46039f\"],[0.2222222222222222,\"#7201a8\"],[0.3333333333333333,\"#9c179e\"],[0.4444444444444444,\"#bd3786\"],[0.5555555555555556,\"#d8576b\"],[0.6666666666666666,\"#ed7953\"],[0.7777777777777778,\"#fb9f3a\"],[0.8888888888888888,\"#fdca26\"],[1.0,\"#f0f921\"]],\"type\":\"histogram2d\"}],\"histogram2dcontour\":[{\"colorbar\":{\"outlinewidth\":0,\"ticks\":\"\"},\"colorscale\":[[0.0,\"#0d0887\"],[0.1111111111111111,\"#46039f\"],[0.2222222222222222,\"#7201a8\"],[0.3333333333333333,\"#9c179e\"],[0.4444444444444444,\"#bd3786\"],[0.5555555555555556,\"#d8576b\"],[0.6666666666666666,\"#ed7953\"],[0.7777777777777778,\"#fb9f3a\"],[0.8888888888888888,\"#fdca26\"],[1.0,\"#f0f921\"]],\"type\":\"histogram2dcontour\"}],\"mesh3d\":[{\"colorbar\":{\"outlinewidth\":0,\"ticks\":\"\"},\"type\":\"mesh3d\"}],\"parcoords\":[{\"line\":{\"colorbar\":{\"outlinewidth\":0,\"ticks\":\"\"}},\"type\":\"parcoords\"}],\"pie\":[{\"automargin\":true,\"type\":\"pie\"}],\"scatter\":[{\"marker\":{\"colorbar\":{\"outlinewidth\":0,\"ticks\":\"\"}},\"type\":\"scatter\"}],\"scatter3d\":[{\"line\":{\"colorbar\":{\"outlinewidth\":0,\"ticks\":\"\"}},\"marker\":{\"colorbar\":{\"outlinewidth\":0,\"ticks\":\"\"}},\"type\":\"scatter3d\"}],\"scattercarpet\":[{\"marker\":{\"colorbar\":{\"outlinewidth\":0,\"ticks\":\"\"}},\"type\":\"scattercarpet\"}],\"scattergeo\":[{\"marker\":{\"colorbar\":{\"outlinewidth\":0,\"ticks\":\"\"}},\"type\":\"scattergeo\"}],\"scattergl\":[{\"marker\":{\"colorbar\":{\"outlinewidth\":0,\"ticks\":\"\"}},\"type\":\"scattergl\"}],\"scattermapbox\":[{\"marker\":{\"colorbar\":{\"outlinewidth\":0,\"ticks\":\"\"}},\"type\":\"scattermapbox\"}],\"scatterpolar\":[{\"marker\":{\"colorbar\":{\"outlinewidth\":0,\"ticks\":\"\"}},\"type\":\"scatterpolar\"}],\"scatterpolargl\":[{\"marker\":{\"colorbar\":{\"outlinewidth\":0,\"ticks\":\"\"}},\"type\":\"scatterpolargl\"}],\"scatterternary\":[{\"marker\":{\"colorbar\":{\"outlinewidth\":0,\"ticks\":\"\"}},\"type\":\"scatterternary\"}],\"surface\":[{\"colorbar\":{\"outlinewidth\":0,\"ticks\":\"\"},\"colorscale\":[[0.0,\"#0d0887\"],[0.1111111111111111,\"#46039f\"],[0.2222222222222222,\"#7201a8\"],[0.3333333333333333,\"#9c179e\"],[0.4444444444444444,\"#bd3786\"],[0.5555555555555556,\"#d8576b\"],[0.6666666666666666,\"#ed7953\"],[0.7777777777777778,\"#fb9f3a\"],[0.8888888888888888,\"#fdca26\"],[1.0,\"#f0f921\"]],\"type\":\"surface\"}],\"table\":[{\"cells\":{\"fill\":{\"color\":\"#EBF0F8\"},\"line\":{\"color\":\"white\"}},\"header\":{\"fill\":{\"color\":\"#C8D4E3\"},\"line\":{\"color\":\"white\"}},\"type\":\"table\"}]},\"layout\":{\"annotationdefaults\":{\"arrowcolor\":\"#2a3f5f\",\"arrowhead\":0,\"arrowwidth\":1},\"autotypenumbers\":\"strict\",\"coloraxis\":{\"colorbar\":{\"outlinewidth\":0,\"ticks\":\"\"}},\"colorscale\":{\"diverging\":[[0,\"#8e0152\"],[0.1,\"#c51b7d\"],[0.2,\"#de77ae\"],[0.3,\"#f1b6da\"],[0.4,\"#fde0ef\"],[0.5,\"#f7f7f7\"],[0.6,\"#e6f5d0\"],[0.7,\"#b8e186\"],[0.8,\"#7fbc41\"],[0.9,\"#4d9221\"],[1,\"#276419\"]],\"sequential\":[[0.0,\"#0d0887\"],[0.1111111111111111,\"#46039f\"],[0.2222222222222222,\"#7201a8\"],[0.3333333333333333,\"#9c179e\"],[0.4444444444444444,\"#bd3786\"],[0.5555555555555556,\"#d8576b\"],[0.6666666666666666,\"#ed7953\"],[0.7777777777777778,\"#fb9f3a\"],[0.8888888888888888,\"#fdca26\"],[1.0,\"#f0f921\"]],\"sequentialminus\":[[0.0,\"#0d0887\"],[0.1111111111111111,\"#46039f\"],[0.2222222222222222,\"#7201a8\"],[0.3333333333333333,\"#9c179e\"],[0.4444444444444444,\"#bd3786\"],[0.5555555555555556,\"#d8576b\"],[0.6666666666666666,\"#ed7953\"],[0.7777777777777778,\"#fb9f3a\"],[0.8888888888888888,\"#fdca26\"],[1.0,\"#f0f921\"]]},\"colorway\":[\"#636efa\",\"#EF553B\",\"#00cc96\",\"#ab63fa\",\"#FFA15A\",\"#19d3f3\",\"#FF6692\",\"#B6E880\",\"#FF97FF\",\"#FECB52\"],\"font\":{\"color\":\"#2a3f5f\"},\"geo\":{\"bgcolor\":\"white\",\"lakecolor\":\"white\",\"landcolor\":\"#E5ECF6\",\"showlakes\":true,\"showland\":true,\"subunitcolor\":\"white\"},\"hoverlabel\":{\"align\":\"left\"},\"hovermode\":\"closest\",\"mapbox\":{\"style\":\"light\"},\"paper_bgcolor\":\"white\",\"plot_bgcolor\":\"#E5ECF6\",\"polar\":{\"angularaxis\":{\"gridcolor\":\"white\",\"linecolor\":\"white\",\"ticks\":\"\"},\"bgcolor\":\"#E5ECF6\",\"radialaxis\":{\"gridcolor\":\"white\",\"linecolor\":\"white\",\"ticks\":\"\"}},\"scene\":{\"xaxis\":{\"backgroundcolor\":\"#E5ECF6\",\"gridcolor\":\"white\",\"gridwidth\":2,\"linecolor\":\"white\",\"showbackground\":true,\"ticks\":\"\",\"zerolinecolor\":\"white\"},\"yaxis\":{\"backgroundcolor\":\"#E5ECF6\",\"gridcolor\":\"white\",\"gridwidth\":2,\"linecolor\":\"white\",\"showbackground\":true,\"ticks\":\"\",\"zerolinecolor\":\"white\"},\"zaxis\":{\"backgroundcolor\":\"#E5ECF6\",\"gridcolor\":\"white\",\"gridwidth\":2,\"linecolor\":\"white\",\"showbackground\":true,\"ticks\":\"\",\"zerolinecolor\":\"white\"}},\"shapedefaults\":{\"line\":{\"color\":\"#2a3f5f\"}},\"ternary\":{\"aaxis\":{\"gridcolor\":\"white\",\"linecolor\":\"white\",\"ticks\":\"\"},\"baxis\":{\"gridcolor\":\"white\",\"linecolor\":\"white\",\"ticks\":\"\"},\"bgcolor\":\"#E5ECF6\",\"caxis\":{\"gridcolor\":\"white\",\"linecolor\":\"white\",\"ticks\":\"\"}},\"title\":{\"x\":0.05},\"xaxis\":{\"automargin\":true,\"gridcolor\":\"white\",\"linecolor\":\"white\",\"ticks\":\"\",\"title\":{\"standoff\":15},\"zerolinecolor\":\"white\",\"zerolinewidth\":2},\"yaxis\":{\"automargin\":true,\"gridcolor\":\"white\",\"linecolor\":\"white\",\"ticks\":\"\",\"title\":{\"standoff\":15},\"zerolinecolor\":\"white\",\"zerolinewidth\":2}}},\"xaxis\":{\"anchor\":\"y\",\"domain\":[0.0,1.0],\"title\":{\"text\":\"number\"}},\"yaxis\":{\"anchor\":\"x\",\"domain\":[0.0,1.0],\"title\":{\"text\":\"stage\"}},\"legend\":{\"tracegroupgap\":0},\"margin\":{\"t\":60}},                        {\"responsive\": true}                    ).then(function(){\n",
              "                            \n",
              "var gd = document.getElementById('87dddd55-0ecc-4e62-9e78-c0a635b5168a');\n",
              "var x = new MutationObserver(function (mutations, observer) {{\n",
              "        var display = window.getComputedStyle(gd).display;\n",
              "        if (!display || display === 'none') {{\n",
              "            console.log([gd, 'removed!']);\n",
              "            Plotly.purge(gd);\n",
              "            observer.disconnect();\n",
              "        }}\n",
              "}});\n",
              "\n",
              "// Listen for the removal of the full notebook cells\n",
              "var notebookContainer = gd.closest('#notebook-container');\n",
              "if (notebookContainer) {{\n",
              "    x.observe(notebookContainer, {childList: true});\n",
              "}}\n",
              "\n",
              "// Listen for the clearing of the current output cell\n",
              "var outputEl = gd.closest('.output');\n",
              "if (outputEl) {{\n",
              "    x.observe(outputEl, {childList: true});\n",
              "}}\n",
              "\n",
              "                        })                };                            </script>        </div>\n",
              "</body>\n",
              "</html>"
            ]
          },
          "metadata": {}
        }
      ]
    },
    {
      "cell_type": "markdown",
      "source": [
        "## 2. 코호트 별 전환율 측정\n",
        "- 세부 코호트 별로 전환율을 측정하고 비교해본다. "
      ],
      "metadata": {
        "id": "xevW6rMZBUKC"
      }
    },
    {
      "cell_type": "markdown",
      "source": [
        "### 1) 유입 경로(origin) 별 전환율\n"
      ],
      "metadata": {
        "id": "tHFZGfptBiJC"
      }
    },
    {
      "cell_type": "markdown",
      "source": [
        "- 전체 전환율 (기간 무관)"
      ],
      "metadata": {
        "id": "p5ZmQixJCASE"
      }
    },
    {
      "cell_type": "code",
      "source": [
        "# 유입 경로 별 판매 셀러 수를 측정하기 위해 판매 이력이 있는 셀러들만 출력\n",
        "ordered_sellers_list = pd.DataFrame(mf_orders.loc[mf_orders['order_purchase_timestamp'].notna(), 'seller_id'])\n",
        "\n",
        "# mf_orders 테이블과 연동하여 판매 이력이 있는 셀러들로만 테이블 구성\n",
        "mf_orders_ordered_sellers = mf_orders.merge(ordered_sellers_list, how = 'inner', on = 'seller_id')"
      ],
      "metadata": {
        "id": "_zTeHZ7hDSL3"
      },
      "execution_count": null,
      "outputs": []
    },
    {
      "cell_type": "code",
      "source": [
        "# 유입 경로 별 리드, 셀러, 판매 셀러 수 측정\n",
        "\n",
        "# 리드 수\n",
        "lead_per_origin = pd.DataFrame(mf.groupby('origin')['mql_id'].count().sort_values(ascending = False)) \n",
        "lead_per_origin.rename(columns = {'mql_id' : 'leads'}, inplace = True)\n",
        "\n",
        "# 판매자 전환 수\n",
        "seller_per_origin = pd.DataFrame(mf.groupby('origin')['seller_id'].count().sort_values(ascending = False)) \n",
        "seller_per_origin.rename(columns = {'seller_id' : 'sellers_contracted'}, inplace = True)\n",
        "\n",
        "# 주문 전환 수\n",
        "seller_ordered_per_origin = pd.DataFrame(mf_orders_ordered_sellers.groupby('origin')['seller_id'].count().sort_values(ascending = False)) \n",
        "seller_ordered_per_origin.rename(columns = {'seller_id' : 'sellers_ordered'}, inplace = True)"
      ],
      "metadata": {
        "id": "BJdqXJu0uSxJ"
      },
      "execution_count": null,
      "outputs": []
    },
    {
      "cell_type": "code",
      "source": [
        "# 유입 경로 별 셀러 전환 수, 전환율 측정\n",
        "\n",
        "a = lead_per_origin.merge(seller_per_origin, how = 'left', on = 'origin')\n",
        "conversion_per_origin = a.merge(seller_ordered_per_origin, how = 'left', on = 'origin')\n",
        "conversion_per_origin['sellers_ordered'].fillna(0, inplace = True)\n",
        "conversion_per_origin['seller_conversion_rate(%)'] = conversion_per_origin['sellers_contracted'] / conversion_per_origin['leads'] * 100\n",
        "conversion_per_origin['order_conversion_rate(%)'] = conversion_per_origin['sellers_ordered'] / conversion_per_origin['sellers_contracted'] * 100\n",
        "conversion_per_origin"
      ],
      "metadata": {
        "id": "jFasCjsJwMe3",
        "colab": {
          "base_uri": "https://localhost:8080/",
          "height": 363
        },
        "outputId": "5a3fa63b-cdfe-4034-df9b-de90e9174990"
      },
      "execution_count": null,
      "outputs": [
        {
          "output_type": "execute_result",
          "data": {
            "text/plain": [
              "                   leads  sellers_contracted  sellers_ordered  \\\n",
              "origin                                                          \n",
              "organic_search      2296                 271            113.0   \n",
              "paid_search         1586                 195            101.0   \n",
              "social              1350                  75             31.0   \n",
              "unknown             1309                 197             87.0   \n",
              "direct_traffic       499                  56             31.0   \n",
              "email                493                  15              6.0   \n",
              "referral             284                  24              9.0   \n",
              "display              118                   6              2.0   \n",
              "other_publicities     65                   3              0.0   \n",
              "\n",
              "                   seller_conversion_rate(%)  order_conversion_rate(%)  \n",
              "origin                                                                  \n",
              "organic_search                     11.803136                 41.697417  \n",
              "paid_search                        12.295082                 51.794872  \n",
              "social                              5.555556                 41.333333  \n",
              "unknown                            15.049656                 44.162437  \n",
              "direct_traffic                     11.222445                 55.357143  \n",
              "email                               3.042596                 40.000000  \n",
              "referral                            8.450704                 37.500000  \n",
              "display                             5.084746                 33.333333  \n",
              "other_publicities                   4.615385                  0.000000  "
            ],
            "text/html": [
              "\n",
              "  <div id=\"df-2a221e70-68c4-416b-993f-13fb34929a14\">\n",
              "    <div class=\"colab-df-container\">\n",
              "      <div>\n",
              "<style scoped>\n",
              "    .dataframe tbody tr th:only-of-type {\n",
              "        vertical-align: middle;\n",
              "    }\n",
              "\n",
              "    .dataframe tbody tr th {\n",
              "        vertical-align: top;\n",
              "    }\n",
              "\n",
              "    .dataframe thead th {\n",
              "        text-align: right;\n",
              "    }\n",
              "</style>\n",
              "<table border=\"1\" class=\"dataframe\">\n",
              "  <thead>\n",
              "    <tr style=\"text-align: right;\">\n",
              "      <th></th>\n",
              "      <th>leads</th>\n",
              "      <th>sellers_contracted</th>\n",
              "      <th>sellers_ordered</th>\n",
              "      <th>seller_conversion_rate(%)</th>\n",
              "      <th>order_conversion_rate(%)</th>\n",
              "    </tr>\n",
              "    <tr>\n",
              "      <th>origin</th>\n",
              "      <th></th>\n",
              "      <th></th>\n",
              "      <th></th>\n",
              "      <th></th>\n",
              "      <th></th>\n",
              "    </tr>\n",
              "  </thead>\n",
              "  <tbody>\n",
              "    <tr>\n",
              "      <th>organic_search</th>\n",
              "      <td>2296</td>\n",
              "      <td>271</td>\n",
              "      <td>113.0</td>\n",
              "      <td>11.803136</td>\n",
              "      <td>41.697417</td>\n",
              "    </tr>\n",
              "    <tr>\n",
              "      <th>paid_search</th>\n",
              "      <td>1586</td>\n",
              "      <td>195</td>\n",
              "      <td>101.0</td>\n",
              "      <td>12.295082</td>\n",
              "      <td>51.794872</td>\n",
              "    </tr>\n",
              "    <tr>\n",
              "      <th>social</th>\n",
              "      <td>1350</td>\n",
              "      <td>75</td>\n",
              "      <td>31.0</td>\n",
              "      <td>5.555556</td>\n",
              "      <td>41.333333</td>\n",
              "    </tr>\n",
              "    <tr>\n",
              "      <th>unknown</th>\n",
              "      <td>1309</td>\n",
              "      <td>197</td>\n",
              "      <td>87.0</td>\n",
              "      <td>15.049656</td>\n",
              "      <td>44.162437</td>\n",
              "    </tr>\n",
              "    <tr>\n",
              "      <th>direct_traffic</th>\n",
              "      <td>499</td>\n",
              "      <td>56</td>\n",
              "      <td>31.0</td>\n",
              "      <td>11.222445</td>\n",
              "      <td>55.357143</td>\n",
              "    </tr>\n",
              "    <tr>\n",
              "      <th>email</th>\n",
              "      <td>493</td>\n",
              "      <td>15</td>\n",
              "      <td>6.0</td>\n",
              "      <td>3.042596</td>\n",
              "      <td>40.000000</td>\n",
              "    </tr>\n",
              "    <tr>\n",
              "      <th>referral</th>\n",
              "      <td>284</td>\n",
              "      <td>24</td>\n",
              "      <td>9.0</td>\n",
              "      <td>8.450704</td>\n",
              "      <td>37.500000</td>\n",
              "    </tr>\n",
              "    <tr>\n",
              "      <th>display</th>\n",
              "      <td>118</td>\n",
              "      <td>6</td>\n",
              "      <td>2.0</td>\n",
              "      <td>5.084746</td>\n",
              "      <td>33.333333</td>\n",
              "    </tr>\n",
              "    <tr>\n",
              "      <th>other_publicities</th>\n",
              "      <td>65</td>\n",
              "      <td>3</td>\n",
              "      <td>0.0</td>\n",
              "      <td>4.615385</td>\n",
              "      <td>0.000000</td>\n",
              "    </tr>\n",
              "  </tbody>\n",
              "</table>\n",
              "</div>\n",
              "      <button class=\"colab-df-convert\" onclick=\"convertToInteractive('df-2a221e70-68c4-416b-993f-13fb34929a14')\"\n",
              "              title=\"Convert this dataframe to an interactive table.\"\n",
              "              style=\"display:none;\">\n",
              "        \n",
              "  <svg xmlns=\"http://www.w3.org/2000/svg\" height=\"24px\"viewBox=\"0 0 24 24\"\n",
              "       width=\"24px\">\n",
              "    <path d=\"M0 0h24v24H0V0z\" fill=\"none\"/>\n",
              "    <path d=\"M18.56 5.44l.94 2.06.94-2.06 2.06-.94-2.06-.94-.94-2.06-.94 2.06-2.06.94zm-11 1L8.5 8.5l.94-2.06 2.06-.94-2.06-.94L8.5 2.5l-.94 2.06-2.06.94zm10 10l.94 2.06.94-2.06 2.06-.94-2.06-.94-.94-2.06-.94 2.06-2.06.94z\"/><path d=\"M17.41 7.96l-1.37-1.37c-.4-.4-.92-.59-1.43-.59-.52 0-1.04.2-1.43.59L10.3 9.45l-7.72 7.72c-.78.78-.78 2.05 0 2.83L4 21.41c.39.39.9.59 1.41.59.51 0 1.02-.2 1.41-.59l7.78-7.78 2.81-2.81c.8-.78.8-2.07 0-2.86zM5.41 20L4 18.59l7.72-7.72 1.47 1.35L5.41 20z\"/>\n",
              "  </svg>\n",
              "      </button>\n",
              "      \n",
              "  <style>\n",
              "    .colab-df-container {\n",
              "      display:flex;\n",
              "      flex-wrap:wrap;\n",
              "      gap: 12px;\n",
              "    }\n",
              "\n",
              "    .colab-df-convert {\n",
              "      background-color: #E8F0FE;\n",
              "      border: none;\n",
              "      border-radius: 50%;\n",
              "      cursor: pointer;\n",
              "      display: none;\n",
              "      fill: #1967D2;\n",
              "      height: 32px;\n",
              "      padding: 0 0 0 0;\n",
              "      width: 32px;\n",
              "    }\n",
              "\n",
              "    .colab-df-convert:hover {\n",
              "      background-color: #E2EBFA;\n",
              "      box-shadow: 0px 1px 2px rgba(60, 64, 67, 0.3), 0px 1px 3px 1px rgba(60, 64, 67, 0.15);\n",
              "      fill: #174EA6;\n",
              "    }\n",
              "\n",
              "    [theme=dark] .colab-df-convert {\n",
              "      background-color: #3B4455;\n",
              "      fill: #D2E3FC;\n",
              "    }\n",
              "\n",
              "    [theme=dark] .colab-df-convert:hover {\n",
              "      background-color: #434B5C;\n",
              "      box-shadow: 0px 1px 3px 1px rgba(0, 0, 0, 0.15);\n",
              "      filter: drop-shadow(0px 1px 2px rgba(0, 0, 0, 0.3));\n",
              "      fill: #FFFFFF;\n",
              "    }\n",
              "  </style>\n",
              "\n",
              "      <script>\n",
              "        const buttonEl =\n",
              "          document.querySelector('#df-2a221e70-68c4-416b-993f-13fb34929a14 button.colab-df-convert');\n",
              "        buttonEl.style.display =\n",
              "          google.colab.kernel.accessAllowed ? 'block' : 'none';\n",
              "\n",
              "        async function convertToInteractive(key) {\n",
              "          const element = document.querySelector('#df-2a221e70-68c4-416b-993f-13fb34929a14');\n",
              "          const dataTable =\n",
              "            await google.colab.kernel.invokeFunction('convertToInteractive',\n",
              "                                                     [key], {});\n",
              "          if (!dataTable) return;\n",
              "\n",
              "          const docLinkHtml = 'Like what you see? Visit the ' +\n",
              "            '<a target=\"_blank\" href=https://colab.research.google.com/notebooks/data_table.ipynb>data table notebook</a>'\n",
              "            + ' to learn more about interactive tables.';\n",
              "          element.innerHTML = '';\n",
              "          dataTable['output_type'] = 'display_data';\n",
              "          await google.colab.output.renderOutput(dataTable, element);\n",
              "          const docLink = document.createElement('div');\n",
              "          docLink.innerHTML = docLinkHtml;\n",
              "          element.appendChild(docLink);\n",
              "        }\n",
              "      </script>\n",
              "    </div>\n",
              "  </div>\n",
              "  "
            ]
          },
          "metadata": {},
          "execution_count": 34
        }
      ]
    },
    {
      "cell_type": "code",
      "source": [
        "# 시각화\n",
        "\n",
        "font_color = '#525252'\n",
        "hfont = {'fontname':'Calibri'}\n",
        "facecolor = '#eaeaf2'\n",
        "color_red = '#fd625e'\n",
        "color_blue = '#01b8aa'\n",
        "index = conversion_per_origin.index\n",
        "column0 = conversion_per_origin['seller_conversion_rate(%)']\n",
        "column1 = conversion_per_origin['order_conversion_rate(%)']\n",
        "title0 = 'seller_conversion_rate(%)'\n",
        "title1 = 'order_conversion_rate(%)'"
      ],
      "metadata": {
        "id": "SZLAG5KXCRs_"
      },
      "execution_count": null,
      "outputs": []
    },
    {
      "cell_type": "code",
      "source": [
        "fig, axes = plt.subplots(figsize=(10,5), facecolor=facecolor, ncols=2, sharey=True)\n",
        "fig.tight_layout()\n",
        "\n",
        "axes[0].barh(index, column0, align='center', color=color_red, zorder=10)\n",
        "axes[0].set_title(title0, fontsize=18, pad=15, color=color_red, **hfont)\n",
        "# ax.set_xlim(right=15)  # adjust xlim to fit labels\n",
        "axes[1].barh(index, column1, align='center', color=color_blue, zorder=10)\n",
        "axes[1].set_title(title1, fontsize=18, pad=15, color=color_blue, **hfont)\n",
        "\n",
        "# axes[0].invert_xaxis() \n",
        "# plt.gca().invert_yaxis()\n",
        "\n",
        "axes[0].set_xticklabels([10, 20, 30, 40, 50, 60, 70, 80, 90, 100])\n",
        "axes[1].set_xticklabels([10, 20, 30, 40, 50, 60, 70, 80, 90, 100])\n",
        "\n",
        "for label in (axes[0].get_xticklabels() + axes[0].get_yticklabels()):\n",
        "    label.set(fontsize=13, color=font_color, **hfont)\n",
        "for label in (axes[1].get_xticklabels() + axes[1].get_yticklabels()):\n",
        "    label.set(fontsize=13, color=font_color, **hfont)\n",
        "\n",
        "plt.subplots_adjust(wspace=0, top=0.85, bottom=0.1, left=0.18, right=0.95)\n",
        "\n",
        "\n",
        "plt.show()"
      ],
      "metadata": {
        "colab": {
          "base_uri": "https://localhost:8080/",
          "height": 350
        },
        "id": "sq-s5JHdJ-Pi",
        "outputId": "205f5a21-76cf-4876-98df-16a3d5feffe2"
      },
      "execution_count": null,
      "outputs": [
        {
          "output_type": "display_data",
          "data": {
            "text/plain": [
              "<Figure size 720x360 with 2 Axes>"
            ],
            "image/png": "[encoded data removed]"
          },
          "metadata": {}
        }
      ]
    },
    {
      "cell_type": "markdown",
      "source": [
        "### 2) landing_page_id 별 전환율 "
      ],
      "metadata": {
        "id": "hCgQcs3ML36i"
      }
    },
    {
      "cell_type": "code",
      "source": [
        "# 판매 이력이 있는 셀러 테이블 : mf_orders_ordered_sellers"
      ],
      "metadata": {
        "id": "iqyhTidr4S_0"
      },
      "execution_count": null,
      "outputs": []
    },
    {
      "cell_type": "code",
      "source": [
        "# landing_page_id 별 리드, 셀러, 판매 셀러 수 측정\n",
        "\n",
        "# 리드 수\n",
        "lead_per_landing = pd.DataFrame(mf.groupby('landing_page_id')['mql_id'].count().sort_values(ascending = False)) \n",
        "lead_per_landing.rename(columns = {'mql_id' : 'leads'}, inplace = True)\n",
        "\n",
        "# 판매자 전환 수\n",
        "seller_per_landing = pd.DataFrame(mf.groupby('landing_page_id')['seller_id'].count().sort_values(ascending = False)) \n",
        "seller_per_landing.rename(columns = {'seller_id' : 'sellers_contracted'}, inplace = True)\n",
        "\n",
        "# 주문 전환 수\n",
        "seller_ordered_per_landing = pd.DataFrame(mf_orders_ordered_sellers.groupby('landing_page_id')['seller_id'].count().sort_values(ascending = False)) \n",
        "seller_ordered_per_landing.rename(columns = {'seller_id' : 'sellers_ordered'}, inplace = True)"
      ],
      "metadata": {
        "id": "OI6nG2S64Ve3"
      },
      "execution_count": null,
      "outputs": []
    },
    {
      "cell_type": "code",
      "source": [
        "seller_ordered_per_landing"
      ],
      "metadata": {
        "colab": {
          "base_uri": "https://localhost:8080/",
          "height": 455
        },
        "id": "pKWO6MbY5Tt3",
        "outputId": "318ff171-ad71-43e1-cdf5-63fa3f6c837c"
      },
      "execution_count": null,
      "outputs": [
        {
          "output_type": "execute_result",
          "data": {
            "text/plain": [
              "                                  sellers_ordered\n",
              "landing_page_id                                  \n",
              "22c29808c4f815213303f8933030604c               82\n",
              "b76ef37428e6799c421989521c0e5077               81\n",
              "40dec9f3d5259a3d2dbcdab2114fae47               37\n",
              "ce1a65abd0973638f1c887a6efcfa82d               29\n",
              "88740e65d5d6b056e0cda098e1ea6313               14\n",
              "...                                           ...\n",
              "864a3926849a5f8043323b1a6ef0fb26                1\n",
              "36120633c8737035fbabf079082f4ec1                1\n",
              "8ff57dffc365fcb5233232fff6e6bfd0                1\n",
              "9fa37f5177115156b1814ffc237402a6                1\n",
              "fe82aeadeaea2186478fe6353d6d5301                1\n",
              "\n",
              "[75 rows x 1 columns]"
            ],
            "text/html": [
              "\n",
              "  <div id=\"df-443a0268-2038-4c40-80f2-1f47eb46930c\">\n",
              "    <div class=\"colab-df-container\">\n",
              "      <div>\n",
              "<style scoped>\n",
              "    .dataframe tbody tr th:only-of-type {\n",
              "        vertical-align: middle;\n",
              "    }\n",
              "\n",
              "    .dataframe tbody tr th {\n",
              "        vertical-align: top;\n",
              "    }\n",
              "\n",
              "    .dataframe thead th {\n",
              "        text-align: right;\n",
              "    }\n",
              "</style>\n",
              "<table border=\"1\" class=\"dataframe\">\n",
              "  <thead>\n",
              "    <tr style=\"text-align: right;\">\n",
              "      <th></th>\n",
              "      <th>sellers_ordered</th>\n",
              "    </tr>\n",
              "    <tr>\n",
              "      <th>landing_page_id</th>\n",
              "      <th></th>\n",
              "    </tr>\n",
              "  </thead>\n",
              "  <tbody>\n",
              "    <tr>\n",
              "      <th>22c29808c4f815213303f8933030604c</th>\n",
              "      <td>82</td>\n",
              "    </tr>\n",
              "    <tr>\n",
              "      <th>b76ef37428e6799c421989521c0e5077</th>\n",
              "      <td>81</td>\n",
              "    </tr>\n",
              "    <tr>\n",
              "      <th>40dec9f3d5259a3d2dbcdab2114fae47</th>\n",
              "      <td>37</td>\n",
              "    </tr>\n",
              "    <tr>\n",
              "      <th>ce1a65abd0973638f1c887a6efcfa82d</th>\n",
              "      <td>29</td>\n",
              "    </tr>\n",
              "    <tr>\n",
              "      <th>88740e65d5d6b056e0cda098e1ea6313</th>\n",
              "      <td>14</td>\n",
              "    </tr>\n",
              "    <tr>\n",
              "      <th>...</th>\n",
              "      <td>...</td>\n",
              "    </tr>\n",
              "    <tr>\n",
              "      <th>864a3926849a5f8043323b1a6ef0fb26</th>\n",
              "      <td>1</td>\n",
              "    </tr>\n",
              "    <tr>\n",
              "      <th>36120633c8737035fbabf079082f4ec1</th>\n",
              "      <td>1</td>\n",
              "    </tr>\n",
              "    <tr>\n",
              "      <th>8ff57dffc365fcb5233232fff6e6bfd0</th>\n",
              "      <td>1</td>\n",
              "    </tr>\n",
              "    <tr>\n",
              "      <th>9fa37f5177115156b1814ffc237402a6</th>\n",
              "      <td>1</td>\n",
              "    </tr>\n",
              "    <tr>\n",
              "      <th>fe82aeadeaea2186478fe6353d6d5301</th>\n",
              "      <td>1</td>\n",
              "    </tr>\n",
              "  </tbody>\n",
              "</table>\n",
              "<p>75 rows × 1 columns</p>\n",
              "</div>\n",
              "      <button class=\"colab-df-convert\" onclick=\"convertToInteractive('df-443a0268-2038-4c40-80f2-1f47eb46930c')\"\n",
              "              title=\"Convert this dataframe to an interactive table.\"\n",
              "              style=\"display:none;\">\n",
              "        \n",
              "  <svg xmlns=\"http://www.w3.org/2000/svg\" height=\"24px\"viewBox=\"0 0 24 24\"\n",
              "       width=\"24px\">\n",
              "    <path d=\"M0 0h24v24H0V0z\" fill=\"none\"/>\n",
              "    <path d=\"M18.56 5.44l.94 2.06.94-2.06 2.06-.94-2.06-.94-.94-2.06-.94 2.06-2.06.94zm-11 1L8.5 8.5l.94-2.06 2.06-.94-2.06-.94L8.5 2.5l-.94 2.06-2.06.94zm10 10l.94 2.06.94-2.06 2.06-.94-2.06-.94-.94-2.06-.94 2.06-2.06.94z\"/><path d=\"M17.41 7.96l-1.37-1.37c-.4-.4-.92-.59-1.43-.59-.52 0-1.04.2-1.43.59L10.3 9.45l-7.72 7.72c-.78.78-.78 2.05 0 2.83L4 21.41c.39.39.9.59 1.41.59.51 0 1.02-.2 1.41-.59l7.78-7.78 2.81-2.81c.8-.78.8-2.07 0-2.86zM5.41 20L4 18.59l7.72-7.72 1.47 1.35L5.41 20z\"/>\n",
              "  </svg>\n",
              "      </button>\n",
              "      \n",
              "  <style>\n",
              "    .colab-df-container {\n",
              "      display:flex;\n",
              "      flex-wrap:wrap;\n",
              "      gap: 12px;\n",
              "    }\n",
              "\n",
              "    .colab-df-convert {\n",
              "      background-color: #E8F0FE;\n",
              "      border: none;\n",
              "      border-radius: 50%;\n",
              "      cursor: pointer;\n",
              "      display: none;\n",
              "      fill: #1967D2;\n",
              "      height: 32px;\n",
              "      padding: 0 0 0 0;\n",
              "      width: 32px;\n",
              "    }\n",
              "\n",
              "    .colab-df-convert:hover {\n",
              "      background-color: #E2EBFA;\n",
              "      box-shadow: 0px 1px 2px rgba(60, 64, 67, 0.3), 0px 1px 3px 1px rgba(60, 64, 67, 0.15);\n",
              "      fill: #174EA6;\n",
              "    }\n",
              "\n",
              "    [theme=dark] .colab-df-convert {\n",
              "      background-color: #3B4455;\n",
              "      fill: #D2E3FC;\n",
              "    }\n",
              "\n",
              "    [theme=dark] .colab-df-convert:hover {\n",
              "      background-color: #434B5C;\n",
              "      box-shadow: 0px 1px 3px 1px rgba(0, 0, 0, 0.15);\n",
              "      filter: drop-shadow(0px 1px 2px rgba(0, 0, 0, 0.3));\n",
              "      fill: #FFFFFF;\n",
              "    }\n",
              "  </style>\n",
              "\n",
              "      <script>\n",
              "        const buttonEl =\n",
              "          document.querySelector('#df-443a0268-2038-4c40-80f2-1f47eb46930c button.colab-df-convert');\n",
              "        buttonEl.style.display =\n",
              "          google.colab.kernel.accessAllowed ? 'block' : 'none';\n",
              "\n",
              "        async function convertToInteractive(key) {\n",
              "          const element = document.querySelector('#df-443a0268-2038-4c40-80f2-1f47eb46930c');\n",
              "          const dataTable =\n",
              "            await google.colab.kernel.invokeFunction('convertToInteractive',\n",
              "                                                     [key], {});\n",
              "          if (!dataTable) return;\n",
              "\n",
              "          const docLinkHtml = 'Like what you see? Visit the ' +\n",
              "            '<a target=\"_blank\" href=https://colab.research.google.com/notebooks/data_table.ipynb>data table notebook</a>'\n",
              "            + ' to learn more about interactive tables.';\n",
              "          element.innerHTML = '';\n",
              "          dataTable['output_type'] = 'display_data';\n",
              "          await google.colab.output.renderOutput(dataTable, element);\n",
              "          const docLink = document.createElement('div');\n",
              "          docLink.innerHTML = docLinkHtml;\n",
              "          element.appendChild(docLink);\n",
              "        }\n",
              "      </script>\n",
              "    </div>\n",
              "  </div>\n",
              "  "
            ]
          },
          "metadata": {},
          "execution_count": 49
        }
      ]
    },
    {
      "cell_type": "code",
      "source": [
        "# 유입 경로 별 셀러 전환 수, 전환율 측정\n",
        "\n",
        "c = lead_per_landing.merge(seller_per_landing, how = 'left', on = 'landing_page_id')\n",
        "conversion_per_landing = c.merge(seller_ordered_per_landing, how = 'left', on = 'landing_page_id')\n",
        "conversion_per_landing['sellers_ordered'].fillna(0, inplace = True)\n",
        "conversion_per_landing['seller_conversion_rate(%)'] = conversion_per_landing['sellers_contracted'] / conversion_per_landing['leads'] * 100\n",
        "conversion_per_landing['order_conversion_rate(%)'] = conversion_per_landing['sellers_ordered'] / conversion_per_landing['sellers_contracted'] * 100\n",
        "conversion_per_landing"
      ],
      "metadata": {
        "colab": {
          "base_uri": "https://localhost:8080/",
          "height": 455
        },
        "id": "886SG58I4Xn2",
        "outputId": "c6342646-1bef-4c97-b881-ed9f276311b3"
      },
      "execution_count": null,
      "outputs": [
        {
          "output_type": "execute_result",
          "data": {
            "text/plain": [
              "                                  leads  sellers_contracted  sellers_ordered  \\\n",
              "landing_page_id                                                                \n",
              "b76ef37428e6799c421989521c0e5077    912                 171             81.0   \n",
              "22c29808c4f815213303f8933030604c    883                 174             82.0   \n",
              "58326e62183c14b0c03085c33b9fdc44    495                  27             11.0   \n",
              "88740e65d5d6b056e0cda098e1ea6313    445                  31             14.0   \n",
              "ce1a65abd0973638f1c887a6efcfa82d    394                  59             29.0   \n",
              "...                                 ...                 ...              ...   \n",
              "2204d1cf0ec6a0cf20f7342e99d88ec8      1                   0              0.0   \n",
              "8345a83d419160e69c0501b494dadfa6      1                   0              0.0   \n",
              "83355a82a9cee26f3ba2b186ddb0bbbe      1                   1              0.0   \n",
              "83157507fbc1ecbd1a32bf69812e8a16      1                   0              0.0   \n",
              "ffc62d6945fd1423539ec6d96326c37c      1                   1              0.0   \n",
              "\n",
              "                                  seller_conversion_rate(%)  \\\n",
              "landing_page_id                                               \n",
              "b76ef37428e6799c421989521c0e5077                  18.750000   \n",
              "22c29808c4f815213303f8933030604c                  19.705549   \n",
              "58326e62183c14b0c03085c33b9fdc44                   5.454545   \n",
              "88740e65d5d6b056e0cda098e1ea6313                   6.966292   \n",
              "ce1a65abd0973638f1c887a6efcfa82d                  14.974619   \n",
              "...                                                     ...   \n",
              "2204d1cf0ec6a0cf20f7342e99d88ec8                   0.000000   \n",
              "8345a83d419160e69c0501b494dadfa6                   0.000000   \n",
              "83355a82a9cee26f3ba2b186ddb0bbbe                 100.000000   \n",
              "83157507fbc1ecbd1a32bf69812e8a16                   0.000000   \n",
              "ffc62d6945fd1423539ec6d96326c37c                 100.000000   \n",
              "\n",
              "                                  order_conversion_rate(%)  \n",
              "landing_page_id                                             \n",
              "b76ef37428e6799c421989521c0e5077                 47.368421  \n",
              "22c29808c4f815213303f8933030604c                 47.126437  \n",
              "58326e62183c14b0c03085c33b9fdc44                 40.740741  \n",
              "88740e65d5d6b056e0cda098e1ea6313                 45.161290  \n",
              "ce1a65abd0973638f1c887a6efcfa82d                 49.152542  \n",
              "...                                                    ...  \n",
              "2204d1cf0ec6a0cf20f7342e99d88ec8                       NaN  \n",
              "8345a83d419160e69c0501b494dadfa6                       NaN  \n",
              "83355a82a9cee26f3ba2b186ddb0bbbe                  0.000000  \n",
              "83157507fbc1ecbd1a32bf69812e8a16                       NaN  \n",
              "ffc62d6945fd1423539ec6d96326c37c                  0.000000  \n",
              "\n",
              "[495 rows x 5 columns]"
            ],
            "text/html": [
              "\n",
              "  <div id=\"df-12b3cb90-295c-4d85-934e-f08eb2dcf947\">\n",
              "    <div class=\"colab-df-container\">\n",
              "      <div>\n",
              "<style scoped>\n",
              "    .dataframe tbody tr th:only-of-type {\n",
              "        vertical-align: middle;\n",
              "    }\n",
              "\n",
              "    .dataframe tbody tr th {\n",
              "        vertical-align: top;\n",
              "    }\n",
              "\n",
              "    .dataframe thead th {\n",
              "        text-align: right;\n",
              "    }\n",
              "</style>\n",
              "<table border=\"1\" class=\"dataframe\">\n",
              "  <thead>\n",
              "    <tr style=\"text-align: right;\">\n",
              "      <th></th>\n",
              "      <th>leads</th>\n",
              "      <th>sellers_contracted</th>\n",
              "      <th>sellers_ordered</th>\n",
              "      <th>seller_conversion_rate(%)</th>\n",
              "      <th>order_conversion_rate(%)</th>\n",
              "    </tr>\n",
              "    <tr>\n",
              "      <th>landing_page_id</th>\n",
              "      <th></th>\n",
              "      <th></th>\n",
              "      <th></th>\n",
              "      <th></th>\n",
              "      <th></th>\n",
              "    </tr>\n",
              "  </thead>\n",
              "  <tbody>\n",
              "    <tr>\n",
              "      <th>b76ef37428e6799c421989521c0e5077</th>\n",
              "      <td>912</td>\n",
              "      <td>171</td>\n",
              "      <td>81.0</td>\n",
              "      <td>18.750000</td>\n",
              "      <td>47.368421</td>\n",
              "    </tr>\n",
              "    <tr>\n",
              "      <th>22c29808c4f815213303f8933030604c</th>\n",
              "      <td>883</td>\n",
              "      <td>174</td>\n",
              "      <td>82.0</td>\n",
              "      <td>19.705549</td>\n",
              "      <td>47.126437</td>\n",
              "    </tr>\n",
              "    <tr>\n",
              "      <th>58326e62183c14b0c03085c33b9fdc44</th>\n",
              "      <td>495</td>\n",
              "      <td>27</td>\n",
              "      <td>11.0</td>\n",
              "      <td>5.454545</td>\n",
              "      <td>40.740741</td>\n",
              "    </tr>\n",
              "    <tr>\n",
              "      <th>88740e65d5d6b056e0cda098e1ea6313</th>\n",
              "      <td>445</td>\n",
              "      <td>31</td>\n",
              "      <td>14.0</td>\n",
              "      <td>6.966292</td>\n",
              "      <td>45.161290</td>\n",
              "    </tr>\n",
              "    <tr>\n",
              "      <th>ce1a65abd0973638f1c887a6efcfa82d</th>\n",
              "      <td>394</td>\n",
              "      <td>59</td>\n",
              "      <td>29.0</td>\n",
              "      <td>14.974619</td>\n",
              "      <td>49.152542</td>\n",
              "    </tr>\n",
              "    <tr>\n",
              "      <th>...</th>\n",
              "      <td>...</td>\n",
              "      <td>...</td>\n",
              "      <td>...</td>\n",
              "      <td>...</td>\n",
              "      <td>...</td>\n",
              "    </tr>\n",
              "    <tr>\n",
              "      <th>2204d1cf0ec6a0cf20f7342e99d88ec8</th>\n",
              "      <td>1</td>\n",
              "      <td>0</td>\n",
              "      <td>0.0</td>\n",
              "      <td>0.000000</td>\n",
              "      <td>NaN</td>\n",
              "    </tr>\n",
              "    <tr>\n",
              "      <th>8345a83d419160e69c0501b494dadfa6</th>\n",
              "      <td>1</td>\n",
              "      <td>0</td>\n",
              "      <td>0.0</td>\n",
              "      <td>0.000000</td>\n",
              "      <td>NaN</td>\n",
              "    </tr>\n",
              "    <tr>\n",
              "      <th>83355a82a9cee26f3ba2b186ddb0bbbe</th>\n",
              "      <td>1</td>\n",
              "      <td>1</td>\n",
              "      <td>0.0</td>\n",
              "      <td>100.000000</td>\n",
              "      <td>0.000000</td>\n",
              "    </tr>\n",
              "    <tr>\n",
              "      <th>83157507fbc1ecbd1a32bf69812e8a16</th>\n",
              "      <td>1</td>\n",
              "      <td>0</td>\n",
              "      <td>0.0</td>\n",
              "      <td>0.000000</td>\n",
              "      <td>NaN</td>\n",
              "    </tr>\n",
              "    <tr>\n",
              "      <th>ffc62d6945fd1423539ec6d96326c37c</th>\n",
              "      <td>1</td>\n",
              "      <td>1</td>\n",
              "      <td>0.0</td>\n",
              "      <td>100.000000</td>\n",
              "      <td>0.000000</td>\n",
              "    </tr>\n",
              "  </tbody>\n",
              "</table>\n",
              "<p>495 rows × 5 columns</p>\n",
              "</div>\n",
              "      <button class=\"colab-df-convert\" onclick=\"convertToInteractive('df-12b3cb90-295c-4d85-934e-f08eb2dcf947')\"\n",
              "              title=\"Convert this dataframe to an interactive table.\"\n",
              "              style=\"display:none;\">\n",
              "        \n",
              "  <svg xmlns=\"http://www.w3.org/2000/svg\" height=\"24px\"viewBox=\"0 0 24 24\"\n",
              "       width=\"24px\">\n",
              "    <path d=\"M0 0h24v24H0V0z\" fill=\"none\"/>\n",
              "    <path d=\"M18.56 5.44l.94 2.06.94-2.06 2.06-.94-2.06-.94-.94-2.06-.94 2.06-2.06.94zm-11 1L8.5 8.5l.94-2.06 2.06-.94-2.06-.94L8.5 2.5l-.94 2.06-2.06.94zm10 10l.94 2.06.94-2.06 2.06-.94-2.06-.94-.94-2.06-.94 2.06-2.06.94z\"/><path d=\"M17.41 7.96l-1.37-1.37c-.4-.4-.92-.59-1.43-.59-.52 0-1.04.2-1.43.59L10.3 9.45l-7.72 7.72c-.78.78-.78 2.05 0 2.83L4 21.41c.39.39.9.59 1.41.59.51 0 1.02-.2 1.41-.59l7.78-7.78 2.81-2.81c.8-.78.8-2.07 0-2.86zM5.41 20L4 18.59l7.72-7.72 1.47 1.35L5.41 20z\"/>\n",
              "  </svg>\n",
              "      </button>\n",
              "      \n",
              "  <style>\n",
              "    .colab-df-container {\n",
              "      display:flex;\n",
              "      flex-wrap:wrap;\n",
              "      gap: 12px;\n",
              "    }\n",
              "\n",
              "    .colab-df-convert {\n",
              "      background-color: #E8F0FE;\n",
              "      border: none;\n",
              "      border-radius: 50%;\n",
              "      cursor: pointer;\n",
              "      display: none;\n",
              "      fill: #1967D2;\n",
              "      height: 32px;\n",
              "      padding: 0 0 0 0;\n",
              "      width: 32px;\n",
              "    }\n",
              "\n",
              "    .colab-df-convert:hover {\n",
              "      background-color: #E2EBFA;\n",
              "      box-shadow: 0px 1px 2px rgba(60, 64, 67, 0.3), 0px 1px 3px 1px rgba(60, 64, 67, 0.15);\n",
              "      fill: #174EA6;\n",
              "    }\n",
              "\n",
              "    [theme=dark] .colab-df-convert {\n",
              "      background-color: #3B4455;\n",
              "      fill: #D2E3FC;\n",
              "    }\n",
              "\n",
              "    [theme=dark] .colab-df-convert:hover {\n",
              "      background-color: #434B5C;\n",
              "      box-shadow: 0px 1px 3px 1px rgba(0, 0, 0, 0.15);\n",
              "      filter: drop-shadow(0px 1px 2px rgba(0, 0, 0, 0.3));\n",
              "      fill: #FFFFFF;\n",
              "    }\n",
              "  </style>\n",
              "\n",
              "      <script>\n",
              "        const buttonEl =\n",
              "          document.querySelector('#df-12b3cb90-295c-4d85-934e-f08eb2dcf947 button.colab-df-convert');\n",
              "        buttonEl.style.display =\n",
              "          google.colab.kernel.accessAllowed ? 'block' : 'none';\n",
              "\n",
              "        async function convertToInteractive(key) {\n",
              "          const element = document.querySelector('#df-12b3cb90-295c-4d85-934e-f08eb2dcf947');\n",
              "          const dataTable =\n",
              "            await google.colab.kernel.invokeFunction('convertToInteractive',\n",
              "                                                     [key], {});\n",
              "          if (!dataTable) return;\n",
              "\n",
              "          const docLinkHtml = 'Like what you see? Visit the ' +\n",
              "            '<a target=\"_blank\" href=https://colab.research.google.com/notebooks/data_table.ipynb>data table notebook</a>'\n",
              "            + ' to learn more about interactive tables.';\n",
              "          element.innerHTML = '';\n",
              "          dataTable['output_type'] = 'display_data';\n",
              "          await google.colab.output.renderOutput(dataTable, element);\n",
              "          const docLink = document.createElement('div');\n",
              "          docLink.innerHTML = docLinkHtml;\n",
              "          element.appendChild(docLink);\n",
              "        }\n",
              "      </script>\n",
              "    </div>\n",
              "  </div>\n",
              "  "
            ]
          },
          "metadata": {},
          "execution_count": 51
        }
      ]
    },
    {
      "cell_type": "code",
      "source": [
        "# 시각화\n",
        "\n",
        "font_color = '#525252'\n",
        "hfont = {'fontname':'Calibri'}\n",
        "facecolor = '#eaeaf2'\n",
        "color_red = '#fd625e'\n",
        "color_blue = '#01b8aa'\n",
        "index = conversion_per_landing.index\n",
        "column0 = conversion_per_landing['seller_conversion_rate(%)']\n",
        "column1 = conversion_per_landing['order_conversion_rate(%)']\n",
        "title0 = 'seller_conversion_rate(%)'\n",
        "title1 = 'order_conversion_rate(%)'"
      ],
      "metadata": {
        "id": "tQ6WZl9_4cLO"
      },
      "execution_count": null,
      "outputs": []
    },
    {
      "cell_type": "code",
      "source": [
        "fig, axes = plt.subplots(figsize=(10,5), facecolor=facecolor, ncols=2, sharey=True)\n",
        "fig.tight_layout()\n",
        "\n",
        "axes[0].barh(index, column0, align='center', color=color_red, zorder=10)\n",
        "axes[0].set_title(title0, fontsize=18, pad=15, color=color_red, **hfont)\n",
        "# ax.set_xlim(right=15)  # adjust xlim to fit labels\n",
        "axes[1].barh(index, column1, align='center', color=color_blue, zorder=10)\n",
        "axes[1].set_title(title1, fontsize=18, pad=15, color=color_blue, **hfont)\n",
        "\n",
        "# axes[0].invert_xaxis() \n",
        "# plt.gca().invert_yaxis()\n",
        "\n",
        "axes[0].set_xticklabels([10, 20, 30, 40, 50, 60, 70, 80, 90, 100])\n",
        "axes[1].set_xticklabels([10, 20, 30, 40, 50, 60, 70, 80, 90, 100])\n",
        "\n",
        "for label in (axes[0].get_xticklabels() + axes[0].get_yticklabels()):\n",
        "    label.set(fontsize=13, color=font_color, **hfont)\n",
        "for label in (axes[1].get_xticklabels() + axes[1].get_yticklabels()):\n",
        "    label.set(fontsize=13, color=font_color, **hfont)\n",
        "\n",
        "plt.subplots_adjust(wspace=0, top=0.85, bottom=0.1, left=0.18, right=0.95)\n",
        "\n",
        "\n",
        "plt.show()"
      ],
      "metadata": {
        "colab": {
          "base_uri": "https://localhost:8080/",
          "height": 350
        },
        "id": "aGOswKZF4eJR",
        "outputId": "511827be-3656-4642-8e64-2934d7c8d8d9"
      },
      "execution_count": null,
      "outputs": [
        {
          "output_type": "display_data",
          "data": {
            "text/plain": [
              "<Figure size 720x360 with 2 Axes>"
            ],
            "image/png": "[encoded data removed]"
          },
          "metadata": {}
        }
      ]
    },
    {
      "cell_type": "code",
      "source": [
        "# 랜딩 페이지 수가 너무 많아 비교가 어려우므로, 50명 이상이 본 페이지로만 한정해서 보면\n",
        "mf_landing_cut = pd.DataFrame(mf.groupby('landing_page_id')['mql_id'].count())\n",
        "mf_landing_cut.rename(columns = {'mql_id':'leads'}, inplace = True)\n",
        "\n",
        "# mf 테이블과 결합\n",
        "mf_landing = mf.merge(mf_landing_cut, how = 'inner', on = 'landing_page_id')\n",
        "mf_landing_final = mf_landing.loc[mf_landing['leads'] >= 50]\n",
        "\n",
        "# mf_orders_ordered_sellers 테이블과 결합\n",
        "mf_orders_landing = mf_orders_ordered_sellers.merge(mf_landing_cut, how = 'inner', on = 'landing_page_id')\n",
        "mf_orders_landing_final = mf_orders_landing.loc[mf_landing['leads'] >= 50]\n",
        "\n",
        "\n",
        "\n",
        "# landing_page_id 별 리드, 셀러, 판매 셀러 수 측정\n",
        "# 리드 수\n",
        "lead_per_landing_50 = pd.DataFrame(mf_landing_final.groupby('landing_page_id')['mql_id'].count().sort_values(ascending = False)) \n",
        "lead_per_landing_50.rename(columns = {'mql_id' : 'leads'}, inplace = True)\n",
        "\n",
        "# 판매자 전환 수\n",
        "seller_per_landing_50 = pd.DataFrame(mf_landing_final.groupby('landing_page_id')['seller_id'].count().sort_values(ascending = False)) \n",
        "seller_per_landing_50.rename(columns = {'seller_id' : 'sellers_contracted'}, inplace = True)\n",
        "\n",
        "# 주문 전환 수\n",
        "seller_ordered_per_landing_50 = pd.DataFrame(mf_orders_landing_final.groupby('landing_page_id')['seller_id'].count().sort_values(ascending = False)) \n",
        "seller_ordered_per_landing_50.rename(columns = {'seller_id' : 'sellers_ordered'}, inplace = True)"
      ],
      "metadata": {
        "id": "tSuUP9XwAmoq"
      },
      "execution_count": null,
      "outputs": []
    },
    {
      "cell_type": "markdown",
      "source": [
        "### 3) first_contact_date 별 전환율"
      ],
      "metadata": {
        "id": "YMdhZvWJNIsZ"
      }
    },
    {
      "cell_type": "code",
      "source": [
        "# \n",
        "b = pd.to_datetime(mf_orders['first_contact_date']).dt.to_period('M')\n",
        "b"
      ],
      "metadata": {
        "colab": {
          "base_uri": "https://localhost:8080/"
        },
        "id": "FEOIBGWgzmgW",
        "outputId": "c01cabd0-af28-4cac-b440-84cf79d343f2"
      },
      "execution_count": null,
      "outputs": [
        {
          "output_type": "execute_result",
          "data": {
            "text/plain": [
              "0       2018-02\n",
              "1       2017-10\n",
              "2       2018-03\n",
              "3       2018-01\n",
              "4       2018-02\n",
              "         ...   \n",
              "7995    2018-05\n",
              "7996    2018-03\n",
              "7997    2017-08\n",
              "7998    2017-10\n",
              "7999    2018-01\n",
              "Name: first_contact_date, Length: 8000, dtype: period[M]"
            ]
          },
          "metadata": {},
          "execution_count": 39
        }
      ]
    },
    {
      "cell_type": "code",
      "source": [],
      "metadata": {
        "id": "YnOY2Wvczo8_"
      },
      "execution_count": null,
      "outputs": []
    }
  ]
}